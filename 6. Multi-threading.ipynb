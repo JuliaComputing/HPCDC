{
 "cells": [
  {
   "cell_type": "markdown",
   "metadata": {},
   "source": [
    "# Multi-threading in Julia\n",
    "\n",
    "Multi-threading in Julia is still experimental. But you can still get some pretty good speedups with very little to no effort.\n",
    "\n",
    "First, load the threading module:"
   ]
  },
  {
   "cell_type": "code",
   "execution_count": 1,
   "metadata": {
    "collapsed": true
   },
   "outputs": [],
   "source": [
    "using Base.Threads"
   ]
  },
  {
   "cell_type": "markdown",
   "metadata": {},
   "source": [
    "`nthreads()` tells you how many threads you've started Julia up with. "
   ]
  },
  {
   "cell_type": "code",
   "execution_count": null,
   "metadata": {
    "collapsed": true
   },
   "outputs": [],
   "source": [
    "nthreads()"
   ]
  },
  {
   "cell_type": "markdown",
   "metadata": {},
   "source": [
    "To demonstrate its usage, here's a quick example: "
   ]
  },
  {
   "cell_type": "code",
   "execution_count": null,
   "metadata": {
    "collapsed": true
   },
   "outputs": [],
   "source": [
    "a = rand(10)"
   ]
  },
  {
   "cell_type": "markdown",
   "metadata": {},
   "source": [
    "Let us modify this code in place by adding 1 to each element, using a for loop:"
   ]
  },
  {
   "cell_type": "code",
   "execution_count": null,
   "metadata": {
    "collapsed": true
   },
   "outputs": [],
   "source": [
    "for i = 1:size(a,1)\n",
    "    a[i] = a[i] + 1\n",
    "end"
   ]
  },
  {
   "cell_type": "code",
   "execution_count": null,
   "metadata": {
    "collapsed": true
   },
   "outputs": [],
   "source": [
    "@threads for i = 1:size(a, 1)\n",
    "    a[i] = a[i] + 1\n",
    "end"
   ]
  },
  {
   "cell_type": "markdown",
   "metadata": {},
   "source": [
    "Let's check if it works:"
   ]
  },
  {
   "cell_type": "code",
   "execution_count": null,
   "metadata": {
    "collapsed": true
   },
   "outputs": [],
   "source": [
    "a"
   ]
  },
  {
   "cell_type": "markdown",
   "metadata": {},
   "source": [
    "## An Example: BlackScholes \n",
    "\n",
    "Now let's consider a bigger example: a simple Blackscholes kernel, widely used in finance. The following code evaluates the cost of a put option:"
   ]
  },
  {
   "cell_type": "code",
   "execution_count": null,
   "metadata": {
    "collapsed": true
   },
   "outputs": [],
   "source": [
    "using SpecialFunctions\n",
    "@inline function cndf2(in::Array{Float64,1})\n",
    "    out = 0.5 .+ 0.5 .* erf(0.707106781 .* in)\n",
    "    return out\n",
    "end"
   ]
  },
  {
   "cell_type": "code",
   "execution_count": null,
   "metadata": {
    "collapsed": true
   },
   "outputs": [],
   "source": [
    "function blackscholes(sptprice::Float64,\n",
    "                 strike::Vector{Float64},\n",
    "                 rate::Float64,\n",
    "                 volatility::Float64,\n",
    "                 time::Float64)\n",
    "     sqt = sqrt(time)\n",
    "     put = similar(strike)\n",
    "     for i = 1:size(strike, 1)\n",
    "         logterm = log10(sptprice / strike[i])\n",
    "         powterm = 0.5 * volatility * volatility\n",
    "         den = volatility * sqt\n",
    "         d1 = (((rate + powterm) * time) + logterm) / den\n",
    "         d2 = d1 - den\n",
    "         NofXd1 = 0.5 + 0.5 * erf(0.707106781 * d1)\n",
    "         NofXd2 = 0.5 + 0.5 * erf(0.707106781 * d2)\n",
    "         futureValue = strike[i] * exp(-rate * time)\n",
    "         c1 = futureValue * NofXd2\n",
    "         call_ = sptprice * NofXd1 - c1\n",
    "         put[i] = call_ - futureValue + sptprice\n",
    "     end\n",
    "     put\n",
    " end"
   ]
  },
  {
   "cell_type": "markdown",
   "metadata": {},
   "source": [
    "As you might have noticed, there is abundant data parallelism which we can take advantage of. "
   ]
  },
  {
   "cell_type": "code",
   "execution_count": null,
   "metadata": {
    "collapsed": true
   },
   "outputs": [],
   "source": [
    "function blackscholes_parallel(sptprice::Float64,\n",
    "                 strike::Vector{Float64},\n",
    "                 rate::Float64,\n",
    "                 volatility::Float64,\n",
    "                 time::Float64)\n",
    "     sqt = sqrt(time)\n",
    "     put = similar(strike)\n",
    "     @threads for i = 1:size(strike, 1)\n",
    "         logterm = log10(sptprice / strike[i])\n",
    "         powterm = 0.5 * volatility * volatility\n",
    "         den = volatility * sqt\n",
    "         d1 = (((rate + powterm) * time) + logterm) / den\n",
    "         d2 = d1 - den\n",
    "         NofXd1 = 0.5 + 0.5 * erf(0.707106781 * d1)\n",
    "         NofXd2 = 0.5 + 0.5 * erf(0.707106781 * d2)\n",
    "         futureValue = strike[i] * exp(-rate * time)\n",
    "         c1 = futureValue * NofXd2\n",
    "         call_ = sptprice * NofXd1 - c1\n",
    "         put[i] = call_ - futureValue + sptprice\n",
    "     end\n",
    "     put\n",
    " end"
   ]
  },
  {
   "cell_type": "markdown",
   "metadata": {},
   "source": [
    "Let's set up our variables:"
   ]
  },
  {
   "cell_type": "code",
   "execution_count": null,
   "metadata": {
    "collapsed": true
   },
   "outputs": [],
   "source": [
    "function run(iterations)\n",
    "     sptprice   = 42.0\n",
    "     initStrike = Float64[ 40.0 + (i / iterations) for i = 1:iterations ]\n",
    "     rate       = 0.5\n",
    "     volatility = 0.2\n",
    "     time       = 0.5\n",
    " \n",
    "     tic()\n",
    "     put1 = blackscholes(sptprice, initStrike, rate, volatility, time)\n",
    "     t1 = toq()\n",
    "     println(\"Serial checksum: \", sum(put1))\n",
    "     tic()\n",
    "     put2 = blackscholes_parallel(sptprice, initStrike, rate, volatility, time)\n",
    "     t2 = toq()\n",
    "     println(\"Parallel checksum: \", sum(put2))\n",
    "     return t1, t2\n",
    " end"
   ]
  },
  {
   "cell_type": "markdown",
   "metadata": {},
   "source": [
    "And have a simple driver function like so. Do we see any scaling? "
   ]
  },
  {
   "cell_type": "code",
   "execution_count": null,
   "metadata": {
    "collapsed": true
   },
   "outputs": [],
   "source": [
    "function driver()\n",
    "     srand(0)\n",
    "     tic()\n",
    "     iterations = 10^6\n",
    "     blackscholes(0., Float64[], 0., 0., 0.)\n",
    "     blackscholes_parallel(0., Float64[], 0., 0., 0.)\n",
    "     println(\"SELFPRIMED \", toq())\n",
    "     tserial, tparallel = run(iterations)\n",
    "     println(\"Time taken for serial = $tserial\")\n",
    "     println(\"Time taken for parallel = $tparallel\")\n",
    "     println(\"Speedup over $(nthreads()) threads = $(tserial/tparallel)\")\n",
    "     println(\"Serial rate = \", iterations / tserial, \" opts/sec\")\n",
    "     println(\"Parallel rate = \", iterations / tparallel, \" opts/sec\")\n",
    " end\n",
    " driver()"
   ]
  }
 ],
 "metadata": {
  "kernelspec": {
   "display_name": "Julia 0.6.0",
   "language": "julia",
   "name": "julia-0.6"
  },
  "language_info": {
   "file_extension": ".jl",
   "mimetype": "application/julia",
   "name": "julia",
   "version": "0.6.0"
  }
 },
 "nbformat": 4,
 "nbformat_minor": 2
}
