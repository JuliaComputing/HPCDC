{
 "cells": [
  {
   "cell_type": "markdown",
   "metadata": {},
   "source": [
    "# Image Blurring (Exercise)\n",
    "\n",
    "Let us now use our experience with basic Julia syntax to write a simple image blurring kernel. \n",
    "\n",
    "First, let us download an image from the internet:"
   ]
  },
  {
   "cell_type": "code",
   "execution_count": 1,
   "metadata": {
    "collapsed": false
   },
   "outputs": [
    {
     "name": "stderr",
     "output_type": "stream",
     "text": [
      "  % Total    % Received % Xferd  Average Speed   Time    Time     Time  Current\n",
      "                                 Dload  Upload   Total   Spent    Left  Speed\n",
      "100 1237k  100 1237k    0     0   766k      0  0:00:01  0:00:01 --:--:--  766k\n"
     ]
    },
    {
     "data": {
      "text/plain": [
       "\"landscape.jpg\""
      ]
     },
     "execution_count": 1,
     "metadata": {},
     "output_type": "execute_result"
    }
   ],
   "source": [
    "isfile(\"landscape.jpg\") || \n",
    "    download(\"https://wallpaperscraft.com/image/mountains_sharp_peaks_rocks_clouds_house_height_privacy_62668_1920x1080.jpg\", \"landscape.jpg\")"
   ]
  },
  {
   "cell_type": "markdown",
   "metadata": {},
   "source": [
    "Now that we have the image, let us now load it into this interface. All these utilties (plus a whole lot more) are available through the Julia package `Images.jl`."
   ]
  },
  {
   "cell_type": "code",
   "execution_count": 3,
   "metadata": {
    "collapsed": false
   },
   "outputs": [],
   "source": [
    "# Pkg.add(\"Images\") # do this if not installed\n",
    "using Images"
   ]
  },
  {
   "cell_type": "markdown",
   "metadata": {},
   "source": [
    "Now let us load the image: "
   ]
  },
  {
   "cell_type": "code",
   "execution_count": null,
   "metadata": {
    "collapsed": true
   },
   "outputs": [],
   "source": [
    "a = load(\"landscape.jpg\")"
   ]
  },
  {
   "cell_type": "markdown",
   "metadata": {},
   "source": [
    "We're going to use a copy of the image to store the result of our blurring algorithm:"
   ]
  },
  {
   "cell_type": "code",
   "execution_count": null,
   "metadata": {
    "collapsed": true
   },
   "outputs": [],
   "source": [
    "b = deepcopy(a)"
   ]
  },
  {
   "cell_type": "markdown",
   "metadata": {},
   "source": [
    "Speaking of which, what is our blurring algorithm? We're going to use a simple four point stencil:\n",
    "\n",
    "![](https://source.ggy.bris.ac.uk/uploads/4/4d/Five-point-stencil.jpg)\n",
    "\n",
    "By which we mean: for every cell in `a`, update `b` by the average of `a`'s neighbours.\n",
    "\n",
    "#### Problem Statement\n",
    "\n",
    "Write a function that implements a simple four point stencil to blur an image. The function should take as inputs\n",
    "- the image (or the path to the image) \n",
    "- `n` the number of passes of the stencil through the image. \n",
    "- a flag to save the image or not. \n",
    "\n",
    "As output:\n",
    " - the final blurred image"
   ]
  },
  {
   "cell_type": "code",
   "execution_count": null,
   "metadata": {
    "collapsed": true
   },
   "outputs": [],
   "source": [
    "# Your code please"
   ]
  }
 ],
 "metadata": {
  "kernelspec": {
   "display_name": "Julia 0.6.0",
   "language": "julia",
   "name": "julia-0.6"
  },
  "language_info": {
   "file_extension": ".jl",
   "mimetype": "application/julia",
   "name": "julia",
   "version": "0.6.0"
  }
 },
 "nbformat": 4,
 "nbformat_minor": 2
}
