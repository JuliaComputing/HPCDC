{
 "cells": [
  {
   "cell_type": "markdown",
   "metadata": {},
   "source": [
    "# Review of Day 1\n",
    "\n",
    "During Day 1, we introduced Julia basics, and saw that Julia has the following features:\n",
    "\n",
    "- Familiar syntax\n",
    "- Easy to make generic code (\"write once, run everywhere\")\n",
    "- Julia is fast\n",
    "\n",
    "Day 2 will be about Performance and Parallelism.\n",
    "We will see how to profile code, some performance gotchas, and several ways to parallelize code using Julia."
   ]
  },
  {
   "cell_type": "markdown",
   "metadata": {},
   "source": [
    "# Simulations: profiling and performance\n",
    "## Random walks\n",
    "\n",
    "In this notebook, we will look at one of the simplest types of Monte Carlo numerical simulation, random walks.\n",
    "\n",
    "In the simplest random walk, a particle starts at $0$ and jumps to the left ($-1$) or the right ($+1$) with equal probability.\n",
    "\n",
    "The following is a simple implementation of a single random walk:"
   ]
  },
  {
   "cell_type": "code",
   "execution_count": 1,
   "metadata": {
    "collapsed": false
   },
   "outputs": [
    {
     "data": {
      "text/plain": [
       "22"
      ]
     },
     "execution_count": 1,
     "metadata": {},
     "output_type": "execute_result"
    }
   ],
   "source": [
    "numsteps = 1000\n",
    "pos = 0 \n",
    "\n",
    "for j in 1:numsteps\n",
    "            \n",
    "    if rand() < 0.5\n",
    "        step = -1\n",
    "    else\n",
    "        step = +1\n",
    "    end\n",
    "            \n",
    "    pos += step \n",
    "    \n",
    "end\n",
    "\n",
    "pos"
   ]
  },
  {
   "cell_type": "code",
   "execution_count": 2,
   "metadata": {
    "collapsed": false
   },
   "outputs": [
    {
     "data": {
      "text/plain": [
       "Plots.GRBackend()"
      ]
     },
     "execution_count": 2,
     "metadata": {},
     "output_type": "execute_result"
    }
   ],
   "source": [
    "using Plots; gr()"
   ]
  },
  {
   "cell_type": "markdown",
   "metadata": {},
   "source": [
    "The code seems to execute almost instantaneously, but we should **profile** (time) it:"
   ]
  },
  {
   "cell_type": "code",
   "execution_count": 59,
   "metadata": {
    "collapsed": false
   },
   "outputs": [
    {
     "data": {
      "text/plain": [
       "8128"
      ]
     },
     "execution_count": 59,
     "metadata": {},
     "output_type": "execute_result"
    }
   ],
   "source": [
    "memory = @allocated rand(1000)"
   ]
  },
  {
   "cell_type": "code",
   "execution_count": 60,
   "metadata": {
    "collapsed": false
   },
   "outputs": [
    {
     "data": {
      "text/plain": [
       "8128"
      ]
     },
     "execution_count": 60,
     "metadata": {},
     "output_type": "execute_result"
    }
   ],
   "source": [
    "memory"
   ]
  },
  {
   "cell_type": "code",
   "execution_count": 61,
   "metadata": {
    "collapsed": false
   },
   "outputs": [
    {
     "data": {
      "text/html": [
       "<div id=\"interact-js-shim\">\n",
       "    <script charset=\"utf-8\">\n",
       "(function (IPython, $, _, MathJax) {\n",
       "    $.event.special.destroyed = {\n",
       "\tremove: function(o) {\n",
       "\t    if (o.handler) {\n",
       "\t\to.handler.apply(this, arguments)\n",
       "\t    }\n",
       "\t}\n",
       "    }\n",
       "\n",
       "    var OutputArea = IPython.version >= \"4.0.0\" ? require(\"notebook/js/outputarea\").OutputArea : IPython.OutputArea;\n",
       "\n",
       "    var redrawValue = function (container, type, val) {\n",
       "\tvar selector = $(\"<div/>\");\n",
       "\tvar oa = new OutputArea(_.extend(selector, {\n",
       "\t    selector: selector,\n",
       "\t    prompt_area: true,\n",
       "\t    events: IPython.events,\n",
       "\t    keyboard_manager: IPython.keyboard_manager\n",
       "\t})); // Hack to work with IPython 2.1.0\n",
       "\n",
       "\tswitch (type) {\n",
       "\tcase \"image/png\":\n",
       "            var _src = 'data:' + type + ';base64,' + val;\n",
       "\t    $(container).find(\"img\").attr('src', _src);\n",
       "\t    break;\n",
       "\tdefault:\n",
       "\t    var toinsert = OutputArea.append_map[type].apply(\n",
       "\t\toa, [val, {}, selector]\n",
       "\t    );\n",
       "\t    $(container).empty().append(toinsert.contents());\n",
       "\t    selector.remove();\n",
       "\t}\n",
       "\tif (type === \"text/latex\" && MathJax) {\n",
       "\t    MathJax.Hub.Queue([\"Typeset\", MathJax.Hub, toinsert.get(0)]);\n",
       "\t}\n",
       "    }\n",
       "\n",
       "\n",
       "    $(document).ready(function() {\n",
       "\tfunction initComm(evt, data) {\n",
       "\t    var comm_manager = data.kernel.comm_manager;\n",
       "        //_.extend(comm_manager.targets, require(\"widgets/js/widget\"))\n",
       "\t    comm_manager.register_target(\"Signal\", function (comm) {\n",
       "            comm.on_msg(function (msg) {\n",
       "                //Widgets.log(\"message received\", msg);\n",
       "                var val = msg.content.data.value;\n",
       "                $(\".signal-\" + comm.comm_id).each(function() {\n",
       "                var type = $(this).data(\"type\");\n",
       "                if (val[type]) {\n",
       "                    redrawValue(this, type, val[type], type);\n",
       "                }\n",
       "                });\n",
       "                delete val;\n",
       "                delete msg.content.data.value;\n",
       "            });\n",
       "\t    });\n",
       "\n",
       "\t    // coordingate with Comm and redraw Signals\n",
       "\t    // XXX: Test using Reactive here to improve performance\n",
       "\t    $([IPython.events]).on(\n",
       "\t\t'output_appended.OutputArea', function (event, type, value, md, toinsert) {\n",
       "\t\t    if (md && md.reactive) {\n",
       "                // console.log(md.comm_id);\n",
       "                toinsert.addClass(\"signal-\" + md.comm_id);\n",
       "                toinsert.data(\"type\", type);\n",
       "                // Signal back indicating the mimetype required\n",
       "                var comm_manager = IPython.notebook.kernel.comm_manager;\n",
       "                var comm = comm_manager.comms[md.comm_id];\n",
       "                comm.then(function (c) {\n",
       "                    c.send({action: \"subscribe_mime\",\n",
       "                       mime: type});\n",
       "                    toinsert.bind(\"destroyed\", function() {\n",
       "                        c.send({action: \"unsubscribe_mime\",\n",
       "                               mime: type});\n",
       "                    });\n",
       "                })\n",
       "\t\t    }\n",
       "\t    });\n",
       "\t}\n",
       "\n",
       "\ttry {\n",
       "\t    // try to initialize right away. otherwise, wait on the status_started event.\n",
       "\t    initComm(undefined, IPython.notebook);\n",
       "\t} catch (e) {\n",
       "\t    $([IPython.events]).on('kernel_created.Kernel kernel_created.Session', initComm);\n",
       "\t}\n",
       "    });\n",
       "})(IPython, jQuery, _, MathJax);\n",
       "</script>\n",
       "    <script>\n",
       "        window.interactLoadedFlag = true\n",
       "       $(\"#interact-js-shim\").bind(\"destroyed\", function () {\n",
       "           if (window.interactLoadedFlag) {\n",
       "               console.warn(\"JavaScript required by Interact will be removed if you remove this cell or run using Interact more than once.\")\n",
       "           }\n",
       "       })\n",
       "       $([IPython.events]).on(\"kernel_starting.Kernel kernel_restarting.Kernel\", function () { window.interactLoadedFlag = false })\n",
       "   </script>\n",
       "</div>"
      ]
     },
     "metadata": {},
     "output_type": "display_data"
    },
    {
     "name": "stderr",
     "output_type": "stream",
     "text": [
      "WARNING: using Interact.select in module Main conflicts with an existing identifier.\n"
     ]
    }
   ],
   "source": [
    "using Interact"
   ]
  },
  {
   "cell_type": "code",
   "execution_count": 63,
   "metadata": {
    "collapsed": false
   },
   "outputs": [
    {
     "name": "stderr",
     "output_type": "stream",
     "text": [
      "WARNING: imported binding for values overwritten in module Main\n"
     ]
    },
    {
     "data": {
      "text/plain": [
       "5-element Array{Int64,1}:\n",
       "     1000\n",
       "    10000\n",
       "   100000\n",
       "  1000000\n",
       " 10000000"
      ]
     },
     "execution_count": 63,
     "metadata": {},
     "output_type": "execute_result"
    }
   ],
   "source": [
    "exponents = 3:7\n",
    "values = [10^k for k in exponents]"
   ]
  },
  {
   "cell_type": "code",
   "execution_count": 64,
   "metadata": {
    "collapsed": false
   },
   "outputs": [
    {
     "data": {
      "text/html": [],
      "text/plain": [
       "Interact.Slider{Int64}(Signal{Int64}(5, nactions=0),\"k\",5,3:7,\"d\",true)"
      ]
     },
     "metadata": {},
     "output_type": "display_data"
    },
    {
     "data": {
      "text/plain": [
       "800096"
      ]
     },
     "execution_count": 64,
     "metadata": {
      "comm_id": "a9563ede-e448-4a39-82e4-bab75d7e69ac",
      "reactive": true
     },
     "output_type": "execute_result"
    }
   ],
   "source": [
    "@manipulate for k in exponents\n",
    "    @allocated rand(10^k)\n",
    "end"
   ]
  },
  {
   "cell_type": "markdown",
   "metadata": {},
   "source": [
    "You might expect exactly $8*(10^k)$, but there is a bit of overhead in a Julia array (80 bytes?)"
   ]
  },
  {
   "cell_type": "code",
   "execution_count": 56,
   "metadata": {
    "collapsed": false
   },
   "outputs": [
    {
     "name": "stdout",
     "output_type": "stream",
     "text": [
      "  0.000186 seconds (1.98 k allocations: 46.578 KB)\n"
     ]
    }
   ],
   "source": [
    "@time begin\n",
    "    \n",
    "    numsteps = 1000\n",
    "    pos = 0 \n",
    "    for j in 1:numsteps\n",
    "\n",
    "        if rand() < 0.5\n",
    "            step = -1\n",
    "        else\n",
    "            step = +1\n",
    "        end\n",
    "\n",
    "        pos += step \n",
    "    end\n",
    "    \n",
    "end"
   ]
  },
  {
   "cell_type": "code",
   "execution_count": 65,
   "metadata": {
    "collapsed": false
   },
   "outputs": [
    {
     "data": {
      "text/plain": [
       "0.00406933"
      ]
     },
     "execution_count": 65,
     "metadata": {},
     "output_type": "execute_result"
    }
   ],
   "source": [
    "@elapsed sin(10)"
   ]
  },
  {
   "cell_type": "code",
   "execution_count": 66,
   "metadata": {
    "collapsed": false
   },
   "outputs": [
    {
     "data": {
      "text/plain": [
       "0"
      ]
     },
     "execution_count": 66,
     "metadata": {},
     "output_type": "execute_result"
    }
   ],
   "source": [
    "@allocated sin(10)"
   ]
  },
  {
   "cell_type": "markdown",
   "metadata": {},
   "source": [
    "Although it's fast, it seems to be allocating memory unexpectedly. This is a **warning** of a possible **type instability**."
   ]
  },
  {
   "cell_type": "markdown",
   "metadata": {},
   "source": [
    "Let's wrap it in a function, which is good programming practice, and allows us to have `numsteps` as a paramater.\n",
    "It turns out to have an additional, important effect in Julia."
   ]
  },
  {
   "cell_type": "code",
   "execution_count": 1,
   "metadata": {
    "collapsed": false
   },
   "outputs": [
    {
     "data": {
      "text/plain": [
       "walk"
      ]
     },
     "execution_count": 1,
     "metadata": {},
     "output_type": "execute_result"
    }
   ],
   "source": [
    "\"\"\"Single 1D random walk from the origin.\n",
    "Returns the final position after `numsteps` steps.\"\"\"\n",
    "function walk(numsteps=1000)  # default value of the parameter\n",
    "    \n",
    "    pos = 0 \n",
    "    \n",
    "    for j in 1:numsteps\n",
    "\n",
    "        if rand() < 0.5   # can replace by rand(Bool)\n",
    "            step = -1\n",
    "        else\n",
    "            step = +1\n",
    "        end\n",
    "\n",
    "        pos += step \n",
    "    end\n",
    "    \n",
    "    return pos\n",
    "    \n",
    "end"
   ]
  },
  {
   "cell_type": "code",
   "execution_count": 68,
   "metadata": {
    "collapsed": false
   },
   "outputs": [
    {
     "name": "stdout",
     "output_type": "stream",
     "text": [
      "  0.007574 seconds (2.86 k allocations: 130.777 KB)\n"
     ]
    },
    {
     "data": {
      "text/plain": [
       "16"
      ]
     },
     "execution_count": 68,
     "metadata": {},
     "output_type": "execute_result"
    }
   ],
   "source": [
    "@time walk(1)"
   ]
  },
  {
   "cell_type": "code",
   "execution_count": 69,
   "metadata": {
    "collapsed": false
   },
   "outputs": [
    {
     "name": "stdout",
     "output_type": "stream",
     "text": [
      "  0.000011 seconds (4 allocations: 160 bytes)\n"
     ]
    },
    {
     "data": {
      "text/plain": [
       "-12"
      ]
     },
     "execution_count": 69,
     "metadata": {},
     "output_type": "execute_result"
    }
   ],
   "source": [
    "@time walk(1000)"
   ]
  },
  {
   "cell_type": "code",
   "execution_count": 70,
   "metadata": {
    "collapsed": false
   },
   "outputs": [
    {
     "name": "stdout",
     "output_type": "stream",
     "text": [
      "  0.000011 seconds (4 allocations: 160 bytes)\n"
     ]
    },
    {
     "data": {
      "text/plain": [
       "-46"
      ]
     },
     "execution_count": 70,
     "metadata": {},
     "output_type": "execute_result"
    }
   ],
   "source": [
    "@time walk(1000)"
   ]
  },
  {
   "cell_type": "code",
   "execution_count": 74,
   "metadata": {
    "collapsed": false
   },
   "outputs": [
    {
     "data": {
      "text/html": [],
      "text/plain": [
       "Interact.Slider{Int64}(Signal{Int64}(6, nactions=0),\"k\",6,3:10,\"d\",true)"
      ]
     },
     "metadata": {},
     "output_type": "display_data"
    },
    {
     "data": {
      "text/plain": [
       "-2.11911269820074"
      ]
     },
     "execution_count": 74,
     "metadata": {
      "comm_id": "da6f5a83-b21a-4224-aa4f-b5d5ccd1a34e",
      "reactive": true
     },
     "output_type": "execute_result"
    }
   ],
   "source": [
    "@manipulate for k in 3:10\n",
    "    log10(@elapsed walk(10^k))\n",
    "end"
   ]
  },
  {
   "cell_type": "code",
   "execution_count": 81,
   "metadata": {
    "collapsed": false
   },
   "outputs": [
    {
     "data": {
      "text/plain": [
       "2"
      ]
     },
     "execution_count": 81,
     "metadata": {},
     "output_type": "execute_result"
    }
   ],
   "source": [
    "rand(1:10)"
   ]
  },
  {
   "cell_type": "code",
   "execution_count": 82,
   "metadata": {
    "collapsed": false
   },
   "outputs": [
    {
     "data": {
      "text/plain": [
       "Bool"
      ]
     },
     "execution_count": 82,
     "metadata": {},
     "output_type": "execute_result"
    }
   ],
   "source": [
    "a = true\n",
    "typeof(a)"
   ]
  },
  {
   "cell_type": "code",
   "execution_count": 92,
   "metadata": {
    "collapsed": false
   },
   "outputs": [
    {
     "data": {
      "text/plain": [
       "false"
      ]
     },
     "execution_count": 92,
     "metadata": {},
     "output_type": "execute_result"
    }
   ],
   "source": [
    "rand(Bool)"
   ]
  },
  {
   "cell_type": "code",
   "execution_count": 93,
   "metadata": {
    "collapsed": false
   },
   "outputs": [
    {
     "data": {
      "text/html": [
       "rand(T::<b>Type</b>) at <a href=\"https://github.com/JuliaLang/julia/tree/3c9d75391c72d7c32eea75ff187ce77b2d5effc8/base/random.jl#L228\" target=\"_blank\">random.jl:228</a>"
      ],
      "text/plain": [
       "rand(T::Type) at random.jl:228"
      ]
     },
     "execution_count": 93,
     "metadata": {},
     "output_type": "execute_result"
    }
   ],
   "source": [
    "@which rand(Bool)"
   ]
  },
  {
   "cell_type": "code",
   "execution_count": 94,
   "metadata": {
    "collapsed": true
   },
   "outputs": [],
   "source": [
    "@edit rand(Bool)"
   ]
  },
  {
   "cell_type": "code",
   "execution_count": 96,
   "metadata": {
    "collapsed": false
   },
   "outputs": [
    {
     "data": {
      "text/plain": [
       "\"vim\""
      ]
     },
     "execution_count": 96,
     "metadata": {},
     "output_type": "execute_result"
    }
   ],
   "source": [
    "ENV[\"EDITOR\"] = \"vim\""
   ]
  },
  {
   "cell_type": "code",
   "execution_count": null,
   "metadata": {
    "collapsed": false
   },
   "outputs": [
    {
     "name": "stderr",
     "output_type": "stream",
     "text": [
      "Vim: Warning: Output is not to a terminal\n",
      "Vim: Warning: Input is not from a terminal\n"
     ]
    },
    {
     "name": "stdout",
     "output_type": "stream",
     "text": [
      "\u001b[?1049h\u001b[?1h\u001b=\u001b[1;30r\u001b[?12;25h\u001b[?12l\u001b[?25h\u001b[27m\u001b[m\u001b[H\u001b[2J\u001b[?25l\u001b[30;1H\u001b[97m\u001b[41mE325: ATTENTION\u001b[m\r",
      "\r\n",
      "Found a swap file by the name \"/Applications/Julia-0.5.app/Contents/Resources/j\r",
      "\r\n",
      "\u001b[29;80Hu\u001b[30;1Hlia/bin/../share/julia/base/.random.jl.swp\"\r",
      "\r\n",
      "\u001b[10Cowned by: dpsanders   dated: Sun Jan 15 12:52:05 2017\r",
      "\r\n",
      "\u001b[9Cfile name: /Applications/Julia-0.5.app/Contents/Resources/julia/share/\r",
      "\r\n",
      "\u001b[29;80Hj\u001b[30;1Hulia/base/random.jl\r",
      "\r\n",
      "\u001b[10Cmodified: no\r",
      "\r\n",
      "\u001b[9Cuser name: dpsanders   host name: Davids-MacBook-Pro-6.local\r",
      "\r\n",
      "\u001b[8Cprocess ID: 51414\r",
      "\r\n",
      "While opening file \"/Applications/Julia-0.5.app/Contents/Resources/julia/bin/..\r",
      "\r\n",
      "\u001b[29;80H/\u001b[30;1Hshare/julia/base/random.jl\"\r",
      "\r\n",
      "\u001b[13Cdated: Tue Sep 20 11:56:57 2016\r",
      "\r\n",
      "\r\n",
      "(1) Another program may be editing the same file.  If this is the case,\r",
      "\r\n",
      "    be careful not to end up with two different instances of the same\r",
      "\r\n",
      "    file when making changes.  Quit, or continue with caution.\r",
      "\r\n",
      "(2) An edit session for this file crashed.\r",
      "\r\n",
      "    If this is the case, use \":recover\" or \"vim -r /Applications/Julia-0.5.app/\r",
      "\r\n",
      "\u001b[29;80HC\u001b[30;1Hontents/Resources/julia/bin/../share/julia/base/random.jl\"\r",
      "\r\n",
      "    to recover the changes (see \":help recovery\").\r",
      "\r\n",
      "    If you did this already, delete the swap file \"/Applications/Julia-0.5.app/\r",
      "\r\n",
      "\u001b[29;80HC\u001b[30;1Hontents/Resources/julia/bin/../share/julia/base/.random.jl.swp\"\r",
      "\r\n",
      "    to avoid this message.\r",
      "\r\n",
      "\r\n",
      "\u001b[38;5;121mSwap file \"/Applications/Julia-0.5.app/Contents/Resources/julia/bin/../share/ju\u001b[m\r",
      "\r\n",
      "\u001b[29;80H\u001b[38;5;121ml\u001b[30;1Hia/base/.random.jl.swp\" already exists!\u001b[m\r",
      "\r\n",
      "\u001b[38;5;121m[O]pen Read-Only, (E)dit anyway, (R)ecover, (D)elete it, (Q)uit, (A)bort: \u001b[?12l\u001b[?25h"
     ]
    }
   ],
   "source": [
    "@edit rand(Bool)"
   ]
  },
  {
   "cell_type": "code",
   "execution_count": 95,
   "metadata": {
    "collapsed": false
   },
   "outputs": [
    {
     "data": {
      "text/plain": [
       "Base.EnvHash with 35 entries:\n",
       "  \"FONTCONFIG_PATH\"            => \"/Applications/Julia-0.5.app/Contents/Resourc…\n",
       "  \"TERM_PROGRAM_VERSION\"       => \"3.0.12\"\n",
       "  \"TMPDIR\"                     => \"/var/folders/h0/68t1xc991mq20mrkn6yy6n5h0000…\n",
       "  \"LOGNAME\"                    => \"dpsanders\"\n",
       "  \"USER\"                       => \"dpsanders\"\n",
       "  \"HOME\"                       => \"/Users/dpsanders\"\n",
       "  \"PATH\"                       => \"/Applications/Julia-0.5.app/Contents/Resourc…\n",
       "  \"CLICOLOR\"                   => \"1\"\n",
       "  \"DISPLAY\"                    => \"/private/tmp/com.apple.launchd.I4LZaH4k5G/or…\n",
       "  \"TERM_PROGRAM\"               => \"iTerm.app\"\n",
       "  \"LANG\"                       => \"en_US.UTF-8\"\n",
       "  \"TK_LIBRARY\"                 => \"/System/Library/Frameworks/Tk.framework/Vers…\n",
       "  \"TERM\"                       => \"xterm-256color\"\n",
       "  \"SHELL\"                      => \"/bin/bash\"\n",
       "  \"COLORFGBG\"                  => \"7;0\"\n",
       "  \"SHLVL\"                      => \"1\"\n",
       "  \"XPC_FLAGS\"                  => \"0x0\"\n",
       "  \"ITERM_SESSION_ID\"           => \"w0t0p0:B43DF645-9732-4EB9-87C4-C33238FAD4BC\"\n",
       "  \"EDITOR\"                     => \"atom\"\n",
       "  \"TERM_SESSION_ID\"            => \"w0t0p0:B43DF645-9732-4EB9-87C4-C33238FAD4BC\"\n",
       "  \"XPC_SERVICE_NAME\"           => \"0\"\n",
       "  \"JPY_PARENT_PID\"             => \"99536\"\n",
       "  \"SSH_AUTH_SOCK\"              => \"/private/tmp/com.apple.launchd.AmJHlSVvkd/Li…\n",
       "  \"Apple_PubSub_Socket_Render\" => \"/private/tmp/com.apple.launchd.AGN7RupCuC/Re…\n",
       "  \"ITERM_PROFILE\"              => \"Default\"\n",
       "  ⋮                            => ⋮"
      ]
     },
     "execution_count": 95,
     "metadata": {},
     "output_type": "execute_result"
    }
   ],
   "source": [
    "ENV"
   ]
  },
  {
   "cell_type": "markdown",
   "metadata": {},
   "source": [
    "Messages: \n",
    "- Wrap everything in a function\n",
    "- Run the function once, before timing only on the *second* run"
   ]
  },
  {
   "cell_type": "markdown",
   "metadata": {},
   "source": [
    "## Interlude on vectors: collecting data"
   ]
  },
  {
   "cell_type": "markdown",
   "metadata": {},
   "source": [
    "Now we run it several times to collect data:"
   ]
  },
  {
   "cell_type": "code",
   "execution_count": 2,
   "metadata": {
    "collapsed": false
   },
   "outputs": [
    {
     "data": {
      "text/plain": [
       "-24"
      ]
     },
     "execution_count": 2,
     "metadata": {},
     "output_type": "execute_result"
    }
   ],
   "source": [
    "walk()"
   ]
  },
  {
   "cell_type": "code",
   "execution_count": 5,
   "metadata": {
    "collapsed": false
   },
   "outputs": [
    {
     "data": {
      "text/plain": [
       "10-element Array{Int64,1}:\n",
       "  120\n",
       " -152\n",
       " -112\n",
       "   16\n",
       "  138\n",
       "   74\n",
       "  198\n",
       "  -96\n",
       "  -74\n",
       "   58"
      ]
     },
     "execution_count": 5,
     "metadata": {},
     "output_type": "execute_result"
    }
   ],
   "source": [
    "numsteps = 10000\n",
    "data = [walk(numsteps) for i in 1:10]"
   ]
  },
  {
   "cell_type": "markdown",
   "metadata": {},
   "source": [
    "Another possibility:"
   ]
  },
  {
   "cell_type": "code",
   "execution_count": 6,
   "metadata": {
    "collapsed": false
   },
   "outputs": [
    {
     "data": {
      "text/plain": [
       "0-element Array{Any,1}"
      ]
     },
     "execution_count": 6,
     "metadata": {},
     "output_type": "execute_result"
    }
   ],
   "source": [
    "[ ]"
   ]
  },
  {
   "cell_type": "code",
   "execution_count": 9,
   "metadata": {
    "collapsed": false
   },
   "outputs": [
    {
     "data": {
      "text/plain": [
       "0-element Array{Int64,1}"
      ]
     },
     "execution_count": 9,
     "metadata": {},
     "output_type": "execute_result"
    }
   ],
   "source": [
    "Int[ ]   # better for performance"
   ]
  },
  {
   "cell_type": "code",
   "execution_count": 10,
   "metadata": {
    "collapsed": false
   },
   "outputs": [
    {
     "data": {
      "text/plain": [
       "1-element Array{Int64,1}:\n",
       " 0"
      ]
     },
     "execution_count": 10,
     "metadata": {},
     "output_type": "execute_result"
    }
   ],
   "source": [
    "[ 0 ]"
   ]
  },
  {
   "cell_type": "code",
   "execution_count": 12,
   "metadata": {
    "collapsed": false
   },
   "outputs": [
    {
     "data": {
      "text/plain": [
       "2-element Array{Float64,1}:\n",
       " 0.0\n",
       " 1.0"
      ]
     },
     "execution_count": 12,
     "metadata": {},
     "output_type": "execute_result"
    }
   ],
   "source": [
    "[ 0, 1.0 ]  # it promotes everything to a common type"
   ]
  },
  {
   "cell_type": "code",
   "execution_count": 14,
   "metadata": {
    "collapsed": false
   },
   "outputs": [
    {
     "data": {
      "text/plain": [
       "3-element Array{Any,1}:\n",
       " 0       \n",
       " 1.0     \n",
       "  \"hello\""
      ]
     },
     "execution_count": 14,
     "metadata": {},
     "output_type": "execute_result"
    }
   ],
   "source": [
    "v = [ 0, 1.0, \"hello\"]"
   ]
  },
  {
   "cell_type": "code",
   "execution_count": 15,
   "metadata": {
    "collapsed": false
   },
   "outputs": [
    {
     "data": {
      "text/plain": [
       "4-element Array{Any,1}:\n",
       "     0       \n",
       "     1.0     \n",
       "      \"hello\"\n",
       " false       "
      ]
     },
     "execution_count": 15,
     "metadata": {},
     "output_type": "execute_result"
    }
   ],
   "source": [
    "push!(v, false)"
   ]
  },
  {
   "cell_type": "code",
   "execution_count": 16,
   "metadata": {
    "collapsed": false
   },
   "outputs": [
    {
     "data": {
      "text/plain": [
       "4-element Array{Any,1}:\n",
       "     0       \n",
       "     1.0     \n",
       "      \"hello\"\n",
       " false       "
      ]
     },
     "execution_count": 16,
     "metadata": {},
     "output_type": "execute_result"
    }
   ],
   "source": [
    "v"
   ]
  },
  {
   "cell_type": "markdown",
   "metadata": {},
   "source": [
    "The \"bang\" (`!`) is a convention that means that the function **modifies** its (first) argument."
   ]
  },
  {
   "cell_type": "code",
   "execution_count": 18,
   "metadata": {
    "collapsed": false
   },
   "outputs": [
    {
     "data": {
      "text/plain": [
       "0-element Array{Int64,1}"
      ]
     },
     "execution_count": 18,
     "metadata": {},
     "output_type": "execute_result"
    }
   ],
   "source": [
    "data = Int[ ]   # empty array of `Int`s"
   ]
  },
  {
   "cell_type": "code",
   "execution_count": 20,
   "metadata": {
    "collapsed": false
   },
   "outputs": [
    {
     "data": {
      "text/plain": [
       "3"
      ]
     },
     "execution_count": 20,
     "metadata": {},
     "output_type": "execute_result"
    }
   ],
   "source": [
    "x = 3"
   ]
  },
  {
   "cell_type": "code",
   "execution_count": 21,
   "metadata": {
    "collapsed": false
   },
   "outputs": [
    {
     "name": "stdout",
     "output_type": "stream",
     "text": [
      "3"
     ]
    }
   ],
   "source": [
    "show(x)"
   ]
  },
  {
   "cell_type": "code",
   "execution_count": 22,
   "metadata": {
    "collapsed": false
   },
   "outputs": [
    {
     "name": "stdout",
     "output_type": "stream",
     "text": [
      "x = 3\n"
     ]
    },
    {
     "data": {
      "text/plain": [
       "3"
      ]
     },
     "execution_count": 22,
     "metadata": {},
     "output_type": "execute_result"
    }
   ],
   "source": [
    "@show x"
   ]
  },
  {
   "cell_type": "code",
   "execution_count": 23,
   "metadata": {
    "collapsed": false
   },
   "outputs": [
    {
     "name": "stdout",
     "output_type": "stream",
     "text": [
      "data = [2]\n",
      "data = [2,78]\n",
      "data = [2,78,-26]\n",
      "data = [2,78,-26,14]\n",
      "data = [2,78,-26,14,-8]\n",
      "data = [2,78,-26,14,-8,40]\n",
      "data = [2,78,-26,14,-8,40,54]\n",
      "data = [2,78,-26,14,-8,40,54,14]\n",
      "data = [2,78,-26,14,-8,40,54,14,-10]\n",
      "data = [2,78,-26,14,-8,40,54,14,-10,-58]\n"
     ]
    },
    {
     "data": {
      "text/plain": [
       "10-element Array{Int64,1}:\n",
       "   2\n",
       "  78\n",
       " -26\n",
       "  14\n",
       "  -8\n",
       "  40\n",
       "  54\n",
       "  14\n",
       " -10\n",
       " -58"
      ]
     },
     "execution_count": 23,
     "metadata": {},
     "output_type": "execute_result"
    }
   ],
   "source": [
    "data = Int[ ]   # empty array of `Int`s\n",
    "\n",
    "numwalkers = 10\n",
    "\n",
    "for i in 1:numwalkers\n",
    "    pos = walk()\n",
    "    push!(data, pos)\n",
    "    @show data\n",
    "end\n",
    "\n",
    "data"
   ]
  },
  {
   "cell_type": "markdown",
   "metadata": {},
   "source": [
    "Alternative: pre-allocate the array"
   ]
  },
  {
   "cell_type": "code",
   "execution_count": 24,
   "metadata": {
    "collapsed": false
   },
   "outputs": [
    {
     "data": {
      "text/plain": [
       "10-element Array{Float64,1}:\n",
       " 0.0\n",
       " 0.0\n",
       " 0.0\n",
       " 0.0\n",
       " 0.0\n",
       " 0.0\n",
       " 0.0\n",
       " 0.0\n",
       " 0.0\n",
       " 0.0"
      ]
     },
     "execution_count": 24,
     "metadata": {},
     "output_type": "execute_result"
    }
   ],
   "source": [
    "numwalkers = 10\n",
    "\n",
    "data = zeros(numwalkers)"
   ]
  },
  {
   "cell_type": "code",
   "execution_count": 25,
   "metadata": {
    "collapsed": false
   },
   "outputs": [
    {
     "data": {
      "text/plain": [
       "10-element Array{Int64,1}:\n",
       " 0\n",
       " 0\n",
       " 0\n",
       " 0\n",
       " 0\n",
       " 0\n",
       " 0\n",
       " 0\n",
       " 0\n",
       " 0"
      ]
     },
     "execution_count": 25,
     "metadata": {},
     "output_type": "execute_result"
    }
   ],
   "source": [
    "data = zeros(Int, numwalkers)"
   ]
  },
  {
   "cell_type": "code",
   "execution_count": 26,
   "metadata": {
    "collapsed": false
   },
   "outputs": [
    {
     "data": {
      "text/plain": [
       "10-element Array{Int64,1}:\n",
       "    4726803984\n",
       "            13\n",
       "    4647731232\n",
       "    4728607248\n",
       "             0\n",
       "    4726933952\n",
       "    4726934032\n",
       "    4726804016\n",
       "    4726934112\n",
       " 1099528470529"
      ]
     },
     "execution_count": 26,
     "metadata": {},
     "output_type": "execute_result"
    }
   ],
   "source": [
    "data = Vector{Int}(numwalkers)  # fills with random garbage; cf. malloc"
   ]
  },
  {
   "cell_type": "code",
   "execution_count": 27,
   "metadata": {
    "collapsed": false
   },
   "outputs": [
    {
     "name": "stdout",
     "output_type": "stream",
     "text": [
      "data = [44,13,4647731232,4728608784,0,4727617776,4727617856,4727334832,4727617936,1099528470529]\n",
      "data = [44,-12,4647731232,4728608784,0,4727617776,4727617856,4727334832,4727617936,1099528470529]\n",
      "data = [44,-12,-2,4728608784,0,4727617776,4727617856,4727334832,4727617936,1099528470529]\n",
      "data = [44,-12,-2,-62,0,4727617776,4727617856,4727334832,4727617936,1099528470529]\n",
      "data = [44,-12,-2,-62,34,4727617776,4727617856,4727334832,4727617936,1099528470529]\n",
      "data = [44,-12,-2,-62,34,-24,4727617856,4727334832,4727617936,1099528470529]\n",
      "data = [44,-12,-2,-62,34,-24,42,4727334832,4727617936,1099528470529]\n",
      "data = [44,-12,-2,-62,34,-24,42,14,4727617936,1099528470529]\n",
      "data = [44,-12,-2,-62,34,-24,42,14,-36,1099528470529]\n",
      "data = [44,-12,-2,-62,34,-24,42,14,-36,22]\n"
     ]
    },
    {
     "data": {
      "text/plain": [
       "10-element Array{Int64,1}:\n",
       "  44\n",
       " -12\n",
       "  -2\n",
       " -62\n",
       "  34\n",
       " -24\n",
       "  42\n",
       "  14\n",
       " -36\n",
       "  22"
      ]
     },
     "execution_count": 27,
     "metadata": {},
     "output_type": "execute_result"
    }
   ],
   "source": [
    "data = Vector{Int}(numwalkers)  # fills with random garbage; cf. malloc\n",
    "\n",
    "for i in 1:numwalkers\n",
    "    pos = walk()\n",
    "    data[i] = pos  # this does **not** automatically grow the array (as it would in Matlab)\n",
    "    @show data\n",
    "end\n",
    "\n",
    "data"
   ]
  },
  {
   "cell_type": "code",
   "execution_count": 28,
   "metadata": {
    "collapsed": false
   },
   "outputs": [
    {
     "name": "stdout",
     "output_type": "stream",
     "text": [
      "data = [44]\n",
      "data = [44,30]\n",
      "data = [44,30,-30]\n",
      "data = [44,30,-30,48]\n",
      "data = [44,30,-30,48,24]\n",
      "data = [44,30,-30,48,24,-18]\n",
      "data = [44,30,-30,48,24,-18,56]\n",
      "data = [44,30,-30,48,24,-18,56,18]\n",
      "data = [44,30,-30,48,24,-18,56,18,4]\n",
      "data = [44,30,-30,48,24,-18,56,18,4,4]\n"
     ]
    },
    {
     "data": {
      "text/plain": [
       "10-element Array{Int64,1}:\n",
       "  44\n",
       "  30\n",
       " -30\n",
       "  48\n",
       "  24\n",
       " -18\n",
       "  56\n",
       "  18\n",
       "   4\n",
       "   4"
      ]
     },
     "execution_count": 28,
     "metadata": {},
     "output_type": "execute_result"
    }
   ],
   "source": [
    "data = Int[] # fills with random garbage; cf. malloc\n",
    "\n",
    "for i in 1:numwalkers\n",
    "    pos = walk()\n",
    "    data = [data; pos]  # common Matlabism\n",
    "    @show data\n",
    "end\n",
    "\n",
    "data"
   ]
  },
  {
   "cell_type": "code",
   "execution_count": 29,
   "metadata": {
    "collapsed": false
   },
   "outputs": [
    {
     "data": {
      "text/plain": [
       "method1 (generic function with 1 method)"
      ]
     },
     "execution_count": 29,
     "metadata": {},
     "output_type": "execute_result"
    }
   ],
   "source": [
    "function method1(N)  # Matlabism\n",
    "    data = Int[] \n",
    "\n",
    "    for i in 1:N\n",
    "        pos = walk()\n",
    "        data = [data; pos]  \n",
    "    end\n",
    "    \n",
    "    data  # will return data\n",
    "end"
   ]
  },
  {
   "cell_type": "code",
   "execution_count": 30,
   "metadata": {
    "collapsed": false
   },
   "outputs": [
    {
     "data": {
      "text/plain": [
       "method2 (generic function with 1 method)"
      ]
     },
     "execution_count": 30,
     "metadata": {},
     "output_type": "execute_result"
    }
   ],
   "source": [
    "function method2(N)  # push!\n",
    "    data = Int[ ]   \n",
    "\n",
    "    for i in 1:N\n",
    "        pos = walk()\n",
    "        push!(data, pos)\n",
    "    end\n",
    "\n",
    "    data\n",
    "end"
   ]
  },
  {
   "cell_type": "code",
   "execution_count": 31,
   "metadata": {
    "collapsed": false
   },
   "outputs": [
    {
     "data": {
      "text/plain": [
       "method3 (generic function with 1 method)"
      ]
     },
     "execution_count": 31,
     "metadata": {},
     "output_type": "execute_result"
    }
   ],
   "source": [
    "function method3(N)  # preallocate\n",
    "    data = zeros(Int, N)  \n",
    "\n",
    "    for i in 1:N\n",
    "        pos = walk()\n",
    "        data[i] = pos\n",
    "    end\n",
    "\n",
    "    data\n",
    "end"
   ]
  },
  {
   "cell_type": "markdown",
   "metadata": {},
   "source": [
    "First thing to do when profiling in Julia: run the functions once each"
   ]
  },
  {
   "cell_type": "code",
   "execution_count": 32,
   "metadata": {
    "collapsed": false
   },
   "outputs": [
    {
     "data": {
      "text/plain": [
       "1-element Array{Int64,1}:\n",
       " -36"
      ]
     },
     "execution_count": 32,
     "metadata": {},
     "output_type": "execute_result"
    }
   ],
   "source": [
    "method1(1)\n",
    "method2(1)\n",
    "method3(1)"
   ]
  },
  {
   "cell_type": "code",
   "execution_count": 34,
   "metadata": {
    "collapsed": false,
    "scrolled": true
   },
   "outputs": [
    {
     "name": "stdout",
     "output_type": "stream",
     "text": [
      " 18.783738 seconds (5.89 M allocations: 37.447 GB, 12.79% gc time)\n",
      "  0.804275 seconds (21 allocations: 2.001 MB, 0.23% gc time)\n",
      "  0.780113 seconds (6 allocations: 781.484 KB)\n"
     ]
    },
    {
     "data": {
      "text/plain": [
       "100000-element Array{Int64,1}:\n",
       " -18\n",
       "  56\n",
       "  20\n",
       "  24\n",
       " -56\n",
       " -20\n",
       "  42\n",
       " -22\n",
       "  16\n",
       " -10\n",
       "  16\n",
       " -32\n",
       "  18\n",
       "   ⋮\n",
       " -10\n",
       "  -8\n",
       "  -4\n",
       " -34\n",
       "  36\n",
       " -52\n",
       "  44\n",
       "  -6\n",
       "  30\n",
       "  52\n",
       "  16\n",
       " -28"
      ]
     },
     "execution_count": 34,
     "metadata": {},
     "output_type": "execute_result"
    }
   ],
   "source": [
    "N = 100000\n",
    "@time method1(N)\n",
    "@time method2(N)\n",
    "@time method3(N)"
   ]
  },
  {
   "cell_type": "markdown",
   "metadata": {},
   "source": [
    "The correct way to profile is with `@benchmark` from `BenchmarkTools.jl`"
   ]
  },
  {
   "cell_type": "code",
   "execution_count": 37,
   "metadata": {
    "collapsed": false
   },
   "outputs": [
    {
     "data": {
      "text/plain": [
       "BenchmarkTools.Trial: \n",
       "  memory estimate:  401.29 mb\n",
       "  allocs estimate:  581300\n",
       "  --------------\n",
       "  minimum time:     380.563 ms (12.89% GC)\n",
       "  median time:      423.159 ms (12.63% GC)\n",
       "  mean time:        455.725 ms (15.49% GC)\n",
       "  maximum time:     669.648 ms (29.66% GC)\n",
       "  --------------\n",
       "  samples:          11\n",
       "  evals/sample:     1\n",
       "  time tolerance:   5.00%\n",
       "  memory tolerance: 1.00%"
      ]
     },
     "metadata": {},
     "output_type": "display_data"
    },
    {
     "data": {
      "text/plain": [
       "BenchmarkTools.Trial: \n",
       "  memory estimate:  256.70 kb\n",
       "  allocs estimate:  14\n",
       "  --------------\n",
       "  minimum time:     74.918 ms (0.00% GC)\n",
       "  median time:      79.899 ms (0.00% GC)\n",
       "  mean time:        79.730 ms (0.00% GC)\n",
       "  maximum time:     84.844 ms (0.00% GC)\n",
       "  --------------\n",
       "  samples:          63\n",
       "  evals/sample:     1\n",
       "  time tolerance:   5.00%\n",
       "  memory tolerance: 1.00%"
      ]
     },
     "metadata": {},
     "output_type": "display_data"
    },
    {
     "data": {
      "text/plain": [
       "BenchmarkTools.Trial: \n",
       "  memory estimate:  78.20 kb\n",
       "  allocs estimate:  2\n",
       "  --------------\n",
       "  minimum time:     73.927 ms (0.00% GC)\n",
       "  median time:      78.467 ms (0.00% GC)\n",
       "  mean time:        79.268 ms (0.00% GC)\n",
       "  maximum time:     95.222 ms (0.00% GC)\n",
       "  --------------\n",
       "  samples:          64\n",
       "  evals/sample:     1\n",
       "  time tolerance:   5.00%\n",
       "  memory tolerance: 1.00%"
      ]
     },
     "metadata": {},
     "output_type": "display_data"
    }
   ],
   "source": [
    "using BenchmarkTools\n",
    "\n",
    "N = 10000\n",
    "display(@benchmark method1(N))\n",
    "display(@benchmark method2(N))\n",
    "display(@benchmark method3(N))"
   ]
  },
  {
   "cell_type": "markdown",
   "metadata": {},
   "source": [
    "## Collecting the random walk data"
   ]
  },
  {
   "cell_type": "code",
   "execution_count": 39,
   "metadata": {
    "collapsed": false
   },
   "outputs": [
    {
     "name": "stdout",
     "output_type": "stream",
     "text": [
      "  0.101981 seconds (12.15 k allocations: 621.639 KB)\n"
     ]
    },
    {
     "data": {
      "text/plain": [
       "10000-element Array{Int64,1}:\n",
       " -10\n",
       "   8\n",
       " -52\n",
       " -36\n",
       "   2\n",
       "  -4\n",
       "  34\n",
       "   2\n",
       "  32\n",
       " -14\n",
       " -38\n",
       "  36\n",
       " -22\n",
       "   ⋮\n",
       " -34\n",
       " -40\n",
       "  28\n",
       " -10\n",
       "  38\n",
       "  12\n",
       "  -2\n",
       "  -2\n",
       "  42\n",
       "  18\n",
       "  50\n",
       "  18"
      ]
     },
     "execution_count": 39,
     "metadata": {},
     "output_type": "execute_result"
    }
   ],
   "source": [
    "numsteps   = 1000\n",
    "numwalkers = 10000\n",
    "\n",
    "@time data = [walk(numsteps) for i in 1:numwalkers]  # final positions"
   ]
  },
  {
   "cell_type": "markdown",
   "metadata": {},
   "source": [
    "### Let's do statistics"
   ]
  },
  {
   "cell_type": "markdown",
   "metadata": {},
   "source": [
    "A population of simple random walks should have mean $0$ and variance equal to the total time. Let's check it:"
   ]
  },
  {
   "cell_type": "code",
   "execution_count": 44,
   "metadata": {
    "collapsed": false
   },
   "outputs": [
    {
     "data": {
      "text/plain": [
       "-0.2056"
      ]
     },
     "execution_count": 44,
     "metadata": {},
     "output_type": "execute_result"
    }
   ],
   "source": [
    "mean(data)  # mean should be 0 for simple (unbiased) random walks"
   ]
  },
  {
   "cell_type": "code",
   "execution_count": 46,
   "metadata": {
    "collapsed": false
   },
   "outputs": [
    {
     "data": {
      "text/plain": [
       "(1020.6405926992701,1000)"
      ]
     },
     "execution_count": 46,
     "metadata": {},
     "output_type": "execute_result"
    }
   ],
   "source": [
    "var(data), numsteps  # variance should be exactly the number of steps"
   ]
  },
  {
   "cell_type": "code",
   "execution_count": 49,
   "metadata": {
    "collapsed": false
   },
   "outputs": [
    {
     "data": {
      "text/plain": [
       "true"
      ]
     },
     "execution_count": 49,
     "metadata": {},
     "output_type": "execute_result"
    }
   ],
   "source": [
    "≈(var(data), numsteps, rtol=3e-2)  # relative tolerance"
   ]
  },
  {
   "cell_type": "markdown",
   "metadata": {},
   "source": [
    "We can plot the histogram:"
   ]
  },
  {
   "cell_type": "code",
   "execution_count": 50,
   "metadata": {
    "collapsed": false
   },
   "outputs": [
    {
     "data": {
      "text/html": [
       "<?xml version=\"1.0\" encoding=\"utf-8\"?>\n",
       "<svg xmlns=\"http://www.w3.org/2000/svg\" xmlns:xlink=\"http://www.w3.org/1999/xlink\" width=\"600\" height=\"400\" viewBox=\"0 0 600 400\">\n",
       "<defs>\n",
       "  <clipPath id=\"clip00\">\n",
       "    <rect x=\"0\" y=\"0\" width=\"600\" height=\"400\"/>\n",
       "  </clipPath>\n",
       "</defs>\n",
       "<polygon clip-path=\"url(#clip00)\" points=\"\n",
       "0,400 600,400 600,0 0,0 \n",
       "  \" fill=\"#ffffff\" fill-opacity=\"1\"/>\n",
       "<defs>\n",
       "  <clipPath id=\"clip01\">\n",
       "    <rect x=\"120\" y=\"0\" width=\"421\" height=\"400\"/>\n",
       "  </clipPath>\n",
       "</defs>\n",
       "<polygon clip-path=\"url(#clip00)\" points=\"\n",
       "30.6037,384.952 596.063,384.952 596.063,3.93701 30.6037,3.93701 \n",
       "  \" fill=\"#ffffff\" fill-opacity=\"1\"/>\n",
       "<defs>\n",
       "  <clipPath id=\"clip02\">\n",
       "    <rect x=\"30\" y=\"3\" width=\"566\" height=\"382\"/>\n",
       "  </clipPath>\n",
       "</defs>\n",
       "<polyline clip-path=\"url(#clip02)\" style=\"stroke:#00002d; stroke-width:0.8; stroke-opacity:0.5; fill:none\" stroke-dasharray=\"1, 2\" points=\"\n",
       "  116.907,379.237 116.907,9.65223 \n",
       "  \"/>\n",
       "<polyline clip-path=\"url(#clip02)\" style=\"stroke:#00002d; stroke-width:0.8; stroke-opacity:0.5; fill:none\" stroke-dasharray=\"1, 2\" points=\"\n",
       "  323.672,379.237 323.672,9.65223 \n",
       "  \"/>\n",
       "<polyline clip-path=\"url(#clip02)\" style=\"stroke:#00002d; stroke-width:0.8; stroke-opacity:0.5; fill:none\" stroke-dasharray=\"1, 2\" points=\"\n",
       "  530.436,379.237 530.436,9.65223 \n",
       "  \"/>\n",
       "<polyline clip-path=\"url(#clip02)\" style=\"stroke:#00002d; stroke-width:0.8; stroke-opacity:0.5; fill:none\" stroke-dasharray=\"1, 2\" points=\"\n",
       "  39.0856,384.952 587.581,384.952 \n",
       "  \"/>\n",
       "<polyline clip-path=\"url(#clip02)\" style=\"stroke:#00002d; stroke-width:0.8; stroke-opacity:0.5; fill:none\" stroke-dasharray=\"1, 2\" points=\"\n",
       "  39.0856,308.596 587.581,308.596 \n",
       "  \"/>\n",
       "<polyline clip-path=\"url(#clip02)\" style=\"stroke:#00002d; stroke-width:0.8; stroke-opacity:0.5; fill:none\" stroke-dasharray=\"1, 2\" points=\"\n",
       "  39.0856,232.241 587.581,232.241 \n",
       "  \"/>\n",
       "<polyline clip-path=\"url(#clip02)\" style=\"stroke:#00002d; stroke-width:0.8; stroke-opacity:0.5; fill:none\" stroke-dasharray=\"1, 2\" points=\"\n",
       "  39.0856,155.885 587.581,155.885 \n",
       "  \"/>\n",
       "<polyline clip-path=\"url(#clip02)\" style=\"stroke:#00002d; stroke-width:0.8; stroke-opacity:0.5; fill:none\" stroke-dasharray=\"1, 2\" points=\"\n",
       "  39.0856,79.5291 587.581,79.5291 \n",
       "  \"/>\n",
       "<polyline clip-path=\"url(#clip02)\" style=\"stroke:#00002d; stroke-width:0.8; stroke-opacity:1; fill:none\" points=\"\n",
       "  30.6037,384.952 596.063,384.952 \n",
       "  \"/>\n",
       "<polyline clip-path=\"url(#clip02)\" style=\"stroke:#00002d; stroke-width:0.8; stroke-opacity:1; fill:none\" points=\"\n",
       "  116.907,384.952 116.907,379.237 \n",
       "  \"/>\n",
       "<polyline clip-path=\"url(#clip02)\" style=\"stroke:#00002d; stroke-width:0.8; stroke-opacity:1; fill:none\" points=\"\n",
       "  323.672,384.952 323.672,379.237 \n",
       "  \"/>\n",
       "<polyline clip-path=\"url(#clip02)\" style=\"stroke:#00002d; stroke-width:0.8; stroke-opacity:1; fill:none\" points=\"\n",
       "  530.436,384.952 530.436,379.237 \n",
       "  \"/>\n",
       "<polyline clip-path=\"url(#clip02)\" style=\"stroke:#00002d; stroke-width:0.8; stroke-opacity:1; fill:none\" points=\"\n",
       "  30.6037,384.952 30.6037,3.93701 \n",
       "  \"/>\n",
       "<polyline clip-path=\"url(#clip02)\" style=\"stroke:#00002d; stroke-width:0.8; stroke-opacity:1; fill:none\" points=\"\n",
       "  30.6037,384.952 39.0856,384.952 \n",
       "  \"/>\n",
       "<polyline clip-path=\"url(#clip02)\" style=\"stroke:#00002d; stroke-width:0.8; stroke-opacity:1; fill:none\" points=\"\n",
       "  30.6037,308.596 39.0856,308.596 \n",
       "  \"/>\n",
       "<polyline clip-path=\"url(#clip02)\" style=\"stroke:#00002d; stroke-width:0.8; stroke-opacity:1; fill:none\" points=\"\n",
       "  30.6037,232.241 39.0856,232.241 \n",
       "  \"/>\n",
       "<polyline clip-path=\"url(#clip02)\" style=\"stroke:#00002d; stroke-width:0.8; stroke-opacity:1; fill:none\" points=\"\n",
       "  30.6037,155.885 39.0856,155.885 \n",
       "  \"/>\n",
       "<polyline clip-path=\"url(#clip02)\" style=\"stroke:#00002d; stroke-width:0.8; stroke-opacity:1; fill:none\" points=\"\n",
       "  30.6037,79.5291 39.0856,79.5291 \n",
       "  \"/>\n",
       "<g clip-path=\"url(#clip00)\">\n",
       "<text style=\"fill:#00002d; fill-opacity:1; font-family:Arial,Helvetica Neue,Helvetica,sans-serif; font-size:12; text-anchor:middle;\" transform=\"rotate(0, 116.907, 396.952)\" x=\"116.907\" y=\"396.952\">-100</text>\n",
       "</g>\n",
       "<g clip-path=\"url(#clip00)\">\n",
       "<text style=\"fill:#00002d; fill-opacity:1; font-family:Arial,Helvetica Neue,Helvetica,sans-serif; font-size:12; text-anchor:middle;\" transform=\"rotate(0, 323.672, 396.952)\" x=\"323.672\" y=\"396.952\">0</text>\n",
       "</g>\n",
       "<g clip-path=\"url(#clip00)\">\n",
       "<text style=\"fill:#00002d; fill-opacity:1; font-family:Arial,Helvetica Neue,Helvetica,sans-serif; font-size:12; text-anchor:middle;\" transform=\"rotate(0, 530.436, 396.952)\" x=\"530.436\" y=\"396.952\">100</text>\n",
       "</g>\n",
       "<g clip-path=\"url(#clip00)\">\n",
       "<text style=\"fill:#00002d; fill-opacity:1; font-family:Arial,Helvetica Neue,Helvetica,sans-serif; font-size:12; text-anchor:end;\" transform=\"rotate(0, 29.4037, 389.452)\" x=\"29.4037\" y=\"389.452\">0</text>\n",
       "</g>\n",
       "<g clip-path=\"url(#clip00)\">\n",
       "<text style=\"fill:#00002d; fill-opacity:1; font-family:Arial,Helvetica Neue,Helvetica,sans-serif; font-size:12; text-anchor:end;\" transform=\"rotate(0, 29.4037, 313.096)\" x=\"29.4037\" y=\"313.096\">100</text>\n",
       "</g>\n",
       "<g clip-path=\"url(#clip00)\">\n",
       "<text style=\"fill:#00002d; fill-opacity:1; font-family:Arial,Helvetica Neue,Helvetica,sans-serif; font-size:12; text-anchor:end;\" transform=\"rotate(0, 29.4037, 236.741)\" x=\"29.4037\" y=\"236.741\">200</text>\n",
       "</g>\n",
       "<g clip-path=\"url(#clip00)\">\n",
       "<text style=\"fill:#00002d; fill-opacity:1; font-family:Arial,Helvetica Neue,Helvetica,sans-serif; font-size:12; text-anchor:end;\" transform=\"rotate(0, 29.4037, 160.385)\" x=\"29.4037\" y=\"160.385\">300</text>\n",
       "</g>\n",
       "<g clip-path=\"url(#clip00)\">\n",
       "<text style=\"fill:#00002d; fill-opacity:1; font-family:Arial,Helvetica Neue,Helvetica,sans-serif; font-size:12; text-anchor:end;\" transform=\"rotate(0, 29.4037, 84.0291)\" x=\"29.4037\" y=\"84.0291\">400</text>\n",
       "</g>\n",
       "<polygon clip-path=\"url(#clip02)\" points=\"\n",
       "46.6072,384.188 46.6072,384.952 51.9418,384.952 51.9418,384.188 46.6072,384.188 46.6072,384.188 \n",
       "  \" fill=\"#0099ff\" fill-opacity=\"1\"/>\n",
       "<polyline clip-path=\"url(#clip02)\" style=\"stroke:#00002d; stroke-width:0.8; stroke-opacity:1; fill:none\" points=\"\n",
       "  46.6072,384.188 46.6072,384.952 51.9418,384.952 51.9418,384.188 46.6072,384.188 \n",
       "  \"/>\n",
       "<polygon clip-path=\"url(#clip02)\" points=\"\n",
       "51.9418,384.952 51.9418,384.952 57.2763,384.952 57.2763,384.952 51.9418,384.952 51.9418,384.952 \n",
       "  \" fill=\"#0099ff\" fill-opacity=\"1\"/>\n",
       "<polyline clip-path=\"url(#clip02)\" style=\"stroke:#00002d; stroke-width:0.8; stroke-opacity:1; fill:none\" points=\"\n",
       "  51.9418,384.952 51.9418,384.952 57.2763,384.952 51.9418,384.952 \n",
       "  \"/>\n",
       "<polygon clip-path=\"url(#clip02)\" points=\"\n",
       "57.2763,384.952 57.2763,384.952 62.6108,384.952 62.6108,384.952 57.2763,384.952 57.2763,384.952 \n",
       "  \" fill=\"#0099ff\" fill-opacity=\"1\"/>\n",
       "<polyline clip-path=\"url(#clip02)\" style=\"stroke:#00002d; stroke-width:0.8; stroke-opacity:1; fill:none\" points=\"\n",
       "  57.2763,384.952 57.2763,384.952 62.6108,384.952 57.2763,384.952 \n",
       "  \"/>\n",
       "<polygon clip-path=\"url(#clip02)\" points=\"\n",
       "62.6108,384.952 62.6108,384.952 67.9453,384.952 67.9453,384.952 62.6108,384.952 62.6108,384.952 \n",
       "  \" fill=\"#0099ff\" fill-opacity=\"1\"/>\n",
       "<polyline clip-path=\"url(#clip02)\" style=\"stroke:#00002d; stroke-width:0.8; stroke-opacity:1; fill:none\" points=\"\n",
       "  62.6108,384.952 62.6108,384.952 67.9453,384.952 62.6108,384.952 \n",
       "  \"/>\n",
       "<polygon clip-path=\"url(#clip02)\" points=\"\n",
       "67.9453,384.952 67.9453,384.952 73.2798,384.952 73.2798,384.952 67.9453,384.952 67.9453,384.952 \n",
       "  \" fill=\"#0099ff\" fill-opacity=\"1\"/>\n",
       "<polyline clip-path=\"url(#clip02)\" style=\"stroke:#00002d; stroke-width:0.8; stroke-opacity:1; fill:none\" points=\"\n",
       "  67.9453,384.952 67.9453,384.952 73.2798,384.952 67.9453,384.952 \n",
       "  \"/>\n",
       "<polygon clip-path=\"url(#clip02)\" points=\"\n",
       "73.2798,384.952 73.2798,384.952 78.6144,384.952 78.6144,384.952 73.2798,384.952 73.2798,384.952 \n",
       "  \" fill=\"#0099ff\" fill-opacity=\"1\"/>\n",
       "<polyline clip-path=\"url(#clip02)\" style=\"stroke:#00002d; stroke-width:0.8; stroke-opacity:1; fill:none\" points=\"\n",
       "  73.2798,384.952 73.2798,384.952 78.6144,384.952 73.2798,384.952 \n",
       "  \"/>\n",
       "<polygon clip-path=\"url(#clip02)\" points=\"\n",
       "78.6144,384.952 78.6144,384.952 83.9489,384.952 83.9489,384.952 78.6144,384.952 78.6144,384.952 \n",
       "  \" fill=\"#0099ff\" fill-opacity=\"1\"/>\n",
       "<polyline clip-path=\"url(#clip02)\" style=\"stroke:#00002d; stroke-width:0.8; stroke-opacity:1; fill:none\" points=\"\n",
       "  78.6144,384.952 78.6144,384.952 83.9489,384.952 78.6144,384.952 \n",
       "  \"/>\n",
       "<polygon clip-path=\"url(#clip02)\" points=\"\n",
       "83.9489,384.952 83.9489,384.952 89.2834,384.952 89.2834,384.952 83.9489,384.952 83.9489,384.952 \n",
       "  \" fill=\"#0099ff\" fill-opacity=\"1\"/>\n",
       "<polyline clip-path=\"url(#clip02)\" style=\"stroke:#00002d; stroke-width:0.8; stroke-opacity:1; fill:none\" points=\"\n",
       "  83.9489,384.952 83.9489,384.952 89.2834,384.952 83.9489,384.952 \n",
       "  \"/>\n",
       "<polygon clip-path=\"url(#clip02)\" points=\"\n",
       "89.2834,384.952 89.2834,384.952 94.6179,384.952 94.6179,384.952 89.2834,384.952 89.2834,384.952 \n",
       "  \" fill=\"#0099ff\" fill-opacity=\"1\"/>\n",
       "<polyline clip-path=\"url(#clip02)\" style=\"stroke:#00002d; stroke-width:0.8; stroke-opacity:1; fill:none\" points=\"\n",
       "  89.2834,384.952 89.2834,384.952 94.6179,384.952 89.2834,384.952 \n",
       "  \"/>\n",
       "<polygon clip-path=\"url(#clip02)\" points=\"\n",
       "94.6179,384.952 94.6179,384.952 99.9525,384.952 99.9525,384.952 94.6179,384.952 94.6179,384.952 \n",
       "  \" fill=\"#0099ff\" fill-opacity=\"1\"/>\n",
       "<polyline clip-path=\"url(#clip02)\" style=\"stroke:#00002d; stroke-width:0.8; stroke-opacity:1; fill:none\" points=\"\n",
       "  94.6179,384.952 94.6179,384.952 99.9525,384.952 94.6179,384.952 \n",
       "  \"/>\n",
       "<polygon clip-path=\"url(#clip02)\" points=\"\n",
       "99.9525,384.188 99.9525,384.952 105.287,384.952 105.287,384.188 99.9525,384.188 99.9525,384.188 \n",
       "  \" fill=\"#0099ff\" fill-opacity=\"1\"/>\n",
       "<polyline clip-path=\"url(#clip02)\" style=\"stroke:#00002d; stroke-width:0.8; stroke-opacity:1; fill:none\" points=\"\n",
       "  99.9525,384.188 99.9525,384.952 105.287,384.952 105.287,384.188 99.9525,384.188 \n",
       "  \"/>\n",
       "<polygon clip-path=\"url(#clip02)\" points=\"\n",
       "105.287,384.188 105.287,384.952 110.622,384.952 110.622,384.188 105.287,384.188 105.287,384.188 \n",
       "  \" fill=\"#0099ff\" fill-opacity=\"1\"/>\n",
       "<polyline clip-path=\"url(#clip02)\" style=\"stroke:#00002d; stroke-width:0.8; stroke-opacity:1; fill:none\" points=\"\n",
       "  105.287,384.188 105.287,384.952 110.622,384.952 110.622,384.188 105.287,384.188 \n",
       "  \"/>\n",
       "<polygon clip-path=\"url(#clip02)\" points=\"\n",
       "110.622,384.952 110.622,384.952 115.956,384.952 115.956,384.952 110.622,384.952 110.622,384.952 \n",
       "  \" fill=\"#0099ff\" fill-opacity=\"1\"/>\n",
       "<polyline clip-path=\"url(#clip02)\" style=\"stroke:#00002d; stroke-width:0.8; stroke-opacity:1; fill:none\" points=\"\n",
       "  110.622,384.952 110.622,384.952 115.956,384.952 110.622,384.952 \n",
       "  \"/>\n",
       "<polygon clip-path=\"url(#clip02)\" points=\"\n",
       "115.956,384.188 115.956,384.952 121.291,384.952 121.291,384.188 115.956,384.188 115.956,384.188 \n",
       "  \" fill=\"#0099ff\" fill-opacity=\"1\"/>\n",
       "<polyline clip-path=\"url(#clip02)\" style=\"stroke:#00002d; stroke-width:0.8; stroke-opacity:1; fill:none\" points=\"\n",
       "  115.956,384.188 115.956,384.952 121.291,384.952 121.291,384.188 115.956,384.188 \n",
       "  \"/>\n",
       "<polygon clip-path=\"url(#clip02)\" points=\"\n",
       "121.291,383.425 121.291,384.952 126.625,384.952 126.625,383.425 121.291,383.425 121.291,383.425 \n",
       "  \" fill=\"#0099ff\" fill-opacity=\"1\"/>\n",
       "<polyline clip-path=\"url(#clip02)\" style=\"stroke:#00002d; stroke-width:0.8; stroke-opacity:1; fill:none\" points=\"\n",
       "  121.291,383.425 121.291,384.952 126.625,384.952 126.625,383.425 121.291,383.425 \n",
       "  \"/>\n",
       "<polygon clip-path=\"url(#clip02)\" points=\"\n",
       "126.625,383.425 126.625,384.952 131.96,384.952 131.96,383.425 126.625,383.425 126.625,383.425 \n",
       "  \" fill=\"#0099ff\" fill-opacity=\"1\"/>\n",
       "<polyline clip-path=\"url(#clip02)\" style=\"stroke:#00002d; stroke-width:0.8; stroke-opacity:1; fill:none\" points=\"\n",
       "  126.625,383.425 126.625,384.952 131.96,384.952 131.96,383.425 126.625,383.425 \n",
       "  \"/>\n",
       "<polygon clip-path=\"url(#clip02)\" points=\"\n",
       "131.96,382.661 131.96,384.952 137.294,384.952 137.294,382.661 131.96,382.661 131.96,382.661 \n",
       "  \" fill=\"#0099ff\" fill-opacity=\"1\"/>\n",
       "<polyline clip-path=\"url(#clip02)\" style=\"stroke:#00002d; stroke-width:0.8; stroke-opacity:1; fill:none\" points=\"\n",
       "  131.96,382.661 131.96,384.952 137.294,384.952 137.294,382.661 131.96,382.661 \n",
       "  \"/>\n",
       "<polygon clip-path=\"url(#clip02)\" points=\"\n",
       "137.294,378.08 137.294,384.952 142.629,384.952 142.629,378.08 137.294,378.08 137.294,378.08 \n",
       "  \" fill=\"#0099ff\" fill-opacity=\"1\"/>\n",
       "<polyline clip-path=\"url(#clip02)\" style=\"stroke:#00002d; stroke-width:0.8; stroke-opacity:1; fill:none\" points=\"\n",
       "  137.294,378.08 137.294,384.952 142.629,384.952 142.629,378.08 137.294,378.08 \n",
       "  \"/>\n",
       "<polygon clip-path=\"url(#clip02)\" points=\"\n",
       "142.629,382.661 142.629,384.952 147.963,384.952 147.963,382.661 142.629,382.661 142.629,382.661 \n",
       "  \" fill=\"#0099ff\" fill-opacity=\"1\"/>\n",
       "<polyline clip-path=\"url(#clip02)\" style=\"stroke:#00002d; stroke-width:0.8; stroke-opacity:1; fill:none\" points=\"\n",
       "  142.629,382.661 142.629,384.952 147.963,384.952 147.963,382.661 142.629,382.661 \n",
       "  \"/>\n",
       "<polygon clip-path=\"url(#clip02)\" points=\"\n",
       "147.963,378.843 147.963,384.952 153.298,384.952 153.298,378.843 147.963,378.843 147.963,378.843 \n",
       "  \" fill=\"#0099ff\" fill-opacity=\"1\"/>\n",
       "<polyline clip-path=\"url(#clip02)\" style=\"stroke:#00002d; stroke-width:0.8; stroke-opacity:1; fill:none\" points=\"\n",
       "  147.963,378.843 147.963,384.952 153.298,384.952 153.298,378.843 147.963,378.843 \n",
       "  \"/>\n",
       "<polygon clip-path=\"url(#clip02)\" points=\"\n",
       "153.298,367.39 153.298,384.952 158.632,384.952 158.632,367.39 153.298,367.39 153.298,367.39 \n",
       "  \" fill=\"#0099ff\" fill-opacity=\"1\"/>\n",
       "<polyline clip-path=\"url(#clip02)\" style=\"stroke:#00002d; stroke-width:0.8; stroke-opacity:1; fill:none\" points=\"\n",
       "  153.298,367.39 153.298,384.952 158.632,384.952 158.632,367.39 153.298,367.39 \n",
       "  \"/>\n",
       "<polygon clip-path=\"url(#clip02)\" points=\"\n",
       "158.632,374.262 158.632,384.952 163.967,384.952 163.967,374.262 158.632,374.262 158.632,374.262 \n",
       "  \" fill=\"#0099ff\" fill-opacity=\"1\"/>\n",
       "<polyline clip-path=\"url(#clip02)\" style=\"stroke:#00002d; stroke-width:0.8; stroke-opacity:1; fill:none\" points=\"\n",
       "  158.632,374.262 158.632,384.952 163.967,384.952 163.967,374.262 158.632,374.262 \n",
       "  \"/>\n",
       "<polygon clip-path=\"url(#clip02)\" points=\"\n",
       "163.967,371.971 163.967,384.952 169.301,384.952 169.301,371.971 163.967,371.971 163.967,371.971 \n",
       "  \" fill=\"#0099ff\" fill-opacity=\"1\"/>\n",
       "<polyline clip-path=\"url(#clip02)\" style=\"stroke:#00002d; stroke-width:0.8; stroke-opacity:1; fill:none\" points=\"\n",
       "  163.967,371.971 163.967,384.952 169.301,384.952 169.301,371.971 163.967,371.971 \n",
       "  \"/>\n",
       "<polygon clip-path=\"url(#clip02)\" points=\"\n",
       "169.301,371.208 169.301,384.952 174.636,384.952 174.636,371.208 169.301,371.208 169.301,371.208 \n",
       "  \" fill=\"#0099ff\" fill-opacity=\"1\"/>\n",
       "<polyline clip-path=\"url(#clip02)\" style=\"stroke:#00002d; stroke-width:0.8; stroke-opacity:1; fill:none\" points=\"\n",
       "  169.301,371.208 169.301,384.952 174.636,384.952 174.636,371.208 169.301,371.208 \n",
       "  \"/>\n",
       "<polygon clip-path=\"url(#clip02)\" points=\"\n",
       "174.636,352.119 174.636,384.952 179.97,384.952 179.97,352.119 174.636,352.119 174.636,352.119 \n",
       "  \" fill=\"#0099ff\" fill-opacity=\"1\"/>\n",
       "<polyline clip-path=\"url(#clip02)\" style=\"stroke:#00002d; stroke-width:0.8; stroke-opacity:1; fill:none\" points=\"\n",
       "  174.636,352.119 174.636,384.952 179.97,384.952 179.97,352.119 174.636,352.119 \n",
       "  \"/>\n",
       "<polygon clip-path=\"url(#clip02)\" points=\"\n",
       "179.97,365.863 179.97,384.952 185.305,384.952 185.305,365.863 179.97,365.863 179.97,365.863 \n",
       "  \" fill=\"#0099ff\" fill-opacity=\"1\"/>\n",
       "<polyline clip-path=\"url(#clip02)\" style=\"stroke:#00002d; stroke-width:0.8; stroke-opacity:1; fill:none\" points=\"\n",
       "  179.97,365.863 179.97,384.952 185.305,384.952 185.305,365.863 179.97,365.863 \n",
       "  \"/>\n",
       "<polygon clip-path=\"url(#clip02)\" points=\"\n",
       "185.305,362.045 185.305,384.952 190.639,384.952 190.639,362.045 185.305,362.045 185.305,362.045 \n",
       "  \" fill=\"#0099ff\" fill-opacity=\"1\"/>\n",
       "<polyline clip-path=\"url(#clip02)\" style=\"stroke:#00002d; stroke-width:0.8; stroke-opacity:1; fill:none\" points=\"\n",
       "  185.305,362.045 185.305,384.952 190.639,384.952 190.639,362.045 185.305,362.045 \n",
       "  \"/>\n",
       "<polygon clip-path=\"url(#clip02)\" points=\"\n",
       "190.639,320.813 190.639,384.952 195.974,384.952 195.974,320.813 190.639,320.813 190.639,320.813 \n",
       "  \" fill=\"#0099ff\" fill-opacity=\"1\"/>\n",
       "<polyline clip-path=\"url(#clip02)\" style=\"stroke:#00002d; stroke-width:0.8; stroke-opacity:1; fill:none\" points=\"\n",
       "  190.639,320.813 190.639,384.952 195.974,384.952 195.974,320.813 190.639,320.813 \n",
       "  \"/>\n",
       "<polygon clip-path=\"url(#clip02)\" points=\"\n",
       "195.974,352.119 195.974,384.952 201.308,384.952 201.308,352.119 195.974,352.119 195.974,352.119 \n",
       "  \" fill=\"#0099ff\" fill-opacity=\"1\"/>\n",
       "<polyline clip-path=\"url(#clip02)\" style=\"stroke:#00002d; stroke-width:0.8; stroke-opacity:1; fill:none\" points=\"\n",
       "  195.974,352.119 195.974,384.952 201.308,384.952 201.308,352.119 195.974,352.119 \n",
       "  \"/>\n",
       "<polygon clip-path=\"url(#clip02)\" points=\"\n",
       "201.308,349.828 201.308,384.952 206.643,384.952 206.643,349.828 201.308,349.828 201.308,349.828 \n",
       "  \" fill=\"#0099ff\" fill-opacity=\"1\"/>\n",
       "<polyline clip-path=\"url(#clip02)\" style=\"stroke:#00002d; stroke-width:0.8; stroke-opacity:1; fill:none\" points=\"\n",
       "  201.308,349.828 201.308,384.952 206.643,384.952 206.643,349.828 201.308,349.828 \n",
       "  \"/>\n",
       "<polygon clip-path=\"url(#clip02)\" points=\"\n",
       "206.643,345.247 206.643,384.952 211.977,384.952 211.977,345.247 206.643,345.247 206.643,345.247 \n",
       "  \" fill=\"#0099ff\" fill-opacity=\"1\"/>\n",
       "<polyline clip-path=\"url(#clip02)\" style=\"stroke:#00002d; stroke-width:0.8; stroke-opacity:1; fill:none\" points=\"\n",
       "  206.643,345.247 206.643,384.952 211.977,384.952 211.977,345.247 206.643,345.247 \n",
       "  \"/>\n",
       "<polygon clip-path=\"url(#clip02)\" points=\"\n",
       "211.977,294.089 211.977,384.952 217.312,384.952 217.312,294.089 211.977,294.089 211.977,294.089 \n",
       "  \" fill=\"#0099ff\" fill-opacity=\"1\"/>\n",
       "<polyline clip-path=\"url(#clip02)\" style=\"stroke:#00002d; stroke-width:0.8; stroke-opacity:1; fill:none\" points=\"\n",
       "  211.977,294.089 211.977,384.952 217.312,384.952 217.312,294.089 211.977,294.089 \n",
       "  \"/>\n",
       "<polygon clip-path=\"url(#clip02)\" points=\"\n",
       "217.312,323.104 217.312,384.952 222.646,384.952 222.646,323.104 217.312,323.104 217.312,323.104 \n",
       "  \" fill=\"#0099ff\" fill-opacity=\"1\"/>\n",
       "<polyline clip-path=\"url(#clip02)\" style=\"stroke:#00002d; stroke-width:0.8; stroke-opacity:1; fill:none\" points=\"\n",
       "  217.312,323.104 217.312,384.952 222.646,384.952 222.646,323.104 217.312,323.104 \n",
       "  \"/>\n",
       "<polygon clip-path=\"url(#clip02)\" points=\"\n",
       "222.646,323.867 222.646,384.952 227.981,384.952 227.981,323.867 222.646,323.867 222.646,323.867 \n",
       "  \" fill=\"#0099ff\" fill-opacity=\"1\"/>\n",
       "<polyline clip-path=\"url(#clip02)\" style=\"stroke:#00002d; stroke-width:0.8; stroke-opacity:1; fill:none\" points=\"\n",
       "  222.646,323.867 222.646,384.952 227.981,384.952 227.981,323.867 222.646,323.867 \n",
       "  \"/>\n",
       "<polygon clip-path=\"url(#clip02)\" points=\"\n",
       "227.981,233.004 227.981,384.952 233.316,384.952 233.316,233.004 227.981,233.004 227.981,233.004 \n",
       "  \" fill=\"#0099ff\" fill-opacity=\"1\"/>\n",
       "<polyline clip-path=\"url(#clip02)\" style=\"stroke:#00002d; stroke-width:0.8; stroke-opacity:1; fill:none\" points=\"\n",
       "  227.981,233.004 227.981,384.952 233.316,384.952 233.316,233.004 227.981,233.004 \n",
       "  \"/>\n",
       "<polygon clip-path=\"url(#clip02)\" points=\"\n",
       "233.316,300.961 233.316,384.952 238.65,384.952 238.65,300.961 233.316,300.961 233.316,300.961 \n",
       "  \" fill=\"#0099ff\" fill-opacity=\"1\"/>\n",
       "<polyline clip-path=\"url(#clip02)\" style=\"stroke:#00002d; stroke-width:0.8; stroke-opacity:1; fill:none\" points=\"\n",
       "  233.316,300.961 233.316,384.952 238.65,384.952 238.65,300.961 233.316,300.961 \n",
       "  \"/>\n",
       "<polygon clip-path=\"url(#clip02)\" points=\"\n",
       "238.65,291.034 238.65,384.952 243.985,384.952 243.985,291.034 238.65,291.034 238.65,291.034 \n",
       "  \" fill=\"#0099ff\" fill-opacity=\"1\"/>\n",
       "<polyline clip-path=\"url(#clip02)\" style=\"stroke:#00002d; stroke-width:0.8; stroke-opacity:1; fill:none\" points=\"\n",
       "  238.65,291.034 238.65,384.952 243.985,384.952 243.985,291.034 238.65,291.034 \n",
       "  \"/>\n",
       "<polygon clip-path=\"url(#clip02)\" points=\"\n",
       "243.985,203.225 243.985,384.952 249.319,384.952 249.319,203.225 243.985,203.225 243.985,203.225 \n",
       "  \" fill=\"#0099ff\" fill-opacity=\"1\"/>\n",
       "<polyline clip-path=\"url(#clip02)\" style=\"stroke:#00002d; stroke-width:0.8; stroke-opacity:1; fill:none\" points=\"\n",
       "  243.985,203.225 243.985,384.952 249.319,384.952 249.319,203.225 243.985,203.225 \n",
       "  \"/>\n",
       "<polygon clip-path=\"url(#clip02)\" points=\"\n",
       "249.319,263.546 249.319,384.952 254.654,384.952 254.654,263.546 249.319,263.546 249.319,263.546 \n",
       "  \" fill=\"#0099ff\" fill-opacity=\"1\"/>\n",
       "<polyline clip-path=\"url(#clip02)\" style=\"stroke:#00002d; stroke-width:0.8; stroke-opacity:1; fill:none\" points=\"\n",
       "  249.319,263.546 249.319,384.952 254.654,384.952 254.654,263.546 249.319,263.546 \n",
       "  \"/>\n",
       "<polygon clip-path=\"url(#clip02)\" points=\"\n",
       "254.654,272.709 254.654,384.952 259.988,384.952 259.988,272.709 254.654,272.709 254.654,272.709 \n",
       "  \" fill=\"#0099ff\" fill-opacity=\"1\"/>\n",
       "<polyline clip-path=\"url(#clip02)\" style=\"stroke:#00002d; stroke-width:0.8; stroke-opacity:1; fill:none\" points=\"\n",
       "  254.654,272.709 254.654,384.952 259.988,384.952 259.988,272.709 254.654,272.709 \n",
       "  \"/>\n",
       "<polygon clip-path=\"url(#clip02)\" points=\"\n",
       "259.988,275 259.988,384.952 265.323,384.952 265.323,275 259.988,275 259.988,275 \n",
       "  \" fill=\"#0099ff\" fill-opacity=\"1\"/>\n",
       "<polyline clip-path=\"url(#clip02)\" style=\"stroke:#00002d; stroke-width:0.8; stroke-opacity:1; fill:none\" points=\"\n",
       "  259.988,275 259.988,384.952 265.323,384.952 265.323,275 259.988,275 \n",
       "  \"/>\n",
       "<polygon clip-path=\"url(#clip02)\" points=\"\n",
       "265.323,105.49 265.323,384.952 270.657,384.952 270.657,105.49 265.323,105.49 265.323,105.49 \n",
       "  \" fill=\"#0099ff\" fill-opacity=\"1\"/>\n",
       "<polyline clip-path=\"url(#clip02)\" style=\"stroke:#00002d; stroke-width:0.8; stroke-opacity:1; fill:none\" points=\"\n",
       "  265.323,105.49 265.323,384.952 270.657,384.952 270.657,105.49 265.323,105.49 \n",
       "  \"/>\n",
       "<polygon clip-path=\"url(#clip02)\" points=\"\n",
       "270.657,236.822 270.657,384.952 275.992,384.952 275.992,236.822 270.657,236.822 270.657,236.822 \n",
       "  \" fill=\"#0099ff\" fill-opacity=\"1\"/>\n",
       "<polyline clip-path=\"url(#clip02)\" style=\"stroke:#00002d; stroke-width:0.8; stroke-opacity:1; fill:none\" points=\"\n",
       "  270.657,236.822 270.657,384.952 275.992,384.952 275.992,236.822 270.657,236.822 \n",
       "  \"/>\n",
       "<polygon clip-path=\"url(#clip02)\" points=\"\n",
       "275.992,239.113 275.992,384.952 281.326,384.952 281.326,239.113 275.992,239.113 275.992,239.113 \n",
       "  \" fill=\"#0099ff\" fill-opacity=\"1\"/>\n",
       "<polyline clip-path=\"url(#clip02)\" style=\"stroke:#00002d; stroke-width:0.8; stroke-opacity:1; fill:none\" points=\"\n",
       "  275.992,239.113 275.992,384.952 281.326,384.952 281.326,239.113 275.992,239.113 \n",
       "  \"/>\n",
       "<polygon clip-path=\"url(#clip02)\" points=\"\n",
       "281.326,63.4944 281.326,384.952 286.661,384.952 286.661,63.4944 281.326,63.4944 281.326,63.4944 \n",
       "  \" fill=\"#0099ff\" fill-opacity=\"1\"/>\n",
       "<polyline clip-path=\"url(#clip02)\" style=\"stroke:#00002d; stroke-width:0.8; stroke-opacity:1; fill:none\" points=\"\n",
       "  281.326,63.4944 281.326,384.952 286.661,384.952 286.661,63.4944 281.326,63.4944 \n",
       "  \"/>\n",
       "<polygon clip-path=\"url(#clip02)\" points=\"\n",
       "286.661,200.171 286.661,384.952 291.995,384.952 291.995,200.171 286.661,200.171 286.661,200.171 \n",
       "  \" fill=\"#0099ff\" fill-opacity=\"1\"/>\n",
       "<polyline clip-path=\"url(#clip02)\" style=\"stroke:#00002d; stroke-width:0.8; stroke-opacity:1; fill:none\" points=\"\n",
       "  286.661,200.171 286.661,384.952 291.995,384.952 291.995,200.171 286.661,200.171 \n",
       "  \"/>\n",
       "<polygon clip-path=\"url(#clip02)\" points=\"\n",
       "291.995,192.536 291.995,384.952 297.33,384.952 297.33,192.536 291.995,192.536 291.995,192.536 \n",
       "  \" fill=\"#0099ff\" fill-opacity=\"1\"/>\n",
       "<polyline clip-path=\"url(#clip02)\" style=\"stroke:#00002d; stroke-width:0.8; stroke-opacity:1; fill:none\" points=\"\n",
       "  291.995,192.536 291.995,384.952 297.33,384.952 297.33,192.536 291.995,192.536 \n",
       "  \"/>\n",
       "<polygon clip-path=\"url(#clip02)\" points=\"\n",
       "297.33,203.225 297.33,384.952 302.664,384.952 302.664,203.225 297.33,203.225 297.33,203.225 \n",
       "  \" fill=\"#0099ff\" fill-opacity=\"1\"/>\n",
       "<polyline clip-path=\"url(#clip02)\" style=\"stroke:#00002d; stroke-width:0.8; stroke-opacity:1; fill:none\" points=\"\n",
       "  297.33,203.225 297.33,384.952 302.664,384.952 302.664,203.225 297.33,203.225 \n",
       "  \"/>\n",
       "<polygon clip-path=\"url(#clip02)\" points=\"\n",
       "302.664,46.6962 302.664,384.952 307.999,384.952 307.999,46.6962 302.664,46.6962 302.664,46.6962 \n",
       "  \" fill=\"#0099ff\" fill-opacity=\"1\"/>\n",
       "<polyline clip-path=\"url(#clip02)\" style=\"stroke:#00002d; stroke-width:0.8; stroke-opacity:1; fill:none\" points=\"\n",
       "  302.664,46.6962 302.664,384.952 307.999,384.952 307.999,46.6962 302.664,46.6962 \n",
       "  \"/>\n",
       "<polygon clip-path=\"url(#clip02)\" points=\"\n",
       "307.999,203.225 307.999,384.952 313.333,384.952 313.333,203.225 307.999,203.225 307.999,203.225 \n",
       "  \" fill=\"#0099ff\" fill-opacity=\"1\"/>\n",
       "<polyline clip-path=\"url(#clip02)\" style=\"stroke:#00002d; stroke-width:0.8; stroke-opacity:1; fill:none\" points=\"\n",
       "  307.999,203.225 307.999,384.952 313.333,384.952 313.333,203.225 307.999,203.225 \n",
       "  \"/>\n",
       "<polygon clip-path=\"url(#clip02)\" points=\"\n",
       "313.333,178.028 313.333,384.952 318.668,384.952 318.668,178.028 313.333,178.028 313.333,178.028 \n",
       "  \" fill=\"#0099ff\" fill-opacity=\"1\"/>\n",
       "<polyline clip-path=\"url(#clip02)\" style=\"stroke:#00002d; stroke-width:0.8; stroke-opacity:1; fill:none\" points=\"\n",
       "  313.333,178.028 313.333,384.952 318.668,384.952 318.668,178.028 313.333,178.028 \n",
       "  \"/>\n",
       "<polygon clip-path=\"url(#clip02)\" points=\"\n",
       "318.668,6.22768 318.668,384.952 324.002,384.952 324.002,6.22768 318.668,6.22768 318.668,6.22768 \n",
       "  \" fill=\"#0099ff\" fill-opacity=\"1\"/>\n",
       "<polyline clip-path=\"url(#clip02)\" style=\"stroke:#00002d; stroke-width:0.8; stroke-opacity:1; fill:none\" points=\"\n",
       "  318.668,6.22768 318.668,384.952 324.002,384.952 324.002,6.22768 318.668,6.22768 \n",
       "  \"/>\n",
       "<polygon clip-path=\"url(#clip02)\" points=\"\n",
       "324.002,202.462 324.002,384.952 329.337,384.952 329.337,202.462 324.002,202.462 324.002,202.462 \n",
       "  \" fill=\"#0099ff\" fill-opacity=\"1\"/>\n",
       "<polyline clip-path=\"url(#clip02)\" style=\"stroke:#00002d; stroke-width:0.8; stroke-opacity:1; fill:none\" points=\"\n",
       "  324.002,202.462 324.002,384.952 329.337,384.952 329.337,202.462 324.002,202.462 \n",
       "  \"/>\n",
       "<polygon clip-path=\"url(#clip02)\" points=\"\n",
       "329.337,190.245 329.337,384.952 334.671,384.952 334.671,190.245 329.337,190.245 329.337,190.245 \n",
       "  \" fill=\"#0099ff\" fill-opacity=\"1\"/>\n",
       "<polyline clip-path=\"url(#clip02)\" style=\"stroke:#00002d; stroke-width:0.8; stroke-opacity:1; fill:none\" points=\"\n",
       "  329.337,190.245 329.337,384.952 334.671,384.952 334.671,190.245 329.337,190.245 \n",
       "  \"/>\n",
       "<polygon clip-path=\"url(#clip02)\" points=\"\n",
       "334.671,183.373 334.671,384.952 340.006,384.952 340.006,183.373 334.671,183.373 334.671,183.373 \n",
       "  \" fill=\"#0099ff\" fill-opacity=\"1\"/>\n",
       "<polyline clip-path=\"url(#clip02)\" style=\"stroke:#00002d; stroke-width:0.8; stroke-opacity:1; fill:none\" points=\"\n",
       "  334.671,183.373 334.671,384.952 340.006,384.952 340.006,183.373 334.671,183.373 \n",
       "  \"/>\n",
       "<polygon clip-path=\"url(#clip02)\" points=\"\n",
       "340.006,3.93701 340.006,384.952 345.34,384.952 345.34,3.93701 340.006,3.93701 340.006,3.93701 \n",
       "  \" fill=\"#0099ff\" fill-opacity=\"1\"/>\n",
       "<polyline clip-path=\"url(#clip02)\" style=\"stroke:#00002d; stroke-width:0.8; stroke-opacity:1; fill:none\" points=\"\n",
       "  340.006,3.93701 340.006,384.952 345.34,384.952 345.34,3.93701 340.006,3.93701 \n",
       "  \"/>\n",
       "<polygon clip-path=\"url(#clip02)\" points=\"\n",
       "345.34,220.787 345.34,384.952 350.675,384.952 350.675,220.787 345.34,220.787 345.34,220.787 \n",
       "  \" fill=\"#0099ff\" fill-opacity=\"1\"/>\n",
       "<polyline clip-path=\"url(#clip02)\" style=\"stroke:#00002d; stroke-width:0.8; stroke-opacity:1; fill:none\" points=\"\n",
       "  345.34,220.787 345.34,384.952 350.675,384.952 350.675,220.787 345.34,220.787 \n",
       "  \"/>\n",
       "<polygon clip-path=\"url(#clip02)\" points=\"\n",
       "350.675,215.442 350.675,384.952 356.01,384.952 356.01,215.442 350.675,215.442 350.675,215.442 \n",
       "  \" fill=\"#0099ff\" fill-opacity=\"1\"/>\n",
       "<polyline clip-path=\"url(#clip02)\" style=\"stroke:#00002d; stroke-width:0.8; stroke-opacity:1; fill:none\" points=\"\n",
       "  350.675,215.442 350.675,384.952 356.01,384.952 356.01,215.442 350.675,215.442 \n",
       "  \"/>\n",
       "<polygon clip-path=\"url(#clip02)\" points=\"\n",
       "356.01,71.13 356.01,384.952 361.344,384.952 361.344,71.13 356.01,71.13 356.01,71.13 \n",
       "  \" fill=\"#0099ff\" fill-opacity=\"1\"/>\n",
       "<polyline clip-path=\"url(#clip02)\" style=\"stroke:#00002d; stroke-width:0.8; stroke-opacity:1; fill:none\" points=\"\n",
       "  356.01,71.13 356.01,384.952 361.344,384.952 361.344,71.13 356.01,71.13 \n",
       "  \"/>\n",
       "<polygon clip-path=\"url(#clip02)\" points=\"\n",
       "361.344,234.531 361.344,384.952 366.679,384.952 366.679,234.531 361.344,234.531 361.344,234.531 \n",
       "  \" fill=\"#0099ff\" fill-opacity=\"1\"/>\n",
       "<polyline clip-path=\"url(#clip02)\" style=\"stroke:#00002d; stroke-width:0.8; stroke-opacity:1; fill:none\" points=\"\n",
       "  361.344,234.531 361.344,384.952 366.679,384.952 366.679,234.531 361.344,234.531 \n",
       "  \"/>\n",
       "<polygon clip-path=\"url(#clip02)\" points=\"\n",
       "366.679,245.221 366.679,384.952 372.013,384.952 372.013,245.221 366.679,245.221 366.679,245.221 \n",
       "  \" fill=\"#0099ff\" fill-opacity=\"1\"/>\n",
       "<polyline clip-path=\"url(#clip02)\" style=\"stroke:#00002d; stroke-width:0.8; stroke-opacity:1; fill:none\" points=\"\n",
       "  366.679,245.221 366.679,384.952 372.013,384.952 372.013,245.221 366.679,245.221 \n",
       "  \"/>\n",
       "<polygon clip-path=\"url(#clip02)\" points=\"\n",
       "372.013,250.566 372.013,384.952 377.348,384.952 377.348,250.566 372.013,250.566 372.013,250.566 \n",
       "  \" fill=\"#0099ff\" fill-opacity=\"1\"/>\n",
       "<polyline clip-path=\"url(#clip02)\" style=\"stroke:#00002d; stroke-width:0.8; stroke-opacity:1; fill:none\" points=\"\n",
       "  372.013,250.566 372.013,384.952 377.348,384.952 377.348,250.566 372.013,250.566 \n",
       "  \"/>\n",
       "<polygon clip-path=\"url(#clip02)\" points=\"\n",
       "377.348,121.525 377.348,384.952 382.682,384.952 382.682,121.525 377.348,121.525 377.348,121.525 \n",
       "  \" fill=\"#0099ff\" fill-opacity=\"1\"/>\n",
       "<polyline clip-path=\"url(#clip02)\" style=\"stroke:#00002d; stroke-width:0.8; stroke-opacity:1; fill:none\" points=\"\n",
       "  377.348,121.525 377.348,384.952 382.682,384.952 382.682,121.525 377.348,121.525 \n",
       "  \"/>\n",
       "<polygon clip-path=\"url(#clip02)\" points=\"\n",
       "382.682,262.019 382.682,384.952 388.017,384.952 388.017,262.019 382.682,262.019 382.682,262.019 \n",
       "  \" fill=\"#0099ff\" fill-opacity=\"1\"/>\n",
       "<polyline clip-path=\"url(#clip02)\" style=\"stroke:#00002d; stroke-width:0.8; stroke-opacity:1; fill:none\" points=\"\n",
       "  382.682,262.019 382.682,384.952 388.017,384.952 388.017,262.019 382.682,262.019 \n",
       "  \"/>\n",
       "<polygon clip-path=\"url(#clip02)\" points=\"\n",
       "388.017,271.182 388.017,384.952 393.351,384.952 393.351,271.182 388.017,271.182 388.017,271.182 \n",
       "  \" fill=\"#0099ff\" fill-opacity=\"1\"/>\n",
       "<polyline clip-path=\"url(#clip02)\" style=\"stroke:#00002d; stroke-width:0.8; stroke-opacity:1; fill:none\" points=\"\n",
       "  388.017,271.182 388.017,384.952 393.351,384.952 393.351,271.182 388.017,271.182 \n",
       "  \"/>\n",
       "<polygon clip-path=\"url(#clip02)\" points=\"\n",
       "393.351,178.792 393.351,384.952 398.686,384.952 398.686,178.792 393.351,178.792 393.351,178.792 \n",
       "  \" fill=\"#0099ff\" fill-opacity=\"1\"/>\n",
       "<polyline clip-path=\"url(#clip02)\" style=\"stroke:#00002d; stroke-width:0.8; stroke-opacity:1; fill:none\" points=\"\n",
       "  393.351,178.792 393.351,384.952 398.686,384.952 398.686,178.792 393.351,178.792 \n",
       "  \"/>\n",
       "<polygon clip-path=\"url(#clip02)\" points=\"\n",
       "398.686,278.817 398.686,384.952 404.02,384.952 404.02,278.817 398.686,278.817 398.686,278.817 \n",
       "  \" fill=\"#0099ff\" fill-opacity=\"1\"/>\n",
       "<polyline clip-path=\"url(#clip02)\" style=\"stroke:#00002d; stroke-width:0.8; stroke-opacity:1; fill:none\" points=\"\n",
       "  398.686,278.817 398.686,384.952 404.02,384.952 404.02,278.817 398.686,278.817 \n",
       "  \"/>\n",
       "<polygon clip-path=\"url(#clip02)\" points=\"\n",
       "404.02,291.034 404.02,384.952 409.355,384.952 409.355,291.034 404.02,291.034 404.02,291.034 \n",
       "  \" fill=\"#0099ff\" fill-opacity=\"1\"/>\n",
       "<polyline clip-path=\"url(#clip02)\" style=\"stroke:#00002d; stroke-width:0.8; stroke-opacity:1; fill:none\" points=\"\n",
       "  404.02,291.034 404.02,384.952 409.355,384.952 409.355,291.034 404.02,291.034 \n",
       "  \"/>\n",
       "<polygon clip-path=\"url(#clip02)\" points=\"\n",
       "409.355,255.147 409.355,384.952 414.689,384.952 414.689,255.147 409.355,255.147 409.355,255.147 \n",
       "  \" fill=\"#0099ff\" fill-opacity=\"1\"/>\n",
       "<polyline clip-path=\"url(#clip02)\" style=\"stroke:#00002d; stroke-width:0.8; stroke-opacity:1; fill:none\" points=\"\n",
       "  409.355,255.147 409.355,384.952 414.689,384.952 414.689,255.147 409.355,255.147 \n",
       "  \"/>\n",
       "<polygon clip-path=\"url(#clip02)\" points=\"\n",
       "414.689,321.577 414.689,384.952 420.024,384.952 420.024,321.577 414.689,321.577 414.689,321.577 \n",
       "  \" fill=\"#0099ff\" fill-opacity=\"1\"/>\n",
       "<polyline clip-path=\"url(#clip02)\" style=\"stroke:#00002d; stroke-width:0.8; stroke-opacity:1; fill:none\" points=\"\n",
       "  414.689,321.577 414.689,384.952 420.024,384.952 420.024,321.577 414.689,321.577 \n",
       "  \"/>\n",
       "<polygon clip-path=\"url(#clip02)\" points=\"\n",
       "420.024,327.685 420.024,384.952 425.358,384.952 425.358,327.685 420.024,327.685 420.024,327.685 \n",
       "  \" fill=\"#0099ff\" fill-opacity=\"1\"/>\n",
       "<polyline clip-path=\"url(#clip02)\" style=\"stroke:#00002d; stroke-width:0.8; stroke-opacity:1; fill:none\" points=\"\n",
       "  420.024,327.685 420.024,384.952 425.358,384.952 425.358,327.685 420.024,327.685 \n",
       "  \"/>\n",
       "<polygon clip-path=\"url(#clip02)\" points=\"\n",
       "425.358,332.266 425.358,384.952 430.693,384.952 430.693,332.266 425.358,332.266 425.358,332.266 \n",
       "  \" fill=\"#0099ff\" fill-opacity=\"1\"/>\n",
       "<polyline clip-path=\"url(#clip02)\" style=\"stroke:#00002d; stroke-width:0.8; stroke-opacity:1; fill:none\" points=\"\n",
       "  425.358,332.266 425.358,384.952 430.693,384.952 430.693,332.266 425.358,332.266 \n",
       "  \"/>\n",
       "<polygon clip-path=\"url(#clip02)\" points=\"\n",
       "430.693,287.217 430.693,384.952 436.027,384.952 436.027,287.217 430.693,287.217 430.693,287.217 \n",
       "  \" fill=\"#0099ff\" fill-opacity=\"1\"/>\n",
       "<polyline clip-path=\"url(#clip02)\" style=\"stroke:#00002d; stroke-width:0.8; stroke-opacity:1; fill:none\" points=\"\n",
       "  430.693,287.217 430.693,384.952 436.027,384.952 436.027,287.217 430.693,287.217 \n",
       "  \"/>\n",
       "<polygon clip-path=\"url(#clip02)\" points=\"\n",
       "436.027,339.138 436.027,384.952 441.362,384.952 441.362,339.138 436.027,339.138 436.027,339.138 \n",
       "  \" fill=\"#0099ff\" fill-opacity=\"1\"/>\n",
       "<polyline clip-path=\"url(#clip02)\" style=\"stroke:#00002d; stroke-width:0.8; stroke-opacity:1; fill:none\" points=\"\n",
       "  436.027,339.138 436.027,384.952 441.362,384.952 441.362,339.138 436.027,339.138 \n",
       "  \"/>\n",
       "<polygon clip-path=\"url(#clip02)\" points=\"\n",
       "441.362,340.666 441.362,384.952 446.696,384.952 446.696,340.666 441.362,340.666 441.362,340.666 \n",
       "  \" fill=\"#0099ff\" fill-opacity=\"1\"/>\n",
       "<polyline clip-path=\"url(#clip02)\" style=\"stroke:#00002d; stroke-width:0.8; stroke-opacity:1; fill:none\" points=\"\n",
       "  441.362,340.666 441.362,384.952 446.696,384.952 446.696,340.666 441.362,340.666 \n",
       "  \"/>\n",
       "<polygon clip-path=\"url(#clip02)\" points=\"\n",
       "446.696,323.867 446.696,384.952 452.031,384.952 452.031,323.867 446.696,323.867 446.696,323.867 \n",
       "  \" fill=\"#0099ff\" fill-opacity=\"1\"/>\n",
       "<polyline clip-path=\"url(#clip02)\" style=\"stroke:#00002d; stroke-width:0.8; stroke-opacity:1; fill:none\" points=\"\n",
       "  446.696,323.867 446.696,384.952 452.031,384.952 452.031,323.867 446.696,323.867 \n",
       "  \"/>\n",
       "<polygon clip-path=\"url(#clip02)\" points=\"\n",
       "452.031,357.464 452.031,384.952 457.365,384.952 457.365,357.464 452.031,357.464 452.031,357.464 \n",
       "  \" fill=\"#0099ff\" fill-opacity=\"1\"/>\n",
       "<polyline clip-path=\"url(#clip02)\" style=\"stroke:#00002d; stroke-width:0.8; stroke-opacity:1; fill:none\" points=\"\n",
       "  452.031,357.464 452.031,384.952 457.365,384.952 457.365,357.464 452.031,357.464 \n",
       "  \"/>\n",
       "<polygon clip-path=\"url(#clip02)\" points=\"\n",
       "457.365,361.282 457.365,384.952 462.7,384.952 462.7,361.282 457.365,361.282 457.365,361.282 \n",
       "  \" fill=\"#0099ff\" fill-opacity=\"1\"/>\n",
       "<polyline clip-path=\"url(#clip02)\" style=\"stroke:#00002d; stroke-width:0.8; stroke-opacity:1; fill:none\" points=\"\n",
       "  457.365,361.282 457.365,384.952 462.7,384.952 462.7,361.282 457.365,361.282 \n",
       "  \"/>\n",
       "<polygon clip-path=\"url(#clip02)\" points=\"\n",
       "462.7,362.809 462.7,384.952 468.034,384.952 468.034,362.809 462.7,362.809 462.7,362.809 \n",
       "  \" fill=\"#0099ff\" fill-opacity=\"1\"/>\n",
       "<polyline clip-path=\"url(#clip02)\" style=\"stroke:#00002d; stroke-width:0.8; stroke-opacity:1; fill:none\" points=\"\n",
       "  462.7,362.809 462.7,384.952 468.034,384.952 468.034,362.809 462.7,362.809 \n",
       "  \"/>\n",
       "<polygon clip-path=\"url(#clip02)\" points=\"\n",
       "468.034,353.646 468.034,384.952 473.369,384.952 473.369,353.646 468.034,353.646 468.034,353.646 \n",
       "  \" fill=\"#0099ff\" fill-opacity=\"1\"/>\n",
       "<polyline clip-path=\"url(#clip02)\" style=\"stroke:#00002d; stroke-width:0.8; stroke-opacity:1; fill:none\" points=\"\n",
       "  468.034,353.646 468.034,384.952 473.369,384.952 473.369,353.646 468.034,353.646 \n",
       "  \"/>\n",
       "<polygon clip-path=\"url(#clip02)\" points=\"\n",
       "473.369,371.208 473.369,384.952 478.704,384.952 478.704,371.208 473.369,371.208 473.369,371.208 \n",
       "  \" fill=\"#0099ff\" fill-opacity=\"1\"/>\n",
       "<polyline clip-path=\"url(#clip02)\" style=\"stroke:#00002d; stroke-width:0.8; stroke-opacity:1; fill:none\" points=\"\n",
       "  473.369,371.208 473.369,384.952 478.704,384.952 478.704,371.208 473.369,371.208 \n",
       "  \"/>\n",
       "<polygon clip-path=\"url(#clip02)\" points=\"\n",
       "478.704,372.735 478.704,384.952 484.038,384.952 484.038,372.735 478.704,372.735 478.704,372.735 \n",
       "  \" fill=\"#0099ff\" fill-opacity=\"1\"/>\n",
       "<polyline clip-path=\"url(#clip02)\" style=\"stroke:#00002d; stroke-width:0.8; stroke-opacity:1; fill:none\" points=\"\n",
       "  478.704,372.735 478.704,384.952 484.038,384.952 484.038,372.735 478.704,372.735 \n",
       "  \"/>\n",
       "<polygon clip-path=\"url(#clip02)\" points=\"\n",
       "484.038,369.681 484.038,384.952 489.373,384.952 489.373,369.681 484.038,369.681 484.038,369.681 \n",
       "  \" fill=\"#0099ff\" fill-opacity=\"1\"/>\n",
       "<polyline clip-path=\"url(#clip02)\" style=\"stroke:#00002d; stroke-width:0.8; stroke-opacity:1; fill:none\" points=\"\n",
       "  484.038,369.681 484.038,384.952 489.373,384.952 489.373,369.681 484.038,369.681 \n",
       "  \"/>\n",
       "<polygon clip-path=\"url(#clip02)\" points=\"\n",
       "489.373,375.789 489.373,384.952 494.707,384.952 494.707,375.789 489.373,375.789 489.373,375.789 \n",
       "  \" fill=\"#0099ff\" fill-opacity=\"1\"/>\n",
       "<polyline clip-path=\"url(#clip02)\" style=\"stroke:#00002d; stroke-width:0.8; stroke-opacity:1; fill:none\" points=\"\n",
       "  489.373,375.789 489.373,384.952 494.707,384.952 494.707,375.789 489.373,375.789 \n",
       "  \"/>\n",
       "<polygon clip-path=\"url(#clip02)\" points=\"\n",
       "494.707,378.08 494.707,384.952 500.042,384.952 500.042,378.08 494.707,378.08 494.707,378.08 \n",
       "  \" fill=\"#0099ff\" fill-opacity=\"1\"/>\n",
       "<polyline clip-path=\"url(#clip02)\" style=\"stroke:#00002d; stroke-width:0.8; stroke-opacity:1; fill:none\" points=\"\n",
       "  494.707,378.08 494.707,384.952 500.042,384.952 500.042,378.08 494.707,378.08 \n",
       "  \"/>\n",
       "<polygon clip-path=\"url(#clip02)\" points=\"\n",
       "500.042,381.134 500.042,384.952 505.376,384.952 505.376,381.134 500.042,381.134 500.042,381.134 \n",
       "  \" fill=\"#0099ff\" fill-opacity=\"1\"/>\n",
       "<polyline clip-path=\"url(#clip02)\" style=\"stroke:#00002d; stroke-width:0.8; stroke-opacity:1; fill:none\" points=\"\n",
       "  500.042,381.134 500.042,384.952 505.376,384.952 505.376,381.134 500.042,381.134 \n",
       "  \"/>\n",
       "<polygon clip-path=\"url(#clip02)\" points=\"\n",
       "505.376,379.607 505.376,384.952 510.711,384.952 510.711,379.607 505.376,379.607 505.376,379.607 \n",
       "  \" fill=\"#0099ff\" fill-opacity=\"1\"/>\n",
       "<polyline clip-path=\"url(#clip02)\" style=\"stroke:#00002d; stroke-width:0.8; stroke-opacity:1; fill:none\" points=\"\n",
       "  505.376,379.607 505.376,384.952 510.711,384.952 510.711,379.607 505.376,379.607 \n",
       "  \"/>\n",
       "<polygon clip-path=\"url(#clip02)\" points=\"\n",
       "510.711,381.898 510.711,384.952 516.045,384.952 516.045,381.898 510.711,381.898 510.711,381.898 \n",
       "  \" fill=\"#0099ff\" fill-opacity=\"1\"/>\n",
       "<polyline clip-path=\"url(#clip02)\" style=\"stroke:#00002d; stroke-width:0.8; stroke-opacity:1; fill:none\" points=\"\n",
       "  510.711,381.898 510.711,384.952 516.045,384.952 516.045,381.898 510.711,381.898 \n",
       "  \"/>\n",
       "<polygon clip-path=\"url(#clip02)\" points=\"\n",
       "516.045,382.661 516.045,384.952 521.38,384.952 521.38,382.661 516.045,382.661 516.045,382.661 \n",
       "  \" fill=\"#0099ff\" fill-opacity=\"1\"/>\n",
       "<polyline clip-path=\"url(#clip02)\" style=\"stroke:#00002d; stroke-width:0.8; stroke-opacity:1; fill:none\" points=\"\n",
       "  516.045,382.661 516.045,384.952 521.38,384.952 521.38,382.661 516.045,382.661 \n",
       "  \"/>\n",
       "<polygon clip-path=\"url(#clip02)\" points=\"\n",
       "521.38,379.607 521.38,384.952 526.714,384.952 526.714,379.607 521.38,379.607 521.38,379.607 \n",
       "  \" fill=\"#0099ff\" fill-opacity=\"1\"/>\n",
       "<polyline clip-path=\"url(#clip02)\" style=\"stroke:#00002d; stroke-width:0.8; stroke-opacity:1; fill:none\" points=\"\n",
       "  521.38,379.607 521.38,384.952 526.714,384.952 526.714,379.607 521.38,379.607 \n",
       "  \"/>\n",
       "<polygon clip-path=\"url(#clip02)\" points=\"\n",
       "526.714,382.661 526.714,384.952 532.049,384.952 532.049,382.661 526.714,382.661 526.714,382.661 \n",
       "  \" fill=\"#0099ff\" fill-opacity=\"1\"/>\n",
       "<polyline clip-path=\"url(#clip02)\" style=\"stroke:#00002d; stroke-width:0.8; stroke-opacity:1; fill:none\" points=\"\n",
       "  526.714,382.661 526.714,384.952 532.049,384.952 532.049,382.661 526.714,382.661 \n",
       "  \"/>\n",
       "<polygon clip-path=\"url(#clip02)\" points=\"\n",
       "532.049,384.188 532.049,384.952 537.383,384.952 537.383,384.188 532.049,384.188 532.049,384.188 \n",
       "  \" fill=\"#0099ff\" fill-opacity=\"1\"/>\n",
       "<polyline clip-path=\"url(#clip02)\" style=\"stroke:#00002d; stroke-width:0.8; stroke-opacity:1; fill:none\" points=\"\n",
       "  532.049,384.188 532.049,384.952 537.383,384.952 537.383,384.188 532.049,384.188 \n",
       "  \"/>\n",
       "<polygon clip-path=\"url(#clip02)\" points=\"\n",
       "537.383,384.188 537.383,384.952 542.718,384.952 542.718,384.188 537.383,384.188 537.383,384.188 \n",
       "  \" fill=\"#0099ff\" fill-opacity=\"1\"/>\n",
       "<polyline clip-path=\"url(#clip02)\" style=\"stroke:#00002d; stroke-width:0.8; stroke-opacity:1; fill:none\" points=\"\n",
       "  537.383,384.188 537.383,384.952 542.718,384.952 542.718,384.188 537.383,384.188 \n",
       "  \"/>\n",
       "<polygon clip-path=\"url(#clip02)\" points=\"\n",
       "542.718,383.425 542.718,384.952 548.052,384.952 548.052,383.425 542.718,383.425 542.718,383.425 \n",
       "  \" fill=\"#0099ff\" fill-opacity=\"1\"/>\n",
       "<polyline clip-path=\"url(#clip02)\" style=\"stroke:#00002d; stroke-width:0.8; stroke-opacity:1; fill:none\" points=\"\n",
       "  542.718,383.425 542.718,384.952 548.052,384.952 548.052,383.425 542.718,383.425 \n",
       "  \"/>\n",
       "<polygon clip-path=\"url(#clip02)\" points=\"\n",
       "548.052,384.188 548.052,384.952 553.387,384.952 553.387,384.188 548.052,384.188 548.052,384.188 \n",
       "  \" fill=\"#0099ff\" fill-opacity=\"1\"/>\n",
       "<polyline clip-path=\"url(#clip02)\" style=\"stroke:#00002d; stroke-width:0.8; stroke-opacity:1; fill:none\" points=\"\n",
       "  548.052,384.188 548.052,384.952 553.387,384.952 553.387,384.188 548.052,384.188 \n",
       "  \"/>\n",
       "<polygon clip-path=\"url(#clip02)\" points=\"\n",
       "553.387,384.188 553.387,384.952 558.721,384.952 558.721,384.188 553.387,384.188 553.387,384.188 \n",
       "  \" fill=\"#0099ff\" fill-opacity=\"1\"/>\n",
       "<polyline clip-path=\"url(#clip02)\" style=\"stroke:#00002d; stroke-width:0.8; stroke-opacity:1; fill:none\" points=\"\n",
       "  553.387,384.188 553.387,384.952 558.721,384.952 558.721,384.188 553.387,384.188 \n",
       "  \"/>\n",
       "<polygon clip-path=\"url(#clip02)\" points=\"\n",
       "558.721,382.661 558.721,384.952 564.056,384.952 564.056,382.661 558.721,382.661 558.721,382.661 \n",
       "  \" fill=\"#0099ff\" fill-opacity=\"1\"/>\n",
       "<polyline clip-path=\"url(#clip02)\" style=\"stroke:#00002d; stroke-width:0.8; stroke-opacity:1; fill:none\" points=\"\n",
       "  558.721,382.661 558.721,384.952 564.056,384.952 564.056,382.661 558.721,382.661 \n",
       "  \"/>\n",
       "<polygon clip-path=\"url(#clip02)\" points=\"\n",
       "564.056,384.952 564.056,384.952 569.39,384.952 569.39,384.952 564.056,384.952 564.056,384.952 \n",
       "  \" fill=\"#0099ff\" fill-opacity=\"1\"/>\n",
       "<polyline clip-path=\"url(#clip02)\" style=\"stroke:#00002d; stroke-width:0.8; stroke-opacity:1; fill:none\" points=\"\n",
       "  564.056,384.952 564.056,384.952 569.39,384.952 564.056,384.952 \n",
       "  \"/>\n",
       "<polygon clip-path=\"url(#clip02)\" points=\"\n",
       "569.39,384.952 569.39,384.952 574.725,384.952 574.725,384.952 569.39,384.952 569.39,384.952 \n",
       "  \" fill=\"#0099ff\" fill-opacity=\"1\"/>\n",
       "<polyline clip-path=\"url(#clip02)\" style=\"stroke:#00002d; stroke-width:0.8; stroke-opacity:1; fill:none\" points=\"\n",
       "  569.39,384.952 569.39,384.952 574.725,384.952 569.39,384.952 \n",
       "  \"/>\n",
       "<polygon clip-path=\"url(#clip02)\" points=\"\n",
       "574.725,384.188 574.725,384.952 580.059,384.952 580.059,384.188 574.725,384.188 574.725,384.188 \n",
       "  \" fill=\"#0099ff\" fill-opacity=\"1\"/>\n",
       "<polyline clip-path=\"url(#clip02)\" style=\"stroke:#00002d; stroke-width:0.8; stroke-opacity:1; fill:none\" points=\"\n",
       "  574.725,384.188 574.725,384.952 580.059,384.952 580.059,384.188 574.725,384.188 \n",
       "  \"/>\n",
       "<polygon clip-path=\"url(#clip00)\" points=\"\n",
       "505.547,55.057 578.063,55.057 578.063,24.817 505.547,24.817 \n",
       "  \" fill=\"#ffffff\" fill-opacity=\"1\"/>\n",
       "<polyline clip-path=\"url(#clip00)\" style=\"stroke:#00002d; stroke-width:0.8; stroke-opacity:1; fill:none\" points=\"\n",
       "  505.547,55.057 578.063,55.057 578.063,24.817 505.547,24.817 505.547,55.057 \n",
       "  \"/>\n",
       "<polygon clip-path=\"url(#clip00)\" points=\"\n",
       "511.547,45.985 547.547,45.985 547.547,33.889 511.547,33.889 511.547,45.985 \n",
       "  \" fill=\"#0099ff\" fill-opacity=\"1\"/>\n",
       "<polyline clip-path=\"url(#clip00)\" style=\"stroke:#00002d; stroke-width:0.8; stroke-opacity:1; fill:none\" points=\"\n",
       "  511.547,45.985 547.547,45.985 547.547,33.889 511.547,33.889 511.547,45.985 \n",
       "  \"/>\n",
       "<g clip-path=\"url(#clip00)\">\n",
       "<text style=\"fill:#00002d; fill-opacity:1; font-family:Arial,Helvetica Neue,Helvetica,sans-serif; font-size:12; text-anchor:start;\" transform=\"rotate(0, 553.547, 44.437)\" x=\"553.547\" y=\"44.437\">y1</text>\n",
       "</g>\n",
       "</svg>\n"
      ]
     },
     "execution_count": 50,
     "metadata": {},
     "output_type": "execute_result"
    }
   ],
   "source": [
    "using Plots; gr()\n",
    "\n",
    "histogram(data, nbins=100)"
   ]
  },
  {
   "cell_type": "markdown",
   "metadata": {},
   "source": [
    "Again, however, the high number of allocations is suspect -- in Julia, this is usually a warning that there is a \"type instability\". We again try wrapping it in a function, even though it seems so simple:"
   ]
  },
  {
   "cell_type": "code",
   "execution_count": 40,
   "metadata": {
    "collapsed": false
   },
   "outputs": [
    {
     "data": {
      "text/plain": [
       "run_walks (generic function with 1 method)"
      ]
     },
     "execution_count": 40,
     "metadata": {},
     "output_type": "execute_result"
    }
   ],
   "source": [
    "function run_walks(numwalkers, numsteps)\n",
    "\n",
    "    data = [walk(numsteps) for i in 1:numwalkers]\n",
    "\n",
    "    return data\n",
    "end"
   ]
  },
  {
   "cell_type": "code",
   "execution_count": 42,
   "metadata": {
    "collapsed": false
   },
   "outputs": [
    {
     "name": "stdout",
     "output_type": "stream",
     "text": [
      "  0.077005 seconds (7 allocations: 78.375 KB)\n"
     ]
    }
   ],
   "source": [
    "numsteps   = 1000\n",
    "numwalkers = 10000\n",
    "\n",
    "data = run_walks(1, 1)  # compile the function\n",
    "\n",
    "# now profile it:\n",
    "@time data = run_walks(numwalkers, numsteps);  "
   ]
  },
  {
   "cell_type": "markdown",
   "metadata": {},
   "source": [
    "Summary:\n",
    "- Simple simulation\n",
    "- Put everything in a function\n",
    "- Collect data using comprehensions or `push!`\n",
    "- Use `@time` (on the second run) or `@benchmark` to profile"
   ]
  },
  {
   "cell_type": "markdown",
   "metadata": {},
   "source": [
    "# DistributedArrays "
   ]
  },
  {
   "cell_type": "markdown",
   "metadata": {},
   "source": [
    "Jump to [notebook 1a.](1a. Basics of distributed arrays.ipynb) for the basics of distributed arrays in Julia."
   ]
  },
  {
   "cell_type": "markdown",
   "metadata": {},
   "source": [
    "# Basic parallelism"
   ]
  },
  {
   "cell_type": "code",
   "execution_count": 16,
   "metadata": {
    "collapsed": false
   },
   "outputs": [
    {
     "data": {
      "text/plain": [
       "2-element Array{Int64,1}:\n",
       " 2\n",
       " 3"
      ]
     },
     "execution_count": 16,
     "metadata": {},
     "output_type": "execute_result"
    }
   ],
   "source": [
    "addprocs(2)"
   ]
  },
  {
   "cell_type": "code",
   "execution_count": 17,
   "metadata": {
    "collapsed": false
   },
   "outputs": [
    {
     "name": "stderr",
     "output_type": "stream",
     "text": [
      "WARNING: replacing module DistributedArrays.\n",
      "WARNING: replacing module DistributedArrays.\n"
     ]
    }
   ],
   "source": [
    "@everywhere using DistributedArrays"
   ]
  },
  {
   "cell_type": "code",
   "execution_count": 18,
   "metadata": {
    "collapsed": false
   },
   "outputs": [],
   "source": [
    "@everywhere function walk(numsteps)\n",
    "    pos = 0\n",
    "\n",
    "    for j in 1:numsteps\n",
    "        \n",
    "        if rand(Bool)  # NB\n",
    "            step = -1\n",
    "        else\n",
    "            step = +1\n",
    "        end\n",
    "        \n",
    "        pos += step # ifelse(rand() < 0.5, -1, +1)\n",
    "    end\n",
    "    \n",
    "    return pos\n",
    "end"
   ]
  },
  {
   "cell_type": "markdown",
   "metadata": {},
   "source": [
    "In serial:"
   ]
  },
  {
   "cell_type": "code",
   "execution_count": 19,
   "metadata": {
    "collapsed": false
   },
   "outputs": [
    {
     "ename": "LoadError",
     "evalue": "UndefVarError: numwalkers not defined",
     "output_type": "error",
     "traceback": [
      "UndefVarError: numwalkers not defined",
      ""
     ]
    }
   ],
   "source": [
    "data = [walk(numsteps) for i in 1:numwalkers] "
   ]
  },
  {
   "cell_type": "code",
   "execution_count": null,
   "metadata": {
    "collapsed": false
   },
   "outputs": [],
   "source": [
    "walkers = distribute(1:numwalkers);"
   ]
  },
  {
   "cell_type": "code",
   "execution_count": null,
   "metadata": {
    "collapsed": false
   },
   "outputs": [],
   "source": [
    "walkers.indexes"
   ]
  },
  {
   "cell_type": "code",
   "execution_count": 23,
   "metadata": {
    "collapsed": false
   },
   "outputs": [
    {
     "data": {
      "text/plain": [
       "100000-element DistributedArrays.DArray{Int64,1,UnitRange{Int64}}:\n",
       "      1\n",
       "      2\n",
       "      3\n",
       "      4\n",
       "      5\n",
       "      6\n",
       "      7\n",
       "      8\n",
       "      9\n",
       "     10\n",
       "     11\n",
       "     12\n",
       "     13\n",
       "      ⋮\n",
       "  99989\n",
       "  99990\n",
       "  99991\n",
       "  99992\n",
       "  99993\n",
       "  99994\n",
       "  99995\n",
       "  99996\n",
       "  99997\n",
       "  99998\n",
       "  99999\n",
       " 100000"
      ]
     },
     "execution_count": 23,
     "metadata": {},
     "output_type": "execute_result"
    }
   ],
   "source": [
    "@everywhere begin\n",
    "    numsteps   = 10000\n",
    "    numwalkers = 100000 \n",
    "end\n",
    "\n",
    "walkers = distribute(1:numwalkers)"
   ]
  },
  {
   "cell_type": "code",
   "execution_count": 24,
   "metadata": {
    "collapsed": false
   },
   "outputs": [
    {
     "data": {
      "text/plain": [
       "2-element Array{Tuple{UnitRange{Int64}},1}:\n",
       " (1:50000,)     \n",
       " (50001:100000,)"
      ]
     },
     "execution_count": 24,
     "metadata": {},
     "output_type": "execute_result"
    }
   ],
   "source": [
    "walkers.indexes"
   ]
  },
  {
   "cell_type": "markdown",
   "metadata": {},
   "source": [
    "A function that returns a constant:\n"
   ]
  },
  {
   "cell_type": "code",
   "execution_count": 26,
   "metadata": {
    "collapsed": false
   },
   "outputs": [
    {
     "name": "stderr",
     "output_type": "stream",
     "text": [
      "WARNING: Method definition f() in module Main at In[25]:1 overwritten at In[26]:1.\n"
     ]
    },
    {
     "data": {
      "text/plain": [
       "f (generic function with 1 method)"
      ]
     },
     "execution_count": 26,
     "metadata": {},
     "output_type": "execute_result"
    }
   ],
   "source": [
    "f() = 3  # no arguments"
   ]
  },
  {
   "cell_type": "markdown",
   "metadata": {},
   "source": [
    "An anonymous function that takes one argument, that it ignores, and returns a constant:"
   ]
  },
  {
   "cell_type": "code",
   "execution_count": 27,
   "metadata": {
    "collapsed": false
   },
   "outputs": [
    {
     "data": {
      "text/plain": [
       "(::#45) (generic function with 1 method)"
      ]
     },
     "execution_count": 27,
     "metadata": {},
     "output_type": "execute_result"
    }
   ],
   "source": [
    "_ -> 3"
   ]
  },
  {
   "cell_type": "markdown",
   "metadata": {},
   "source": [
    "An anonymous function that returns something random:"
   ]
  },
  {
   "cell_type": "code",
   "execution_count": 29,
   "metadata": {
    "collapsed": false
   },
   "outputs": [
    {
     "data": {
      "text/plain": [
       "(::#49) (generic function with 1 method)"
      ]
     },
     "execution_count": 29,
     "metadata": {},
     "output_type": "execute_result"
    }
   ],
   "source": [
    "g = _ -> walk(numsteps)"
   ]
  },
  {
   "cell_type": "code",
   "execution_count": 31,
   "metadata": {
    "collapsed": false
   },
   "outputs": [
    {
     "data": {
      "text/plain": [
       "-160"
      ]
     },
     "execution_count": 31,
     "metadata": {},
     "output_type": "execute_result"
    }
   ],
   "source": [
    "g(1)"
   ]
  },
  {
   "cell_type": "code",
   "execution_count": 32,
   "metadata": {
    "collapsed": false,
    "scrolled": true
   },
   "outputs": [
    {
     "data": {
      "text/plain": [
       "-12"
      ]
     },
     "execution_count": 32,
     "metadata": {},
     "output_type": "execute_result"
    }
   ],
   "source": [
    "g(\"string\")"
   ]
  },
  {
   "cell_type": "code",
   "execution_count": 34,
   "metadata": {
    "collapsed": false
   },
   "outputs": [
    {
     "data": {
      "text/plain": [
       "5-element Array{Float64,1}:\n",
       " 0.838203\n",
       " 0.854722\n",
       " 0.74231 \n",
       " 0.111471\n",
       " 0.630536"
      ]
     },
     "execution_count": 34,
     "metadata": {},
     "output_type": "execute_result"
    }
   ],
   "source": [
    "h = _ -> rand()\n",
    "map(h, 1:5)"
   ]
  },
  {
   "cell_type": "code",
   "execution_count": 45,
   "metadata": {
    "collapsed": false
   },
   "outputs": [
    {
     "data": {
      "text/plain": [
       "5-element Array{Array{Float64,1},1}:\n",
       " [0.139488]                                    \n",
       " [0.539704,0.0370874]                          \n",
       " [0.821382,0.145536,0.265507]                  \n",
       " [0.102901,0.391612,0.343755,0.815076]         \n",
       " [0.72609,0.731211,0.107925,0.867699,0.0608978]"
      ]
     },
     "execution_count": 45,
     "metadata": {},
     "output_type": "execute_result"
    }
   ],
   "source": [
    "map(rand, 1:5)"
   ]
  },
  {
   "cell_type": "code",
   "execution_count": 46,
   "metadata": {
    "collapsed": false
   },
   "outputs": [
    {
     "data": {
      "text/plain": [
       "5-element Array{Array{Float64,1},1}:\n",
       " [0.00147708]                                  \n",
       " [0.99099,0.961199]                            \n",
       " [0.376861,0.26289,0.876219]                   \n",
       " [0.240896,0.696245,0.674086,0.925543]         \n",
       " [0.241501,0.775125,0.268784,0.620798,0.296621]"
      ]
     },
     "execution_count": 46,
     "metadata": {},
     "output_type": "execute_result"
    }
   ],
   "source": [
    "[rand(1), rand(2), rand(3), rand(4), rand(5)]"
   ]
  },
  {
   "cell_type": "code",
   "execution_count": 47,
   "metadata": {
    "collapsed": false
   },
   "outputs": [
    {
     "data": {
      "text/plain": [
       "3-element Array{Float64,1}:\n",
       " 0.568287\n",
       " 0.342367\n",
       " 0.975112"
      ]
     },
     "execution_count": 47,
     "metadata": {},
     "output_type": "execute_result"
    }
   ],
   "source": [
    "rand(3)"
   ]
  },
  {
   "cell_type": "code",
   "execution_count": 48,
   "metadata": {
    "collapsed": false
   },
   "outputs": [
    {
     "data": {
      "text/plain": [
       "5-element Array{Float64,1}:\n",
       " 0.515412\n",
       " 0.929861\n",
       " 0.978093\n",
       " 0.815971\n",
       " 0.622732"
      ]
     },
     "execution_count": 48,
     "metadata": {},
     "output_type": "execute_result"
    }
   ],
   "source": [
    "map(_->rand(), 1:5)"
   ]
  },
  {
   "cell_type": "code",
   "execution_count": 51,
   "metadata": {
    "collapsed": false
   },
   "outputs": [
    {
     "data": {
      "text/plain": [
       "5-element Array{Array{Float64,1},1}:\n",
       " [0.742302] \n",
       " [0.460336] \n",
       " [0.0283694]\n",
       " [0.693124] \n",
       " [0.608195] "
      ]
     },
     "execution_count": 51,
     "metadata": {},
     "output_type": "execute_result"
    }
   ],
   "source": [
    "map(rand, ones(Int, 5))"
   ]
  },
  {
   "cell_type": "code",
   "execution_count": 52,
   "metadata": {
    "collapsed": false
   },
   "outputs": [
    {
     "data": {
      "text/plain": [
       "5-element Array{Array{Float64,1},1}:\n",
       " [0.332193]                                    \n",
       " [0.572766,0.919379]                           \n",
       " [0.549278,0.804477,0.974742]                  \n",
       " [0.986861,0.729855,0.438648,0.858234]         \n",
       " [0.101719,0.957467,0.215089,0.916968,0.363882]"
      ]
     },
     "execution_count": 52,
     "metadata": {},
     "output_type": "execute_result"
    }
   ],
   "source": [
    "rand.(1:5)"
   ]
  },
  {
   "cell_type": "code",
   "execution_count": 50,
   "metadata": {
    "collapsed": false
   },
   "outputs": [
    {
     "data": {
      "text/plain": [
       "5-element Array{Float64,1}:\n",
       " 1.0\n",
       " 1.0\n",
       " 1.0\n",
       " 1.0\n",
       " 1.0"
      ]
     },
     "execution_count": 50,
     "metadata": {},
     "output_type": "execute_result"
    }
   ],
   "source": [
    "ones(5)"
   ]
  },
  {
   "cell_type": "code",
   "execution_count": 35,
   "metadata": {
    "collapsed": false
   },
   "outputs": [
    {
     "data": {
      "text/plain": [
       "5-element Array{Float64,1}:\n",
       " 0.911449\n",
       " 0.704877\n",
       " 0.542176\n",
       " 0.810614\n",
       " 0.755413"
      ]
     },
     "execution_count": 35,
     "metadata": {},
     "output_type": "execute_result"
    }
   ],
   "source": [
    "[h(1), h(2), h(3), h(4), h(5)]"
   ]
  },
  {
   "cell_type": "code",
   "execution_count": 36,
   "metadata": {
    "collapsed": false
   },
   "outputs": [
    {
     "data": {
      "text/plain": [
       "(::#55) (generic function with 1 method)"
      ]
     },
     "execution_count": 36,
     "metadata": {},
     "output_type": "execute_result"
    }
   ],
   "source": [
    "gg = _ -> walk(numsteps)"
   ]
  },
  {
   "cell_type": "code",
   "execution_count": 37,
   "metadata": {
    "collapsed": false
   },
   "outputs": [
    {
     "data": {
      "text/plain": [
       "3-element Array{Int64,1}:\n",
       " 152\n",
       "  50\n",
       " -38"
      ]
     },
     "execution_count": 37,
     "metadata": {},
     "output_type": "execute_result"
    }
   ],
   "source": [
    "[gg(1), gg(2), gg(3)]"
   ]
  },
  {
   "cell_type": "code",
   "execution_count": 38,
   "metadata": {
    "collapsed": false
   },
   "outputs": [
    {
     "data": {
      "text/plain": [
       "3-element Array{Int64,1}:\n",
       " -90\n",
       " -20\n",
       "  84"
      ]
     },
     "execution_count": 38,
     "metadata": {},
     "output_type": "execute_result"
    }
   ],
   "source": [
    "map(gg, [1,2,3])  # or map(gg, 1:3)"
   ]
  },
  {
   "cell_type": "code",
   "execution_count": 39,
   "metadata": {
    "collapsed": false
   },
   "outputs": [
    {
     "data": {
      "text/plain": [
       "DistributedArrays.DArray{Int64,1,UnitRange{Int64}}"
      ]
     },
     "execution_count": 39,
     "metadata": {},
     "output_type": "execute_result"
    }
   ],
   "source": [
    "typeof(walkers)"
   ]
  },
  {
   "cell_type": "code",
   "execution_count": 41,
   "metadata": {
    "collapsed": false
   },
   "outputs": [
    {
     "name": "stdout",
     "output_type": "stream",
     "text": [
      "  3.601156 seconds (12.25 k allocations: 528.826 KB)\n"
     ]
    },
    {
     "data": {
      "text/plain": [
       "100000-element DistributedArrays.DArray{Int64,1,Array{Int64,1}}:\n",
       "  -26\n",
       "   64\n",
       " -168\n",
       "   -6\n",
       "   82\n",
       "   40\n",
       "  -80\n",
       " -136\n",
       "  -58\n",
       "  -80\n",
       "   -6\n",
       " -268\n",
       "  -44\n",
       "    ⋮\n",
       " -134\n",
       "    2\n",
       "  -24\n",
       "  226\n",
       "  -42\n",
       "  -82\n",
       "   76\n",
       " -194\n",
       " -144\n",
       "  178\n",
       "    2\n",
       "  -38"
      ]
     },
     "execution_count": 41,
     "metadata": {},
     "output_type": "execute_result"
    }
   ],
   "source": [
    "@time positions = map( _ -> walk(numsteps), walkers)"
   ]
  },
  {
   "cell_type": "code",
   "execution_count": 42,
   "metadata": {
    "collapsed": false
   },
   "outputs": [
    {
     "data": {
      "text/plain": [
       "run_serial (generic function with 1 method)"
      ]
     },
     "execution_count": 42,
     "metadata": {},
     "output_type": "execute_result"
    }
   ],
   "source": [
    "function run_serial(numwalkers, numsteps)\n",
    "    data = map(_ -> walk(numsteps), 1:numwalkers)\n",
    "end"
   ]
  },
  {
   "cell_type": "code",
   "execution_count": 43,
   "metadata": {
    "collapsed": false
   },
   "outputs": [
    {
     "data": {
      "text/plain": [
       "1-element Array{Int64,1}:\n",
       " -1"
      ]
     },
     "execution_count": 43,
     "metadata": {},
     "output_type": "execute_result"
    }
   ],
   "source": [
    "run_serial(1, 1)"
   ]
  },
  {
   "cell_type": "code",
   "execution_count": 44,
   "metadata": {
    "collapsed": false
   },
   "outputs": [
    {
     "name": "stdout",
     "output_type": "stream",
     "text": [
      "  6.950400 seconds (7 allocations: 781.500 KB)\n"
     ]
    },
    {
     "data": {
      "text/plain": [
       "100000-element Array{Int64,1}:\n",
       "   32\n",
       "  -54\n",
       " -118\n",
       "    2\n",
       "   14\n",
       "  184\n",
       "   34\n",
       "   10\n",
       "  -48\n",
       "   -6\n",
       "  274\n",
       "   62\n",
       "  258\n",
       "    ⋮\n",
       "  -64\n",
       "    0\n",
       "  172\n",
       "   10\n",
       "  -52\n",
       "  104\n",
       "  -14\n",
       "  -46\n",
       "  -78\n",
       "  -42\n",
       "   44\n",
       " -170"
      ]
     },
     "execution_count": 44,
     "metadata": {},
     "output_type": "execute_result"
    }
   ],
   "source": [
    "@time run_serial(numwalkers, numsteps)"
   ]
  },
  {
   "cell_type": "markdown",
   "metadata": {},
   "source": [
    "We do see almost 2x speedup with 2 processes!"
   ]
  },
  {
   "cell_type": "code",
   "execution_count": 56,
   "metadata": {
    "collapsed": false
   },
   "outputs": [
    {
     "data": {
      "text/plain": [
       "100000-element DistributedArrays.DArray{Int64,1,Array{Int64,1}}:\n",
       "  -26\n",
       "   64\n",
       " -168\n",
       "   -6\n",
       "   82\n",
       "   40\n",
       "  -80\n",
       " -136\n",
       "  -58\n",
       "  -80\n",
       "   -6\n",
       " -268\n",
       "  -44\n",
       "    ⋮\n",
       " -134\n",
       "    2\n",
       "  -24\n",
       "  226\n",
       "  -42\n",
       "  -82\n",
       "   76\n",
       " -194\n",
       " -144\n",
       "  178\n",
       "    2\n",
       "  -38"
      ]
     },
     "execution_count": 56,
     "metadata": {},
     "output_type": "execute_result"
    }
   ],
   "source": [
    "positions"
   ]
  },
  {
   "cell_type": "code",
   "execution_count": 60,
   "metadata": {
    "collapsed": false
   },
   "outputs": [
    {
     "data": {
      "text/plain": [
       "3-element BitArray{1}:\n",
       "  true\n",
       " false\n",
       "  true"
      ]
     },
     "execution_count": 60,
     "metadata": {},
     "output_type": "execute_result"
    }
   ],
   "source": [
    "v = [1, -2, 3]\n",
    "v .> 0"
   ]
  },
  {
   "cell_type": "code",
   "execution_count": 61,
   "metadata": {
    "collapsed": false
   },
   "outputs": [
    {
     "data": {
      "text/plain": [
       "10"
      ]
     },
     "execution_count": 61,
     "metadata": {},
     "output_type": "execute_result"
    }
   ],
   "source": [
    "v[v .> 0] = 10  # modify v using a bit-mask\n",
    "# \"modify v *where* v > 0"
   ]
  },
  {
   "cell_type": "code",
   "execution_count": 62,
   "metadata": {
    "collapsed": false
   },
   "outputs": [
    {
     "data": {
      "text/plain": [
       "3-element Array{Int64,1}:\n",
       " 10\n",
       " -2\n",
       " 10"
      ]
     },
     "execution_count": 62,
     "metadata": {},
     "output_type": "execute_result"
    }
   ],
   "source": [
    "v"
   ]
  },
  {
   "cell_type": "code",
   "execution_count": 63,
   "metadata": {
    "collapsed": false
   },
   "outputs": [
    {
     "data": {
      "text/plain": [
       "5×5 Array{Float64,2}:\n",
       " 0.771339   0.228275   0.868034  0.141481  0.504641\n",
       " 0.838896   0.11143    0.756968  0.160655  0.607094\n",
       " 0.103146   0.0674581  0.768882  0.69896   0.207889\n",
       " 0.0874783  0.384836   0.989942  0.389488  0.740674\n",
       " 0.28365    0.261405   0.770079  0.267742  0.755318"
      ]
     },
     "execution_count": 63,
     "metadata": {},
     "output_type": "execute_result"
    }
   ],
   "source": [
    "M = rand(5, 5)"
   ]
  },
  {
   "cell_type": "code",
   "execution_count": 64,
   "metadata": {
    "collapsed": false
   },
   "outputs": [
    {
     "data": {
      "text/plain": [
       "5×5 BitArray{2}:\n",
       "  true  false  true  false   true\n",
       "  true  false  true  false   true\n",
       " false  false  true   true  false\n",
       " false  false  true  false   true\n",
       " false  false  true  false   true"
      ]
     },
     "execution_count": 64,
     "metadata": {},
     "output_type": "execute_result"
    }
   ],
   "source": [
    "M .> 0.5"
   ]
  },
  {
   "cell_type": "code",
   "execution_count": 65,
   "metadata": {
    "collapsed": false
   },
   "outputs": [
    {
     "data": {
      "text/plain": [
       "10"
      ]
     },
     "execution_count": 65,
     "metadata": {},
     "output_type": "execute_result"
    }
   ],
   "source": [
    "M[M .> 0.5] = 10"
   ]
  },
  {
   "cell_type": "code",
   "execution_count": 66,
   "metadata": {
    "collapsed": false
   },
   "outputs": [
    {
     "data": {
      "text/plain": [
       "5×5 Array{Float64,2}:\n",
       " 10.0        0.228275   10.0   0.141481  10.0     \n",
       " 10.0        0.11143    10.0   0.160655  10.0     \n",
       "  0.103146   0.0674581  10.0  10.0        0.207889\n",
       "  0.0874783  0.384836   10.0   0.389488  10.0     \n",
       "  0.28365    0.261405   10.0   0.267742  10.0     "
      ]
     },
     "execution_count": 66,
     "metadata": {},
     "output_type": "execute_result"
    }
   ],
   "source": [
    "M"
   ]
  },
  {
   "cell_type": "code",
   "execution_count": 67,
   "metadata": {
    "collapsed": false
   },
   "outputs": [
    {
     "data": {
      "text/plain": [
       "49684"
      ]
     },
     "execution_count": 67,
     "metadata": {},
     "output_type": "execute_result"
    }
   ],
   "source": [
    "mapreduce(x -> x > 0, +, positions) "
   ]
  },
  {
   "cell_type": "code",
   "execution_count": 70,
   "metadata": {
    "collapsed": false
   },
   "outputs": [
    {
     "data": {
      "text/plain": [
       "1"
      ]
     },
     "execution_count": 70,
     "metadata": {},
     "output_type": "execute_result"
    }
   ],
   "source": [
    "+(false, true)  # inteprets them as numbers"
   ]
  },
  {
   "cell_type": "code",
   "execution_count": 71,
   "metadata": {
    "collapsed": false
   },
   "outputs": [
    {
     "data": {
      "text/html": [
       "+(x::<b>Bool</b>, y::<b>Bool</b>) at <a href=\"https://github.com/JuliaLang/julia/tree/3c9d75391c72d7c32eea75ff187ce77b2d5effc8/base/bool.jl#L48\" target=\"_blank\">bool.jl:48</a>"
      ],
      "text/plain": [
       "+(x::Bool, y::Bool) at bool.jl:48"
      ]
     },
     "execution_count": 71,
     "metadata": {},
     "output_type": "execute_result"
    }
   ],
   "source": [
    "@which +(false, true)"
   ]
  },
  {
   "cell_type": "markdown",
   "metadata": {},
   "source": [
    "Cf. random behaviour in financial markets."
   ]
  },
  {
   "cell_type": "code",
   "execution_count": 68,
   "metadata": {
    "collapsed": false
   },
   "outputs": [
    {
     "data": {
      "text/plain": [
       "100000-element DistributedArrays.DArray{Bool,1,Array{Bool,1}}:\n",
       " false\n",
       "  true\n",
       " false\n",
       " false\n",
       "  true\n",
       "  true\n",
       " false\n",
       " false\n",
       " false\n",
       " false\n",
       " false\n",
       " false\n",
       " false\n",
       "     ⋮\n",
       " false\n",
       "  true\n",
       " false\n",
       "  true\n",
       " false\n",
       " false\n",
       "  true\n",
       " false\n",
       " false\n",
       "  true\n",
       "  true\n",
       " false"
      ]
     },
     "execution_count": 68,
     "metadata": {},
     "output_type": "execute_result"
    }
   ],
   "source": [
    "map(x -> x > 0, positions)"
   ]
  },
  {
   "cell_type": "code",
   "execution_count": 73,
   "metadata": {
    "collapsed": false
   },
   "outputs": [
    {
     "data": {
      "text/html": [
       "map(f, d::<b>DistributedArrays.DArray</b>) at <a href=\"https://github.com/JuliaParallel/DistributedArrays.jl/tree/d68911be5c661488e61524bee5815314306c29f9/src/mapreduce.jl#L6\" target=\"_blank\">/Users/dpsanders/.julia/v0.5/DistributedArrays/src/mapreduce.jl:6</a>"
      ],
      "text/plain": [
       "map(f, d::DistributedArrays.DArray) at /Users/dpsanders/.julia/v0.5/DistributedArrays/src/mapreduce.jl:6"
      ]
     },
     "execution_count": 73,
     "metadata": {},
     "output_type": "execute_result"
    }
   ],
   "source": [
    "@which map(x -> x > 0, positions)"
   ]
  },
  {
   "cell_type": "code",
   "execution_count": 59,
   "metadata": {
    "collapsed": false
   },
   "outputs": [
    {
     "data": {
      "text/plain": [
       "49684"
      ]
     },
     "execution_count": 59,
     "metadata": {},
     "output_type": "execute_result"
    }
   ],
   "source": [
    "positions .> 0  # terribly slow"
   ]
  },
  {
   "cell_type": "code",
   "execution_count": 74,
   "metadata": {
    "collapsed": false
   },
   "outputs": [
    {
     "data": {
      "text/html": [
       ".>(x, y) at <a href=\"https://github.com/JuliaLang/julia/tree/3c9d75391c72d7c32eea75ff187ce77b2d5effc8/base/operators.jl#L69\" target=\"_blank\">operators.jl:69</a>"
      ],
      "text/plain": [
       ".>(x, y) at operators.jl:69"
      ]
     },
     "execution_count": 74,
     "metadata": {},
     "output_type": "execute_result"
    }
   ],
   "source": [
    "@which positions .> 0"
   ]
  },
  {
   "cell_type": "code",
   "execution_count": 75,
   "metadata": {
    "collapsed": false
   },
   "outputs": [
    {
     "data": {
      "text/html": [
       ".<(A, B::<b>AbstractArray</b>) at <a href=\"https://github.com/JuliaLang/julia/tree/3c9d75391c72d7c32eea75ff187ce77b2d5effc8/base/broadcast.jl#L370\" target=\"_blank\">broadcast.jl:370</a>"
      ],
      "text/plain": [
       ".<(A, B::AbstractArray) at broadcast.jl:370"
      ]
     },
     "execution_count": 75,
     "metadata": {},
     "output_type": "execute_result"
    }
   ],
   "source": [
    "@which 0 .< positions"
   ]
  },
  {
   "cell_type": "markdown",
   "metadata": {},
   "source": [
    "This was terribly slow since uses generic fallback, instead of a special method for `DArrays`.\n",
    "\n",
    "Let's fix that:"
   ]
  },
  {
   "cell_type": "code",
   "execution_count": 77,
   "metadata": {
    "collapsed": false
   },
   "outputs": [
    {
     "data": {
      "text/plain": [
       ".< (generic function with 12 methods)"
      ]
     },
     "execution_count": 77,
     "metadata": {},
     "output_type": "execute_result"
    }
   ],
   "source": [
    "import Base: .<\n",
    ".<(A, B::DArray) = map(x -> x > A, B)"
   ]
  },
  {
   "cell_type": "markdown",
   "metadata": {},
   "source": [
    "Now I should go and make a Pull Request to the [DistributedArrays.jl](https://github.com/JuliaParallel/DistributedArrays.jl) package"
   ]
  },
  {
   "cell_type": "code",
   "execution_count": 78,
   "metadata": {
    "collapsed": false
   },
   "outputs": [
    {
     "data": {
      "text/plain": [
       "100000-element DistributedArrays.DArray{Bool,1,Array{Bool,1}}:\n",
       " false\n",
       "  true\n",
       " false\n",
       " false\n",
       "  true\n",
       "  true\n",
       " false\n",
       " false\n",
       " false\n",
       " false\n",
       " false\n",
       " false\n",
       " false\n",
       "     ⋮\n",
       " false\n",
       "  true\n",
       " false\n",
       "  true\n",
       " false\n",
       " false\n",
       "  true\n",
       " false\n",
       " false\n",
       "  true\n",
       "  true\n",
       " false"
      ]
     },
     "execution_count": 78,
     "metadata": {},
     "output_type": "execute_result"
    }
   ],
   "source": [
    "0 .< positions"
   ]
  },
  {
   "cell_type": "code",
   "execution_count": 57,
   "metadata": {
    "collapsed": false
   },
   "outputs": [
    {
     "data": {
      "text/plain": [
       "-0.04856"
      ]
     },
     "execution_count": 57,
     "metadata": {},
     "output_type": "execute_result"
    }
   ],
   "source": [
    "mean(positions)"
   ]
  },
  {
   "cell_type": "code",
   "execution_count": 58,
   "metadata": {
    "collapsed": false
   },
   "outputs": [
    {
     "data": {
      "text/plain": [
       "10045.41121603856"
      ]
     },
     "execution_count": 58,
     "metadata": {},
     "output_type": "execute_result"
    }
   ],
   "source": [
    "var(positions)"
   ]
  },
  {
   "cell_type": "code",
   "execution_count": null,
   "metadata": {
    "collapsed": false
   },
   "outputs": [],
   "source": [
    "squared_positions = map(x->x^2, positions);"
   ]
  },
  {
   "cell_type": "code",
   "execution_count": null,
   "metadata": {
    "collapsed": false
   },
   "outputs": [],
   "source": [
    "mean(squared_positions) ≈ var(positions)"
   ]
  },
  {
   "cell_type": "markdown",
   "metadata": {},
   "source": [
    "# Another example: random matrices"
   ]
  },
  {
   "cell_type": "code",
   "execution_count": 53,
   "metadata": {
    "collapsed": false
   },
   "outputs": [
    {
     "data": {
      "text/plain": [
       "Plots.GRBackend()"
      ]
     },
     "execution_count": 53,
     "metadata": {},
     "output_type": "execute_result"
    }
   ],
   "source": [
    "using Plots; gr()"
   ]
  },
  {
   "cell_type": "code",
   "execution_count": 54,
   "metadata": {
    "collapsed": false
   },
   "outputs": [
    {
     "data": {
      "text/plain": [
       "2-element Array{Int64,1}:\n",
       " 2\n",
       " 3"
      ]
     },
     "execution_count": 54,
     "metadata": {},
     "output_type": "execute_result"
    }
   ],
   "source": [
    "workers()"
   ]
  },
  {
   "cell_type": "code",
   "execution_count": null,
   "metadata": {
    "collapsed": false
   },
   "outputs": [],
   "source": [
    "# addprocs(4)"
   ]
  },
  {
   "cell_type": "code",
   "execution_count": 55,
   "metadata": {
    "collapsed": false
   },
   "outputs": [
    {
     "name": "stderr",
     "output_type": "stream",
     "text": [
      "WARNING: replacing module StatsBase.\n",
      "WARNING: replacing module StatsBase.\n",
      "WARNING: Method definition stdm(AbstractArray{T<:Real, N<:Any}, AbstractArray{T<:Real, N<:Any}, Int64) in module StatsBase at /Users/dpsanders/.julia/v0.5/StatsBase/src/moments.jl:90 overwritten in module StatsBase at /Users/dpsanders/.julia/v0.5/StatsBase/src/moments.jl:90.\n",
      "WARNING: Method definition quantile(AbstractArray{#T<:Real, N<:Any}) in module StatsBase at /Users/dpsanders/.julia/v0.5/StatsBase/src/scalarstats.jl:213 overwritten in module StatsBase at /Users/dpsanders/.julia/v0.5/StatsBase/src/scalarstats.jl:213.\n",
      "WARNING: Method definition stdm(AbstractArray{T<:Real, N<:Any}, AbstractArray{T<:Real, N<:Any}, Int64) in module StatsBase at /Users/dpsanders/.julia/v0.5/StatsBase/src/moments.jl:90 overwritten in module StatsBase at /Users/dpsanders/.julia/v0.5/StatsBase/src/moments.jl:90.\n",
      "WARNING: Method definition quantile(AbstractArray{#T<:Real, N<:Any}) in module StatsBase at /Users/dpsanders/.julia/v0.5/StatsBase/src/scalarstats.jl:213 overwritten in module StatsBase at /Users/dpsanders/.julia/v0.5/StatsBase/src/scalarstats.jl:213.\n"
     ]
    }
   ],
   "source": [
    "@everywhere begin\n",
    "    using DistributedArrays\n",
    "    using StatsBase\n",
    "    using Plots\n",
    "end"
   ]
  },
  {
   "cell_type": "code",
   "execution_count": null,
   "metadata": {
    "collapsed": false
   },
   "outputs": [],
   "source": [
    "@everywhere function stochastic(β = 2, n = 200)\n",
    "    h = n ^ -(1/3)\n",
    "    x = 0:h:10\n",
    "    N = length(x)\n",
    "    d = (-2 / h^2 .- x) + 2*sqrt(h*β) * randn(N) # diagonal\n",
    "    e = ones(N - 1) / h^2                     # subdiagonal\n",
    "  \n",
    "    eigvals(SymTridiagonal(d, e))[N]        # smallest negative eigenvalue\n",
    "end"
   ]
  },
  {
   "cell_type": "markdown",
   "metadata": {},
   "source": [
    "Serial version:"
   ]
  },
  {
   "cell_type": "code",
   "execution_count": null,
   "metadata": {
    "collapsed": false
   },
   "outputs": [],
   "source": [
    "println(\"Serial version\")\n",
    "\n",
    "t = 10000\n",
    "p = plot()\n",
    "for β = [1,2,4,10,20]\n",
    "    \n",
    "    z = fit(Histogram, [stochastic(β) for i = 1:t], -4:0.01:1).weights\n",
    "    plot!(midpoints(-4:0.01:1), z / sum(z) / 0.01)\n",
    "end\n",
    "p"
   ]
  },
  {
   "cell_type": "markdown",
   "metadata": {},
   "source": [
    "A related parallel construct: `@parallel`. This does a \"reduce\" operation."
   ]
  },
  {
   "cell_type": "code",
   "execution_count": null,
   "metadata": {
    "collapsed": false
   },
   "outputs": [],
   "source": [
    "println(\"@parallel version\")\n",
    "\n",
    "@everywhere t = 10000\n",
    "\n",
    "p = plot()\n",
    "\n",
    "for β = [1,2,4,10,20]\n",
    "    \n",
    "    z = @parallel (+) for p = 1:nprocs()\n",
    "        fit(Histogram, [stochastic(β) for i = 1:t], -4:0.01:1).weights\n",
    "    end\n",
    "    \n",
    "    plot!(midpoints(-4:0.01:1), z / sum(z) / 0.01)\n",
    "end\n",
    "\n",
    "p"
   ]
  },
  {
   "cell_type": "code",
   "execution_count": null,
   "metadata": {
    "collapsed": false
   },
   "outputs": [],
   "source": [
    "function dhist(x; closed=:left, nbins=10)\n",
    "    \n",
    "    hist_parts = DArray(p->fit(Histogram, localpart(x), closed=closed, nbins=nbins).weights, (nbins*length(x.pids),))\n",
    "    \n",
    "    reduce(+, map(pid -> @fetchfrom(pid, localpart(hist_parts)), hist_parts.pids))\n",
    "      \n",
    "end"
   ]
  },
  {
   "cell_type": "code",
   "execution_count": null,
   "metadata": {
    "collapsed": false
   },
   "outputs": [],
   "source": [
    "a = randn(10000)\n",
    "d = distribute(a)\n",
    "\n",
    "dhist(d)"
   ]
  },
  {
   "cell_type": "markdown",
   "metadata": {
    "collapsed": true
   },
   "source": [
    "## Draw a random walk"
   ]
  },
  {
   "cell_type": "code",
   "execution_count": 3,
   "metadata": {
    "collapsed": false
   },
   "outputs": [
    {
     "data": {
      "text/plain": [
       "Plots.GRBackend()"
      ]
     },
     "execution_count": 3,
     "metadata": {},
     "output_type": "execute_result"
    }
   ],
   "source": [
    "using Plots; gr()"
   ]
  },
  {
   "cell_type": "code",
   "execution_count": 4,
   "metadata": {
    "collapsed": false
   },
   "outputs": [
    {
     "data": {
      "text/plain": [
       "trajectory (generic function with 2 methods)"
      ]
     },
     "execution_count": 4,
     "metadata": {},
     "output_type": "execute_result"
    }
   ],
   "source": [
    "function trajectory(numsteps=1000)\n",
    "\n",
    "    pos = 0 \n",
    "    positions = [pos]\n",
    "\n",
    "    for j in 1:numsteps\n",
    "\n",
    "        if rand() < 0.5\n",
    "            step = -1\n",
    "        else\n",
    "            step = +1\n",
    "        end\n",
    "\n",
    "        pos += step \n",
    "        push!(positions, pos)\n",
    "\n",
    "    end\n",
    "    \n",
    "    positions\n",
    "end\n"
   ]
  },
  {
   "cell_type": "code",
   "execution_count": 7,
   "metadata": {
    "collapsed": false
   },
   "outputs": [
    {
     "data": {
      "text/plain": [
       "101-element Array{Int64,1}:\n",
       "  0\n",
       "  1\n",
       "  0\n",
       " -1\n",
       " -2\n",
       " -1\n",
       "  0\n",
       "  1\n",
       "  2\n",
       "  3\n",
       "  2\n",
       "  1\n",
       "  0\n",
       "  ⋮\n",
       "  1\n",
       "  0\n",
       "  1\n",
       "  0\n",
       "  1\n",
       "  0\n",
       " -1\n",
       " -2\n",
       " -3\n",
       " -2\n",
       " -1\n",
       " -2"
      ]
     },
     "execution_count": 7,
     "metadata": {},
     "output_type": "execute_result"
    }
   ],
   "source": [
    "traj = trajectory(100)"
   ]
  },
  {
   "cell_type": "code",
   "execution_count": 10,
   "metadata": {
    "collapsed": false
   },
   "outputs": [
    {
     "data": {
      "text/html": [
       "<?xml version=\"1.0\" encoding=\"utf-8\"?>\n",
       "<svg xmlns=\"http://www.w3.org/2000/svg\" xmlns:xlink=\"http://www.w3.org/1999/xlink\" width=\"600\" height=\"400\" viewBox=\"0 0 600 400\">\n",
       "<defs>\n",
       "  <clipPath id=\"clip00\">\n",
       "    <rect x=\"0\" y=\"0\" width=\"600\" height=\"400\"/>\n",
       "  </clipPath>\n",
       "</defs>\n",
       "<polygon clip-path=\"url(#clip00)\" points=\"\n",
       "0,400 600,400 600,0 0,0 \n",
       "  \" fill=\"#ffffff\" fill-opacity=\"1\"/>\n",
       "<defs>\n",
       "  <clipPath id=\"clip01\">\n",
       "    <rect x=\"120\" y=\"0\" width=\"421\" height=\"400\"/>\n",
       "  </clipPath>\n",
       "</defs>\n",
       "<polygon clip-path=\"url(#clip00)\" points=\"\n",
       "30.6037,384.952 596.063,384.952 596.063,3.93701 30.6037,3.93701 \n",
       "  \" fill=\"#ffffff\" fill-opacity=\"1\"/>\n",
       "<defs>\n",
       "  <clipPath id=\"clip02\">\n",
       "    <rect x=\"30\" y=\"3\" width=\"566\" height=\"382\"/>\n",
       "  </clipPath>\n",
       "</defs>\n",
       "<polyline clip-path=\"url(#clip02)\" style=\"stroke:#00002d; stroke-width:0.8; stroke-opacity:0.5; fill:none\" stroke-dasharray=\"1, 2\" points=\"\n",
       "  143.13,379.237 143.13,9.65223 \n",
       "  \"/>\n",
       "<polyline clip-path=\"url(#clip02)\" style=\"stroke:#00002d; stroke-width:0.8; stroke-opacity:0.5; fill:none\" stroke-dasharray=\"1, 2\" points=\"\n",
       "  256.222,379.237 256.222,9.65223 \n",
       "  \"/>\n",
       "<polyline clip-path=\"url(#clip02)\" style=\"stroke:#00002d; stroke-width:0.8; stroke-opacity:0.5; fill:none\" stroke-dasharray=\"1, 2\" points=\"\n",
       "  369.314,379.237 369.314,9.65223 \n",
       "  \"/>\n",
       "<polyline clip-path=\"url(#clip02)\" style=\"stroke:#00002d; stroke-width:0.8; stroke-opacity:0.5; fill:none\" stroke-dasharray=\"1, 2\" points=\"\n",
       "  482.406,379.237 482.406,9.65223 \n",
       "  \"/>\n",
       "<polyline clip-path=\"url(#clip02)\" style=\"stroke:#00002d; stroke-width:0.8; stroke-opacity:0.5; fill:none\" stroke-dasharray=\"1, 2\" points=\"\n",
       "  595.498,379.237 595.498,9.65223 \n",
       "  \"/>\n",
       "<polyline clip-path=\"url(#clip02)\" style=\"stroke:#00002d; stroke-width:0.8; stroke-opacity:0.5; fill:none\" stroke-dasharray=\"1, 2\" points=\"\n",
       "  39.0856,361.86 587.581,361.86 \n",
       "  \"/>\n",
       "<polyline clip-path=\"url(#clip02)\" style=\"stroke:#00002d; stroke-width:0.8; stroke-opacity:0.5; fill:none\" stroke-dasharray=\"1, 2\" points=\"\n",
       "  39.0856,246.401 587.581,246.401 \n",
       "  \"/>\n",
       "<polyline clip-path=\"url(#clip02)\" style=\"stroke:#00002d; stroke-width:0.8; stroke-opacity:0.5; fill:none\" stroke-dasharray=\"1, 2\" points=\"\n",
       "  39.0856,130.942 587.581,130.942 \n",
       "  \"/>\n",
       "<polyline clip-path=\"url(#clip02)\" style=\"stroke:#00002d; stroke-width:0.8; stroke-opacity:0.5; fill:none\" stroke-dasharray=\"1, 2\" points=\"\n",
       "  39.0856,15.4829 587.581,15.4829 \n",
       "  \"/>\n",
       "<polyline clip-path=\"url(#clip02)\" style=\"stroke:#00002d; stroke-width:0.8; stroke-opacity:1; fill:none\" points=\"\n",
       "  30.6037,384.952 596.063,384.952 \n",
       "  \"/>\n",
       "<polyline clip-path=\"url(#clip02)\" style=\"stroke:#00002d; stroke-width:0.8; stroke-opacity:1; fill:none\" points=\"\n",
       "  143.13,384.952 143.13,379.237 \n",
       "  \"/>\n",
       "<polyline clip-path=\"url(#clip02)\" style=\"stroke:#00002d; stroke-width:0.8; stroke-opacity:1; fill:none\" points=\"\n",
       "  256.222,384.952 256.222,379.237 \n",
       "  \"/>\n",
       "<polyline clip-path=\"url(#clip02)\" style=\"stroke:#00002d; stroke-width:0.8; stroke-opacity:1; fill:none\" points=\"\n",
       "  369.314,384.952 369.314,379.237 \n",
       "  \"/>\n",
       "<polyline clip-path=\"url(#clip02)\" style=\"stroke:#00002d; stroke-width:0.8; stroke-opacity:1; fill:none\" points=\"\n",
       "  482.406,384.952 482.406,379.237 \n",
       "  \"/>\n",
       "<polyline clip-path=\"url(#clip02)\" style=\"stroke:#00002d; stroke-width:0.8; stroke-opacity:1; fill:none\" points=\"\n",
       "  595.498,384.952 595.498,379.237 \n",
       "  \"/>\n",
       "<polyline clip-path=\"url(#clip02)\" style=\"stroke:#00002d; stroke-width:0.8; stroke-opacity:1; fill:none\" points=\"\n",
       "  30.6037,384.952 30.6037,3.93701 \n",
       "  \"/>\n",
       "<polyline clip-path=\"url(#clip02)\" style=\"stroke:#00002d; stroke-width:0.8; stroke-opacity:1; fill:none\" points=\"\n",
       "  30.6037,361.86 39.0856,361.86 \n",
       "  \"/>\n",
       "<polyline clip-path=\"url(#clip02)\" style=\"stroke:#00002d; stroke-width:0.8; stroke-opacity:1; fill:none\" points=\"\n",
       "  30.6037,246.401 39.0856,246.401 \n",
       "  \"/>\n",
       "<polyline clip-path=\"url(#clip02)\" style=\"stroke:#00002d; stroke-width:0.8; stroke-opacity:1; fill:none\" points=\"\n",
       "  30.6037,130.942 39.0856,130.942 \n",
       "  \"/>\n",
       "<polyline clip-path=\"url(#clip02)\" style=\"stroke:#00002d; stroke-width:0.8; stroke-opacity:1; fill:none\" points=\"\n",
       "  30.6037,15.4829 39.0856,15.4829 \n",
       "  \"/>\n",
       "<g clip-path=\"url(#clip00)\">\n",
       "<text style=\"fill:#00002d; fill-opacity:1; font-family:Arial,Helvetica Neue,Helvetica,sans-serif; font-size:12; text-anchor:middle;\" transform=\"rotate(0, 143.13, 396.952)\" x=\"143.13\" y=\"396.952\">200</text>\n",
       "</g>\n",
       "<g clip-path=\"url(#clip00)\">\n",
       "<text style=\"fill:#00002d; fill-opacity:1; font-family:Arial,Helvetica Neue,Helvetica,sans-serif; font-size:12; text-anchor:middle;\" transform=\"rotate(0, 256.222, 396.952)\" x=\"256.222\" y=\"396.952\">400</text>\n",
       "</g>\n",
       "<g clip-path=\"url(#clip00)\">\n",
       "<text style=\"fill:#00002d; fill-opacity:1; font-family:Arial,Helvetica Neue,Helvetica,sans-serif; font-size:12; text-anchor:middle;\" transform=\"rotate(0, 369.314, 396.952)\" x=\"369.314\" y=\"396.952\">600</text>\n",
       "</g>\n",
       "<g clip-path=\"url(#clip00)\">\n",
       "<text style=\"fill:#00002d; fill-opacity:1; font-family:Arial,Helvetica Neue,Helvetica,sans-serif; font-size:12; text-anchor:middle;\" transform=\"rotate(0, 482.406, 396.952)\" x=\"482.406\" y=\"396.952\">800</text>\n",
       "</g>\n",
       "<g clip-path=\"url(#clip00)\">\n",
       "<text style=\"fill:#00002d; fill-opacity:1; font-family:Arial,Helvetica Neue,Helvetica,sans-serif; font-size:12; text-anchor:middle;\" transform=\"rotate(0, 595.498, 396.952)\" x=\"595.498\" y=\"396.952\">1000</text>\n",
       "</g>\n",
       "<g clip-path=\"url(#clip00)\">\n",
       "<text style=\"fill:#00002d; fill-opacity:1; font-family:Arial,Helvetica Neue,Helvetica,sans-serif; font-size:12; text-anchor:end;\" transform=\"rotate(0, 29.4037, 366.36)\" x=\"29.4037\" y=\"366.36\">-30</text>\n",
       "</g>\n",
       "<g clip-path=\"url(#clip00)\">\n",
       "<text style=\"fill:#00002d; fill-opacity:1; font-family:Arial,Helvetica Neue,Helvetica,sans-serif; font-size:12; text-anchor:end;\" transform=\"rotate(0, 29.4037, 250.901)\" x=\"29.4037\" y=\"250.901\">-20</text>\n",
       "</g>\n",
       "<g clip-path=\"url(#clip00)\">\n",
       "<text style=\"fill:#00002d; fill-opacity:1; font-family:Arial,Helvetica Neue,Helvetica,sans-serif; font-size:12; text-anchor:end;\" transform=\"rotate(0, 29.4037, 135.442)\" x=\"29.4037\" y=\"135.442\">-10</text>\n",
       "</g>\n",
       "<g clip-path=\"url(#clip00)\">\n",
       "<text style=\"fill:#00002d; fill-opacity:1; font-family:Arial,Helvetica Neue,Helvetica,sans-serif; font-size:12; text-anchor:end;\" transform=\"rotate(0, 29.4037, 19.9829)\" x=\"29.4037\" y=\"19.9829\">0</text>\n",
       "</g>\n",
       "<polyline clip-path=\"url(#clip02)\" style=\"stroke:#0099ff; stroke-width:0.8; stroke-opacity:1; fill:none\" points=\"\n",
       "  30.6037,15.4829 31.1691,3.93701 31.7346,15.4829 32.3001,3.93701 32.8655,15.4829 33.431,3.93701 33.9964,15.4829 34.5619,27.0288 35.1273,15.4829 35.6928,3.93701 \n",
       "  36.2583,15.4829 36.8237,27.0288 37.3892,38.5747 37.9546,27.0288 38.5201,38.5747 39.0856,50.1206 39.651,38.5747 40.2165,27.0288 40.7819,38.5747 41.3474,27.0288 \n",
       "  41.9129,38.5747 42.4783,50.1206 43.0438,61.6665 43.6092,73.2124 44.1747,84.7583 44.7402,73.2124 45.3056,84.7583 45.8711,96.3042 46.4365,107.85 47.002,119.396 \n",
       "  47.5675,107.85 48.1329,96.3042 48.6984,107.85 49.2638,96.3042 49.8293,84.7583 50.3948,96.3042 50.9602,107.85 51.5257,96.3042 52.0911,84.7583 52.6566,96.3042 \n",
       "  53.222,107.85 53.7875,119.396 54.353,130.942 54.9184,142.488 55.4839,130.942 56.0493,119.396 56.6148,130.942 57.1803,142.488 57.7457,154.034 58.3112,142.488 \n",
       "  58.8766,154.034 59.4421,142.488 60.0076,154.034 60.573,165.58 61.1385,177.126 61.7039,165.58 62.2694,154.034 62.8349,165.58 63.4003,177.126 63.9658,188.671 \n",
       "  64.5312,177.126 65.0967,188.671 65.6622,200.217 66.2276,211.763 66.7931,223.309 67.3585,211.763 67.924,223.309 68.4894,234.855 69.0549,246.401 69.6204,257.947 \n",
       "  70.1858,269.493 70.7513,257.947 71.3167,269.493 71.8822,257.947 72.4477,246.401 73.0131,257.947 73.5786,269.493 74.144,281.039 74.7095,269.493 75.275,281.039 \n",
       "  75.8404,292.585 76.4059,281.039 76.9713,292.585 77.5368,281.039 78.1023,292.585 78.6677,304.131 79.2332,292.585 79.7986,281.039 80.3641,292.585 80.9296,281.039 \n",
       "  81.495,269.493 82.0605,281.039 82.6259,292.585 83.1914,281.039 83.7569,269.493 84.3223,281.039 84.8878,292.585 85.4532,281.039 86.0187,292.585 86.5841,304.131 \n",
       "  87.1496,292.585 87.7151,281.039 88.2805,292.585 88.846,281.039 89.4114,269.493 89.9769,257.947 90.5424,246.401 91.1078,234.855 91.6733,223.309 92.2387,234.855 \n",
       "  92.8042,246.401 93.3697,257.947 93.9351,269.493 94.5006,257.947 95.066,269.493 95.6315,257.947 96.197,246.401 96.7624,257.947 97.3279,246.401 97.8933,234.855 \n",
       "  98.4588,246.401 99.0243,257.947 99.5897,269.493 100.155,281.039 100.721,269.493 101.286,281.039 101.852,269.493 102.417,257.947 102.982,246.401 103.548,234.855 \n",
       "  104.113,246.401 104.679,234.855 105.244,246.401 105.81,234.855 106.375,246.401 106.941,234.855 107.506,223.309 108.072,234.855 108.637,223.309 109.203,211.763 \n",
       "  109.768,200.217 110.333,211.763 110.899,223.309 111.464,211.763 112.03,200.217 112.595,211.763 113.161,223.309 113.726,211.763 114.292,200.217 114.857,188.671 \n",
       "  115.423,200.217 115.988,188.671 116.553,200.217 117.119,188.671 117.684,177.126 118.25,165.58 118.815,154.034 119.381,165.58 119.946,177.126 120.512,188.671 \n",
       "  121.077,177.126 121.643,165.58 122.208,154.034 122.774,142.488 123.339,130.942 123.904,119.396 124.47,130.942 125.035,119.396 125.601,130.942 126.166,119.396 \n",
       "  126.732,107.85 127.297,96.3042 127.863,84.7583 128.428,73.2124 128.994,84.7583 129.559,96.3042 130.125,84.7583 130.69,96.3042 131.255,107.85 131.821,119.396 \n",
       "  132.386,107.85 132.952,96.3042 133.517,107.85 134.083,96.3042 134.648,84.7583 135.214,96.3042 135.779,107.85 136.345,96.3042 136.91,84.7583 137.475,73.2124 \n",
       "  138.041,84.7583 138.606,73.2124 139.172,61.6665 139.737,50.1206 140.303,38.5747 140.868,27.0288 141.434,15.4829 141.999,3.93701 142.565,15.4829 143.13,27.0288 \n",
       "  143.696,38.5747 144.261,50.1206 144.826,38.5747 145.392,50.1206 145.957,61.6665 146.523,73.2124 147.088,61.6665 147.654,73.2124 148.219,84.7583 148.785,96.3042 \n",
       "  149.35,84.7583 149.916,96.3042 150.481,84.7583 151.047,73.2124 151.612,61.6665 152.177,50.1206 152.743,61.6665 153.308,50.1206 153.874,38.5747 154.439,27.0288 \n",
       "  155.005,15.4829 155.57,3.93701 156.136,15.4829 156.701,3.93701 157.267,15.4829 157.832,27.0288 158.397,38.5747 158.963,27.0288 159.528,38.5747 160.094,27.0288 \n",
       "  160.659,38.5747 161.225,50.1206 161.79,38.5747 162.356,50.1206 162.921,38.5747 163.487,50.1206 164.052,38.5747 164.618,50.1206 165.183,38.5747 165.748,27.0288 \n",
       "  166.314,38.5747 166.879,27.0288 167.445,38.5747 168.01,27.0288 168.576,38.5747 169.141,27.0288 169.707,15.4829 170.272,27.0288 170.838,38.5747 171.403,27.0288 \n",
       "  171.969,38.5747 172.534,27.0288 173.099,38.5747 173.665,27.0288 174.23,38.5747 174.796,50.1206 175.361,38.5747 175.927,50.1206 176.492,61.6665 177.058,73.2124 \n",
       "  177.623,61.6665 178.189,73.2124 178.754,61.6665 179.319,50.1206 179.885,61.6665 180.45,73.2124 181.016,84.7583 181.581,73.2124 182.147,84.7583 182.712,73.2124 \n",
       "  183.278,84.7583 183.843,96.3042 184.409,107.85 184.974,119.396 185.54,130.942 186.105,119.396 186.67,130.942 187.236,142.488 187.801,154.034 188.367,142.488 \n",
       "  188.932,130.942 189.498,119.396 190.063,107.85 190.629,96.3042 191.194,84.7583 191.76,73.2124 192.325,84.7583 192.89,73.2124 193.456,61.6665 194.021,50.1206 \n",
       "  194.587,38.5747 195.152,50.1206 195.718,38.5747 196.283,27.0288 196.849,38.5747 197.414,50.1206 197.98,61.6665 198.545,50.1206 199.111,61.6665 199.676,50.1206 \n",
       "  200.241,38.5747 200.807,50.1206 201.372,61.6665 201.938,73.2124 202.503,84.7583 203.069,73.2124 203.634,61.6665 204.2,73.2124 204.765,61.6665 205.331,50.1206 \n",
       "  205.896,38.5747 206.462,50.1206 207.027,38.5747 207.592,50.1206 208.158,61.6665 208.723,50.1206 209.289,38.5747 209.854,27.0288 210.42,15.4829 210.985,27.0288 \n",
       "  211.551,15.4829 212.116,27.0288 212.682,38.5747 213.247,50.1206 213.812,38.5747 214.378,27.0288 214.943,38.5747 215.509,27.0288 216.074,15.4829 216.64,3.93701 \n",
       "  217.205,15.4829 217.771,27.0288 218.336,38.5747 218.902,50.1206 219.467,38.5747 220.033,50.1206 220.598,38.5747 221.163,50.1206 221.729,61.6665 222.294,73.2124 \n",
       "  222.86,84.7583 223.425,73.2124 223.991,84.7583 224.556,96.3042 225.122,107.85 225.687,119.396 226.253,107.85 226.818,96.3042 227.384,84.7583 227.949,96.3042 \n",
       "  228.514,107.85 229.08,119.396 229.645,130.942 230.211,119.396 230.776,107.85 231.342,96.3042 231.907,84.7583 232.473,96.3042 233.038,107.85 233.604,119.396 \n",
       "  234.169,107.85 234.734,96.3042 235.3,84.7583 235.865,96.3042 236.431,107.85 236.996,96.3042 237.562,107.85 238.127,96.3042 238.693,107.85 239.258,119.396 \n",
       "  239.824,130.942 240.389,119.396 240.955,130.942 241.52,142.488 242.085,130.942 242.651,119.396 243.216,130.942 243.782,119.396 244.347,130.942 244.913,119.396 \n",
       "  245.478,107.85 246.044,119.396 246.609,130.942 247.175,142.488 247.74,154.034 248.306,142.488 248.871,154.034 249.436,142.488 250.002,130.942 250.567,142.488 \n",
       "  251.133,154.034 251.698,165.58 252.264,154.034 252.829,165.58 253.395,177.126 253.96,165.58 254.526,154.034 255.091,142.488 255.656,130.942 256.222,142.488 \n",
       "  256.787,154.034 257.353,165.58 257.918,177.126 258.484,188.671 259.049,177.126 259.615,165.58 260.18,177.126 260.746,165.58 261.311,154.034 261.877,165.58 \n",
       "  262.442,177.126 263.007,165.58 263.573,177.126 264.138,188.671 264.704,177.126 265.269,188.671 265.835,200.217 266.4,211.763 266.966,200.217 267.531,188.671 \n",
       "  268.097,200.217 268.662,188.671 269.228,200.217 269.793,211.763 270.358,223.309 270.924,234.855 271.489,223.309 272.055,234.855 272.62,246.401 273.186,234.855 \n",
       "  273.751,223.309 274.317,234.855 274.882,223.309 275.448,211.763 276.013,223.309 276.578,234.855 277.144,223.309 277.709,211.763 278.275,223.309 278.84,211.763 \n",
       "  279.406,223.309 279.971,211.763 280.537,223.309 281.102,211.763 281.668,223.309 282.233,234.855 282.799,223.309 283.364,211.763 283.929,223.309 284.495,234.855 \n",
       "  285.06,246.401 285.626,257.947 286.191,269.493 286.757,257.947 287.322,269.493 287.888,257.947 288.453,269.493 289.019,281.039 289.584,269.493 290.15,281.039 \n",
       "  290.715,269.493 291.28,257.947 291.846,269.493 292.411,257.947 292.977,269.493 293.542,257.947 294.108,246.401 294.673,234.855 295.239,246.401 295.804,257.947 \n",
       "  296.37,269.493 296.935,281.039 297.5,269.493 298.066,281.039 298.631,269.493 299.197,257.947 299.762,246.401 300.328,257.947 300.893,246.401 301.459,234.855 \n",
       "  302.024,223.309 302.59,211.763 303.155,223.309 303.721,211.763 304.286,200.217 304.851,211.763 305.417,200.217 305.982,211.763 306.548,223.309 307.113,234.855 \n",
       "  307.679,246.401 308.244,257.947 308.81,246.401 309.375,234.855 309.941,223.309 310.506,234.855 311.071,223.309 311.637,234.855 312.202,223.309 312.768,234.855 \n",
       "  313.333,246.401 313.899,257.947 314.464,246.401 315.03,257.947 315.595,269.493 316.161,281.039 316.726,269.493 317.292,281.039 317.857,269.493 318.422,257.947 \n",
       "  318.988,269.493 319.553,257.947 320.119,246.401 320.684,234.855 321.25,246.401 321.815,234.855 322.381,246.401 322.946,257.947 323.512,269.493 324.077,281.039 \n",
       "  324.643,292.585 325.208,281.039 325.773,269.493 326.339,281.039 326.904,269.493 327.47,281.039 328.035,269.493 328.601,281.039 329.166,292.585 329.732,304.131 \n",
       "  330.297,292.585 330.863,304.131 331.428,292.585 331.993,281.039 332.559,292.585 333.124,281.039 333.69,269.493 334.255,257.947 334.821,246.401 335.386,257.947 \n",
       "  335.952,269.493 336.517,281.039 337.083,292.585 337.648,281.039 338.214,269.493 338.779,281.039 339.344,269.493 339.91,257.947 340.475,246.401 341.041,257.947 \n",
       "  341.606,246.401 342.172,257.947 342.737,246.401 343.303,257.947 343.868,269.493 344.434,281.039 344.999,292.585 345.565,304.131 346.13,292.585 346.695,281.039 \n",
       "  347.261,292.585 347.826,281.039 348.392,269.493 348.957,257.947 349.523,246.401 350.088,257.947 350.654,269.493 351.219,281.039 351.785,292.585 352.35,304.131 \n",
       "  352.915,292.585 353.481,281.039 354.046,269.493 354.612,257.947 355.177,269.493 355.743,257.947 356.308,269.493 356.874,281.039 357.439,292.585 358.005,304.131 \n",
       "  358.57,315.676 359.136,304.131 359.701,292.585 360.266,304.131 360.832,315.676 361.397,327.222 361.963,315.676 362.528,304.131 363.094,315.676 363.659,327.222 \n",
       "  364.225,315.676 364.79,304.131 365.356,292.585 365.921,304.131 366.487,315.676 367.052,304.131 367.617,315.676 368.183,327.222 368.748,338.768 369.314,327.222 \n",
       "  369.879,315.676 370.445,327.222 371.01,338.768 371.576,350.314 372.141,361.86 372.707,373.406 373.272,361.86 373.837,373.406 374.403,361.86 374.968,373.406 \n",
       "  375.534,384.952 376.099,373.406 376.665,384.952 377.23,373.406 377.796,384.952 378.361,373.406 378.927,361.86 379.492,373.406 380.058,361.86 380.623,373.406 \n",
       "  381.188,361.86 381.754,350.314 382.319,361.86 382.885,350.314 383.45,338.768 384.016,327.222 384.581,338.768 385.147,350.314 385.712,338.768 386.278,327.222 \n",
       "  386.843,338.768 387.409,327.222 387.974,315.676 388.539,304.131 389.105,292.585 389.67,304.131 390.236,315.676 390.801,304.131 391.367,315.676 391.932,304.131 \n",
       "  392.498,292.585 393.063,281.039 393.629,292.585 394.194,304.131 394.759,315.676 395.325,304.131 395.89,315.676 396.456,304.131 397.021,315.676 397.587,327.222 \n",
       "  398.152,338.768 398.718,350.314 399.283,338.768 399.849,350.314 400.414,338.768 400.98,327.222 401.545,338.768 402.11,327.222 402.676,338.768 403.241,350.314 \n",
       "  403.807,361.86 404.372,373.406 404.938,361.86 405.503,350.314 406.069,338.768 406.634,327.222 407.2,338.768 407.765,327.222 408.33,338.768 408.896,327.222 \n",
       "  409.461,315.676 410.027,304.131 410.592,292.585 411.158,304.131 411.723,292.585 412.289,281.039 412.854,292.585 413.42,304.131 413.985,315.676 414.551,327.222 \n",
       "  415.116,315.676 415.681,304.131 416.247,315.676 416.812,327.222 417.378,338.768 417.943,327.222 418.509,338.768 419.074,350.314 419.64,338.768 420.205,327.222 \n",
       "  420.771,315.676 421.336,304.131 421.902,292.585 422.467,304.131 423.032,292.585 423.598,281.039 424.163,269.493 424.729,281.039 425.294,269.493 425.86,281.039 \n",
       "  426.425,269.493 426.991,257.947 427.556,246.401 428.122,234.855 428.687,246.401 429.252,234.855 429.818,223.309 430.383,234.855 430.949,246.401 431.514,257.947 \n",
       "  432.08,269.493 432.645,281.039 433.211,292.585 433.776,281.039 434.342,292.585 434.907,281.039 435.473,269.493 436.038,281.039 436.603,269.493 437.169,281.039 \n",
       "  437.734,269.493 438.3,281.039 438.865,292.585 439.431,281.039 439.996,292.585 440.562,304.131 441.127,292.585 441.693,281.039 442.258,269.493 442.824,257.947 \n",
       "  443.389,246.401 443.954,257.947 444.52,246.401 445.085,257.947 445.651,269.493 446.216,257.947 446.782,269.493 447.347,257.947 447.913,269.493 448.478,257.947 \n",
       "  449.044,246.401 449.609,234.855 450.174,246.401 450.74,257.947 451.305,269.493 451.871,257.947 452.436,246.401 453.002,257.947 453.567,246.401 454.133,234.855 \n",
       "  454.698,246.401 455.264,257.947 455.829,269.493 456.395,257.947 456.96,269.493 457.525,281.039 458.091,292.585 458.656,281.039 459.222,292.585 459.787,281.039 \n",
       "  460.353,269.493 460.918,281.039 461.484,269.493 462.049,257.947 462.615,269.493 463.18,281.039 463.746,269.493 464.311,257.947 464.876,246.401 465.442,257.947 \n",
       "  466.007,246.401 466.573,257.947 467.138,269.493 467.704,257.947 468.269,269.493 468.835,257.947 469.4,269.493 469.966,281.039 470.531,269.493 471.096,257.947 \n",
       "  471.662,246.401 472.227,234.855 472.793,246.401 473.358,257.947 473.924,269.493 474.489,257.947 475.055,246.401 475.62,234.855 476.186,223.309 476.751,211.763 \n",
       "  477.317,200.217 477.882,188.671 478.447,200.217 479.013,211.763 479.578,200.217 480.144,211.763 480.709,200.217 481.275,188.671 481.84,200.217 482.406,188.671 \n",
       "  482.971,177.126 483.537,188.671 484.102,177.126 484.668,165.58 485.233,154.034 485.798,165.58 486.364,154.034 486.929,165.58 487.495,154.034 488.06,165.58 \n",
       "  488.626,177.126 489.191,165.58 489.757,154.034 490.322,142.488 490.888,154.034 491.453,165.58 492.018,177.126 492.584,188.671 493.149,177.126 493.715,165.58 \n",
       "  494.28,177.126 494.846,188.671 495.411,177.126 495.977,165.58 496.542,154.034 497.108,165.58 497.673,177.126 498.239,188.671 498.804,177.126 499.369,188.671 \n",
       "  499.935,200.217 500.5,188.671 501.066,177.126 501.631,188.671 502.197,200.217 502.762,211.763 503.328,223.309 503.893,211.763 504.459,200.217 505.024,211.763 \n",
       "  505.59,223.309 506.155,211.763 506.72,200.217 507.286,188.671 507.851,177.126 508.417,165.58 508.982,177.126 509.548,165.58 510.113,154.034 510.679,165.58 \n",
       "  511.244,177.126 511.81,188.671 512.375,200.217 512.94,188.671 513.506,177.126 514.071,188.671 514.637,177.126 515.202,188.671 515.768,177.126 516.333,165.58 \n",
       "  516.899,177.126 517.464,165.58 518.03,177.126 518.595,188.671 519.161,200.217 519.726,188.671 520.291,200.217 520.857,188.671 521.422,200.217 521.988,188.671 \n",
       "  522.553,177.126 523.119,165.58 523.684,154.034 524.25,165.58 524.815,154.034 525.381,165.58 525.946,154.034 526.511,165.58 527.077,177.126 527.642,188.671 \n",
       "  528.208,200.217 528.773,188.671 529.339,177.126 529.904,165.58 530.47,154.034 531.035,142.488 531.601,154.034 532.166,165.58 532.732,177.126 533.297,165.58 \n",
       "  533.862,177.126 534.428,165.58 534.993,177.126 535.559,165.58 536.124,177.126 536.69,188.671 537.255,177.126 537.821,165.58 538.386,177.126 538.952,165.58 \n",
       "  539.517,154.034 540.083,165.58 540.648,154.034 541.213,165.58 541.779,154.034 542.344,165.58 542.91,154.034 543.475,142.488 544.041,154.034 544.606,142.488 \n",
       "  545.172,154.034 545.737,142.488 546.303,130.942 546.868,142.488 547.433,130.942 547.999,142.488 548.564,154.034 549.13,142.488 549.695,130.942 550.261,119.396 \n",
       "  550.826,107.85 551.392,119.396 551.957,107.85 552.523,96.3042 553.088,107.85 553.654,96.3042 554.219,84.7583 554.784,96.3042 555.35,84.7583 555.915,73.2124 \n",
       "  556.481,84.7583 557.046,96.3042 557.612,107.85 558.177,96.3042 558.743,107.85 559.308,96.3042 559.874,107.85 560.439,96.3042 561.005,84.7583 561.57,96.3042 \n",
       "  562.135,84.7583 562.701,73.2124 563.266,61.6665 563.832,73.2124 564.397,61.6665 564.963,50.1206 565.528,61.6665 566.094,73.2124 566.659,84.7583 567.225,96.3042 \n",
       "  567.79,84.7583 568.355,96.3042 568.921,107.85 569.486,119.396 570.052,107.85 570.617,119.396 571.183,130.942 571.748,142.488 572.314,130.942 572.879,142.488 \n",
       "  573.445,130.942 574.01,142.488 574.576,154.034 575.141,165.58 575.706,154.034 576.272,165.58 576.837,177.126 577.403,188.671 577.968,200.217 578.534,211.763 \n",
       "  579.099,200.217 579.665,211.763 580.23,200.217 580.796,211.763 581.361,223.309 581.927,211.763 582.492,223.309 583.057,211.763 583.623,223.309 584.188,234.855 \n",
       "  584.754,246.401 585.319,257.947 585.885,269.493 586.45,281.039 587.016,292.585 587.581,281.039 588.147,269.493 588.712,281.039 589.277,269.493 589.843,281.039 \n",
       "  590.408,269.493 590.974,281.039 591.539,292.585 592.105,281.039 592.67,292.585 593.236,281.039 593.801,292.585 594.367,304.131 594.932,315.676 595.498,304.131 \n",
       "  596.063,315.676 \n",
       "  \"/>\n",
       "<polyline clip-path=\"url(#clip02)\" style=\"stroke:#e9746a; stroke-width:0.8; stroke-opacity:1; fill:none\" stroke-dasharray=\"8, 5\" points=\"\n",
       "  30.6037,15.4829 596.063,15.4829 \n",
       "  \"/>\n",
       "<polygon clip-path=\"url(#clip00)\" points=\"\n",
       "505.547,70.177 578.063,70.177 578.063,24.817 505.547,24.817 \n",
       "  \" fill=\"#ffffff\" fill-opacity=\"1\"/>\n",
       "<polyline clip-path=\"url(#clip00)\" style=\"stroke:#00002d; stroke-width:0.8; stroke-opacity:1; fill:none\" points=\"\n",
       "  505.547,70.177 578.063,70.177 578.063,24.817 505.547,24.817 505.547,70.177 \n",
       "  \"/>\n",
       "<polyline clip-path=\"url(#clip00)\" style=\"stroke:#0099ff; stroke-width:0.8; stroke-opacity:1; fill:none\" points=\"\n",
       "  511.547,39.937 547.547,39.937 \n",
       "  \"/>\n",
       "<g clip-path=\"url(#clip00)\">\n",
       "<text style=\"fill:#00002d; fill-opacity:1; font-family:Arial,Helvetica Neue,Helvetica,sans-serif; font-size:12; text-anchor:start;\" transform=\"rotate(0, 553.547, 44.437)\" x=\"553.547\" y=\"44.437\">y1</text>\n",
       "</g>\n",
       "<polyline clip-path=\"url(#clip00)\" style=\"stroke:#e9746a; stroke-width:0.8; stroke-opacity:1; fill:none\" stroke-dasharray=\"8, 5\" points=\"\n",
       "  511.547,55.057 547.547,55.057 \n",
       "  \"/>\n",
       "<g clip-path=\"url(#clip00)\">\n",
       "<text style=\"fill:#00002d; fill-opacity:1; font-family:Arial,Helvetica Neue,Helvetica,sans-serif; font-size:12; text-anchor:start;\" transform=\"rotate(0, 553.547, 59.557)\" x=\"553.547\" y=\"59.557\">y2</text>\n",
       "</g>\n",
       "</svg>\n"
      ]
     },
     "execution_count": 10,
     "metadata": {},
     "output_type": "execute_result"
    }
   ],
   "source": [
    "\n",
    "traj = trajectory(1000)\n",
    "plot()\n",
    "hline!([0], ls=:dash)\n"
   ]
  },
  {
   "cell_type": "code",
   "execution_count": 15,
   "metadata": {
    "collapsed": false
   },
   "outputs": [
    {
     "ename": "LoadError",
     "evalue": "MethodError: no method matching @gif(::Symbol, ::Expr)\u001b[0m\nClosest candidates are:\n  @gif(\u001b[1m\u001b[31m::Expr\u001b[0m, ::Any...) at /Users/dpsanders/.julia/v0.5/Plots/src/animation.jl:172\u001b[0m",
     "output_type": "error",
     "traceback": [
      "MethodError: no method matching @gif(::Symbol, ::Expr)\u001b[0m\nClosest candidates are:\n  @gif(\u001b[1m\u001b[31m::Expr\u001b[0m, ::Any...) at /Users/dpsanders/.julia/v0.5/Plots/src/animation.jl:172\u001b[0m",
      ""
     ]
    }
   ],
   "source": [
    "p = plot(legend=false)\n",
    "\n",
    "for i in 1:n\n",
    "    traj = trajectory(100)\n",
    "    plot!(traj)\n",
    "end\n",
    "\n",
    "hline!([0], ls=:dash)\n",
    "\n",
    "p"
   ]
  },
  {
   "cell_type": "code",
   "execution_count": null,
   "metadata": {
    "collapsed": true
   },
   "outputs": [],
   "source": []
  }
 ],
 "metadata": {
  "anaconda-cloud": {},
  "kernelspec": {
   "display_name": "Julia 0.5.0",
   "language": "julia",
   "name": "julia-0.5"
  },
  "language_info": {
   "file_extension": ".jl",
   "mimetype": "application/julia",
   "name": "julia",
   "version": "0.5.0"
  },
  "toc": {
   "nav_menu": {
    "height": "30px",
    "width": "252px"
   },
   "navigate_menu": true,
   "number_sections": true,
   "sideBar": true,
   "threshold": "2",
   "toc_cell": false,
   "toc_section_display": "block",
   "toc_window_display": false
  }
 },
 "nbformat": 4,
 "nbformat_minor": 2
}
