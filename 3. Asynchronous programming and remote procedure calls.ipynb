{
 "cells": [
  {
   "cell_type": "markdown",
   "metadata": {},
   "source": [
    "# Tasks\n",
    "\n",
    "What is a Julia Task?\n",
    "\n",
    "- very lightweight coroutines\n",
    "- Not threads!\n",
    "- Internal to and scheduled by a Julia Process"
   ]
  },
  {
   "cell_type": "code",
   "execution_count": 1,
   "metadata": {
    "collapsed": false
   },
   "outputs": [
    {
     "name": "stdout",
     "output_type": "stream",
     "text": [
      "search: \u001b[1mT\u001b[22m\u001b[1ma\u001b[22m\u001b[1ms\u001b[22m\u001b[1mk\u001b[22m \u001b[1mt\u001b[22m\u001b[1ma\u001b[22m\u001b[1ms\u001b[22m\u001b[1mk\u001b[22m_local_storage @\u001b[1mt\u001b[22m\u001b[1ma\u001b[22m\u001b[1ms\u001b[22m\u001b[1mk\u001b[22m is\u001b[1mt\u001b[22m\u001b[1ma\u001b[22m\u001b[1ms\u001b[22m\u001b[1mk\u001b[22mdone is\u001b[1mt\u001b[22m\u001b[1ma\u001b[22m\u001b[1ms\u001b[22m\u001b[1mk\u001b[22mstarted curren\u001b[1mt\u001b[22m_t\u001b[1ma\u001b[22m\u001b[1ms\u001b[22m\u001b[1mk\u001b[22m\n",
      "\n"
     ]
    },
    {
     "data": {
      "text/markdown": [
       "```\n",
       "Task(func)\n",
       "```\n",
       "\n",
       "Create a `Task` (i.e. coroutine) to execute the given function (which must be callable with no arguments). The task exits when this function returns.\n"
      ],
      "text/plain": [
       "```\n",
       "Task(func)\n",
       "```\n",
       "\n",
       "Create a `Task` (i.e. coroutine) to execute the given function (which must be callable with no arguments). The task exits when this function returns.\n"
      ]
     },
     "execution_count": 1,
     "metadata": {},
     "output_type": "execute_result"
    }
   ],
   "source": [
    "?Task"
   ]
  },
  {
   "cell_type": "code",
   "execution_count": 2,
   "metadata": {
    "collapsed": false
   },
   "outputs": [
    {
     "data": {
      "text/plain": [
       "Task (runnable) @0x00007f9da84230d0"
      ]
     },
     "execution_count": 2,
     "metadata": {},
     "output_type": "execute_result"
    }
   ],
   "source": [
    "function mytask()\n",
    "    println(\"Going to take a nap.\")\n",
    "    sleep(10)\n",
    "    println(\"Woke up.\")\n",
    "    rand()\n",
    "end\n",
    "\n",
    "t=Task(mytask)"
   ]
  },
  {
   "cell_type": "markdown",
   "metadata": {},
   "source": [
    "## scheduling a task"
   ]
  },
  {
   "cell_type": "markdown",
   "metadata": {},
   "source": [
    "**`schedule`** actually starts the task, but will *return immediately*"
   ]
  },
  {
   "cell_type": "code",
   "execution_count": 3,
   "metadata": {
    "collapsed": false
   },
   "outputs": [
    {
     "name": "stdout",
     "output_type": "stream",
     "text": [
      "Going to take a nap.\n"
     ]
    },
    {
     "data": {
      "text/plain": [
       "Task (runnable) @0x00007f9da84230d0"
      ]
     },
     "execution_count": 3,
     "metadata": {},
     "output_type": "execute_result"
    }
   ],
   "source": [
    "schedule(t)"
   ]
  },
  {
   "cell_type": "markdown",
   "metadata": {},
   "source": [
    "## waiting on a task"
   ]
  },
  {
   "cell_type": "code",
   "execution_count": 4,
   "metadata": {
    "collapsed": false
   },
   "outputs": [
    {
     "name": "stdout",
     "output_type": "stream",
     "text": [
      "Doing something else while t is taking a nap...\n",
      "Woke up.\n",
      "wait(t) = 0.12803393161762378\n",
      "  8.965076 seconds (33.73 k allocations: 1.516 MB)\n",
      "t.state = :done\n",
      "task finished\n"
     ]
    }
   ],
   "source": [
    "println(\"Doing something else while t is taking a nap...\")\n",
    "inv(rand(100, 100))\n",
    "@time @show wait(t)\n",
    "@show t.state\n",
    "println(\"task finished\")"
   ]
  },
  {
   "cell_type": "markdown",
   "metadata": {},
   "source": [
    "## @async - syntax sugar for creating tasks and scheduling it"
   ]
  },
  {
   "cell_type": "code",
   "execution_count": 5,
   "metadata": {
    "collapsed": false
   },
   "outputs": [
    {
     "name": "stdout",
     "output_type": "stream",
     "text": [
      "Going to take a nap.\n"
     ]
    },
    {
     "data": {
      "text/plain": [
       "Task (runnable) @0x00007f9daa2409d0"
      ]
     },
     "execution_count": 5,
     "metadata": {},
     "output_type": "execute_result"
    }
   ],
   "source": [
    "t=@async begin\n",
    "    println(\"Going to take a nap.\")\n",
    "    sleep(5)\n",
    "    println(\"Woke up.\")\n",
    "end"
   ]
  },
  {
   "cell_type": "code",
   "execution_count": 6,
   "metadata": {
    "collapsed": false
   },
   "outputs": [
    {
     "data": {
      "text/plain": [
       "42"
      ]
     },
     "execution_count": 6,
     "metadata": {},
     "output_type": "execute_result"
    }
   ],
   "source": [
    "21+21"
   ]
  },
  {
   "cell_type": "markdown",
   "metadata": {},
   "source": [
    "## Channels\n",
    "\n",
    "Allows communication between Tasks"
   ]
  },
  {
   "cell_type": "code",
   "execution_count": 7,
   "metadata": {
    "collapsed": false
   },
   "outputs": [
    {
     "data": {
      "text/plain": [
       "Task (runnable) @0x00007f9daa5da230"
      ]
     },
     "execution_count": 7,
     "metadata": {},
     "output_type": "execute_result"
    }
   ],
   "source": [
    "input = Channel()\n",
    "result = Channel()\n",
    "doubler = @async while true\n",
    "    x = take!(input)\n",
    "    println(\"Got message\")\n",
    "    put!(result, 2x)\n",
    "end\n",
    "\n",
    "printer = @async while true\n",
    "    res = take!(result)\n",
    "    @show res\n",
    "end"
   ]
  },
  {
   "cell_type": "code",
   "execution_count": 8,
   "metadata": {
    "collapsed": false
   },
   "outputs": [
    {
     "data": {
      "text/html": [
       "<div id=\"interact-js-shim\">\n",
       "    <script charset=\"utf-8\">\n",
       "(function (IPython, $, _, MathJax) {\n",
       "    $.event.special.destroyed = {\n",
       "\tremove: function(o) {\n",
       "\t    if (o.handler) {\n",
       "\t\to.handler.apply(this, arguments)\n",
       "\t    }\n",
       "\t}\n",
       "    }\n",
       "\n",
       "    var OutputArea = IPython.version >= \"4.0.0\" ? require(\"notebook/js/outputarea\").OutputArea : IPython.OutputArea;\n",
       "\n",
       "    var redrawValue = function (container, type, val) {\n",
       "\tvar selector = $(\"<div/>\");\n",
       "\tvar oa = new OutputArea(_.extend(selector, {\n",
       "\t    selector: selector,\n",
       "\t    prompt_area: true,\n",
       "\t    events: IPython.events,\n",
       "\t    keyboard_manager: IPython.keyboard_manager\n",
       "\t})); // Hack to work with IPython 2.1.0\n",
       "\n",
       "\tswitch (type) {\n",
       "\tcase \"image/png\":\n",
       "            var _src = 'data:' + type + ';base64,' + val;\n",
       "\t    $(container).find(\"img\").attr('src', _src);\n",
       "\t    break;\n",
       "\tcase \"text/latex\":\n",
       "\t\tif (MathJax){\n",
       "\t\t\tvar math = MathJax.Hub.getAllJax(container)[0];\n",
       "\t\t\tMathJax.Hub.Queue([\"Text\", math, val.replace(/^\\${1,2}|\\${1,2}$/g, '')]);\n",
       "\t\t\tbreak;\n",
       "\t\t}\n",
       "\tdefault:\n",
       "\t    var toinsert = OutputArea.append_map[type].apply(\n",
       "\t\toa, [val, {}, selector]\n",
       "\t    );\n",
       "\t    $(container).empty().append(toinsert.contents());\n",
       "\t    selector.remove();\n",
       "\t}\n",
       "    }\n",
       "\n",
       "\n",
       "    $(document).ready(function() {\n",
       "\tfunction initComm(evt, data) {\n",
       "\t    var comm_manager = data.kernel.comm_manager;\n",
       "        //_.extend(comm_manager.targets, require(\"widgets/js/widget\"))\n",
       "\t    comm_manager.register_target(\"Signal\", function (comm) {\n",
       "            comm.on_msg(function (msg) {\n",
       "                var val = msg.content.data.value;\n",
       "                $(\".signal-\" + comm.comm_id).each(function() {\n",
       "                var type = $(this).data(\"type\");\n",
       "                if (typeof(val[type]) !== \"undefined\" && val[type] !== null) {\n",
       "                    redrawValue(this, type, val[type], type);\n",
       "                }\n",
       "                });\n",
       "                delete val;\n",
       "                delete msg.content.data.value;\n",
       "            });\n",
       "\t    });\n",
       "\n",
       "\t    // coordingate with Comm and redraw Signals\n",
       "\t    // XXX: Test using Reactive here to improve performance\n",
       "\t    $([IPython.events]).on(\n",
       "\t\t'output_appended.OutputArea', function (event, type, value, md, toinsert) {\n",
       "\t\t    if (md && md.reactive) {\n",
       "                // console.log(md.comm_id);\n",
       "                toinsert.addClass(\"signal-\" + md.comm_id);\n",
       "                toinsert.data(\"type\", type);\n",
       "                // Signal back indicating the mimetype required\n",
       "                var comm_manager = IPython.notebook.kernel.comm_manager;\n",
       "                var comm = comm_manager.comms[md.comm_id];\n",
       "                comm.then(function (c) {\n",
       "                    c.send({action: \"subscribe_mime\",\n",
       "                       mime: type});\n",
       "                    toinsert.bind(\"destroyed\", function() {\n",
       "                        c.send({action: \"unsubscribe_mime\",\n",
       "                               mime: type});\n",
       "                    });\n",
       "                })\n",
       "\t\t    }\n",
       "\t    });\n",
       "\t}\n",
       "\n",
       "\ttry {\n",
       "\t    // try to initialize right away. otherwise, wait on the status_started event.\n",
       "\t    initComm(undefined, IPython.notebook);\n",
       "\t} catch (e) {\n",
       "\t    $([IPython.events]).on('kernel_created.Kernel kernel_created.Session', initComm);\n",
       "\t}\n",
       "    });\n",
       "})(IPython, jQuery, _, MathJax);\n",
       "</script>\n",
       "    <script>\n",
       "        window.interactLoadedFlag = true\n",
       "       $(\"#interact-js-shim\").bind(\"destroyed\", function () {\n",
       "           if (window.interactLoadedFlag) {\n",
       "               console.warn(\"JavaScript required by Interact will be removed if you remove this cell or run using Interact more than once.\")\n",
       "           }\n",
       "       })\n",
       "       $([IPython.events]).on(\"kernel_starting.Kernel kernel_restarting.Kernel\", function () { window.interactLoadedFlag = false })\n",
       "   </script>\n",
       "</div>"
      ]
     },
     "metadata": {},
     "output_type": "display_data"
    }
   ],
   "source": [
    "using Interact"
   ]
  },
  {
   "cell_type": "code",
   "execution_count": 9,
   "metadata": {
    "collapsed": false
   },
   "outputs": [
    {
     "data": {
      "text/html": [],
      "text/plain": [
       "Interact.Options{:SelectionSlider,Int64}(Signal{Int64}(50, nactions=1),\"i\",50,\"50\",Interact.OptionDict(DataStructures.OrderedDict(\"1\"=>1,\"2\"=>2,\"3\"=>3,\"4\"=>4,\"5\"=>5,\"6\"=>6,\"7\"=>7,\"8\"=>8,\"9\"=>9,\"10\"=>10…),Dict(68=>\"68\",2=>\"2\",89=>\"89\",11=>\"11\",39=>\"39\",46=>\"46\",85=>\"85\",25=>\"25\",55=>\"55\",42=>\"42\"…)),Any[],Any[],true,\"horizontal\")"
      ]
     },
     "metadata": {},
     "output_type": "display_data"
    },
    {
     "name": "stdout",
     "output_type": "stream",
     "text": [
      "Woke up.\n",
      "Got message\n"
     ]
    },
    {
     "data": {
      "text/plain": [
       "50"
      ]
     },
     "execution_count": 9,
     "metadata": {
      "comm_id": "93ac3eba-5720-4498-82f8-e1f2dc91b304",
      "reactive": true
     },
     "output_type": "execute_result"
    }
   ],
   "source": [
    "@manipulate for i=1:100\n",
    "    put!(input, i)\n",
    "end"
   ]
  },
  {
   "cell_type": "markdown",
   "metadata": {},
   "source": [
    "## Adding Julia Processes, running \"Remote Tasks\""
   ]
  },
  {
   "cell_type": "code",
   "execution_count": 10,
   "metadata": {
    "collapsed": false
   },
   "outputs": [
    {
     "ename": "LoadError",
     "evalue": "could not open file /home/juser/.machines.jl",
     "output_type": "error",
     "traceback": [
      "could not open file /home/juser/.machines.jl",
      "",
      " in execute_request(::ZMQ.Socket, ::IJulia.Msg) at /home/shashi/.julia/v0.5/IJulia/src/execute_request.jl:175",
      " in eventloop(::ZMQ.Socket) at /home/shashi/.julia/v0.5/IJulia/src/eventloop.jl:8",
      " in (::IJulia.##13#19)() at ./task.jl:360"
     ]
    }
   ],
   "source": [
    "# Run if on JuliaRun on ulam.astar\n",
    "include(\"/home/juser/.machines.jl\")\n",
    "add_workers(4)"
   ]
  },
  {
   "cell_type": "code",
   "execution_count": 11,
   "metadata": {
    "collapsed": false
   },
   "outputs": [
    {
     "data": {
      "text/plain": [
       "4-element Array{Int64,1}:\n",
       " 2\n",
       " 3\n",
       " 4\n",
       " 5"
      ]
     },
     "execution_count": 11,
     "metadata": {},
     "output_type": "execute_result"
    }
   ],
   "source": [
    "# Run if using the notebook on your own computer\n",
    "addprocs(4)"
   ]
  },
  {
   "cell_type": "code",
   "execution_count": 12,
   "metadata": {
    "collapsed": false
   },
   "outputs": [
    {
     "data": {
      "text/plain": [
       "5-element Array{Int64,1}:\n",
       " 1\n",
       " 2\n",
       " 3\n",
       " 4\n",
       " 5"
      ]
     },
     "execution_count": 12,
     "metadata": {},
     "output_type": "execute_result"
    }
   ],
   "source": [
    "procs()"
   ]
  },
  {
   "cell_type": "markdown",
   "metadata": {},
   "source": [
    "## Estimate pi in parallel"
   ]
  },
  {
   "cell_type": "code",
   "execution_count": 13,
   "metadata": {
    "collapsed": false
   },
   "outputs": [
    {
     "data": {
      "text/plain": [
       "estimate_pi (generic function with 1 method)"
      ]
     },
     "execution_count": 13,
     "metadata": {},
     "output_type": "execute_result"
    }
   ],
   "source": [
    "@everywhere function trials(numsteps=1000)  # default value of the parameter\n",
    "    pos = 0 \n",
    "    for j in 1:numsteps\n",
    "        pos += Int(rand()^2 + rand()^2 < 1)\n",
    "    end\n",
    "    return pos\n",
    "end\n",
    "\n",
    "function estimate_pi(in_circle, N)\n",
    "    4in_circle / N\n",
    "end"
   ]
  },
  {
   "cell_type": "code",
   "execution_count": 14,
   "metadata": {
    "collapsed": false
   },
   "outputs": [
    {
     "data": {
      "text/plain": [
       "3.1416224"
      ]
     },
     "execution_count": 14,
     "metadata": {},
     "output_type": "execute_result"
    }
   ],
   "source": [
    "estimate_pi(trials(10^8), 10^8)"
   ]
  },
  {
   "cell_type": "code",
   "execution_count": 15,
   "metadata": {
    "collapsed": false
   },
   "outputs": [
    {
     "data": {
      "text/plain": [
       "Future(3,1,10,Nullable{Any}())"
      ]
     },
     "execution_count": 15,
     "metadata": {},
     "output_type": "execute_result"
    },
    {
     "name": "stdout",
     "output_type": "stream",
     "text": [
      "\tFrom worker 3:\tProcess 3 starting random trials\n",
      "\tFrom worker 3:\tProcess 3 done\n"
     ]
    }
   ],
   "source": [
    "# @spawnat is like @async but runs on a different process\n",
    "f=@spawnat 3 begin\n",
    "    println(\"Process \", myid(), \" starting random trials\")\n",
    "    res = trials(10^8)\n",
    "    println(\"Process \", myid(), \" done\")\n",
    "    res\n",
    "end"
   ]
  },
  {
   "cell_type": "code",
   "execution_count": 16,
   "metadata": {
    "collapsed": false
   },
   "outputs": [
    {
     "data": {
      "text/plain": [
       "Future"
      ]
     },
     "execution_count": 16,
     "metadata": {},
     "output_type": "execute_result"
    }
   ],
   "source": [
    "typeof(f)"
   ]
  },
  {
   "cell_type": "markdown",
   "metadata": {},
   "source": [
    "What's the curious `Future(3,1,12,Nullable{Any}())` thing?"
   ]
  },
  {
   "cell_type": "code",
   "execution_count": 17,
   "metadata": {
    "collapsed": false
   },
   "outputs": [
    {
     "data": {
      "text/plain": [
       "78546544"
      ]
     },
     "execution_count": 17,
     "metadata": {},
     "output_type": "execute_result"
    }
   ],
   "source": [
    "f[]"
   ]
  },
  {
   "cell_type": "code",
   "execution_count": 18,
   "metadata": {
    "collapsed": false
   },
   "outputs": [
    {
     "data": {
      "text/plain": [
       "remote_trials (generic function with 1 method)"
      ]
     },
     "execution_count": 18,
     "metadata": {},
     "output_type": "execute_result"
    }
   ],
   "source": [
    "# @spawnat is like @async but runs on a different process\n",
    "function remote_trials(pid,n)\n",
    "    @spawnat pid begin\n",
    "        println(\"Process \", myid(), \" starting trials\")\n",
    "        trials(n)\n",
    "    end\n",
    "end"
   ]
  },
  {
   "cell_type": "code",
   "execution_count": 19,
   "metadata": {
    "collapsed": false
   },
   "outputs": [
    {
     "data": {
      "text/plain": [
       "Future(2,1,12,Nullable{Any}())"
      ]
     },
     "execution_count": 19,
     "metadata": {},
     "output_type": "execute_result"
    },
    {
     "name": "stdout",
     "output_type": "stream",
     "text": [
      "\tFrom worker 2:\tProcess 2 starting random walk\n"
     ]
    }
   ],
   "source": [
    "remote_trials(2, 1000)"
   ]
  },
  {
   "cell_type": "code",
   "execution_count": 21,
   "metadata": {
    "collapsed": false
   },
   "outputs": [
    {
     "name": "stderr",
     "output_type": "stream",
     "text": [
      "WARNING: Method definition parallel_trials(Any) in module Main at In[20]:2 overwritten at In[21]:2.\n",
      "WARNING: Method definition parallel_trials(Any, Any) in module Main at In[20]:2 overwritten at In[21]:2.\n"
     ]
    },
    {
     "data": {
      "text/plain": [
       "parallel_trials (generic function with 2 methods)"
      ]
     },
     "execution_count": 21,
     "metadata": {},
     "output_type": "execute_result"
    }
   ],
   "source": [
    "function parallel_trials(n, pids=workers())\n",
    "    @time futures = [remote_trials(p,n) for p in pids]\n",
    "    sum([f[] for f in futures])\n",
    "end"
   ]
  },
  {
   "cell_type": "code",
   "execution_count": 22,
   "metadata": {
    "collapsed": false
   },
   "outputs": [
    {
     "name": "stdout",
     "output_type": "stream",
     "text": [
      " \tFrom worker 2:\tProcess 2 starting random walk\n",
      " 0.017125 seconds (2.43 k allocations: 95.375 KB)\n",
      "\tFrom worker 3:\tProcess 3 starting random walk\n",
      "\tFrom worker 4:\tProcess 4 starting random walk\n",
      "\tFrom worker 5:\tProcess 5 starting random walk\n",
      "  1.742937 seconds (51.63 k allocations: 2.473 MB)\n"
     ]
    },
    {
     "data": {
      "text/plain": [
       "3.14165907"
      ]
     },
     "execution_count": 22,
     "metadata": {},
     "output_type": "execute_result"
    }
   ],
   "source": [
    "@time estimate_pi(parallel_trials(10^8), 10^8*nworkers())"
   ]
  },
  {
   "cell_type": "code",
   "execution_count": 23,
   "metadata": {
    "collapsed": false
   },
   "outputs": [
    {
     "name": "stdout",
     "output_type": "stream",
     "text": [
      "  2.324070 seconds (10 allocations: 256 bytes)\n"
     ]
    },
    {
     "data": {
      "text/plain": [
       "3.14155176"
      ]
     },
     "execution_count": 23,
     "metadata": {},
     "output_type": "execute_result"
    }
   ],
   "source": [
    "@time estimate_pi(trials(10^8*nworkers()), 10^8*nworkers())"
   ]
  },
  {
   "cell_type": "markdown",
   "metadata": {},
   "source": [
    "## Fun using TCP: The Julia Workshop Cluster"
   ]
  },
  {
   "cell_type": "markdown",
   "metadata": {},
   "source": [
    "The following server is running on anubis.juliacomputing.com\n",
    "\n",
    "It listens to connections from YOU and requests you to run a pi estimation simulation of 10^8 trials. After every user is done, it reads the result and updates the estimate.\n",
    "\n",
    "```\n",
    "### Server:\n",
    "\n",
    "function estimate_pi(in_circle, N)\n",
    "    4in_circle / N\n",
    "end\n",
    "\n",
    "function run_server(n=10^8)\n",
    "    results = Channel()\n",
    "    @async begin\n",
    "        srvr = listen(8000)\n",
    "        while true\n",
    "            sock = accept(srvr)\n",
    "            serialize(sock, n)\n",
    "            @async begin\n",
    "                put!(results, deserialize(sock))\n",
    "            end\n",
    "        end\n",
    "    end\n",
    "\n",
    "    running_tally = (0, 0)\n",
    "    @async while true\n",
    "        c, trials = take!(results)\n",
    "        C, total_trials = running_tally\n",
    "        running_tally = (C+c, trials+total_trials)\n",
    "        println(\"Total samples: \", running_tally[2])\n",
    "        println(\"Current estimate: \", estimate_pi(running_tally...))\n",
    "    end\n",
    "end\n",
    "```"
   ]
  },
  {
   "cell_type": "markdown",
   "metadata": {},
   "source": [
    "Run the below code to run the simulation and send it to the server"
   ]
  },
  {
   "cell_type": "code",
   "execution_count": 24,
   "metadata": {
    "collapsed": false
   },
   "outputs": [
    {
     "data": {
      "text/plain": [
       "Task (runnable) @0x00007f9daa9cd600"
      ]
     },
     "execution_count": 24,
     "metadata": {},
     "output_type": "execute_result"
    },
    {
     "name": "stdout",
     "output_type": "stream",
     "text": [
      "\tFrom worker 2:\tProcess 2 starting random walk\n",
      "  0.008215 seconds (277 allocations: 14.828 KB)\n",
      "\tFrom worker 5:\tProcess 5 starting random walk\n",
      "\tFrom worker 3:\tProcess 3 starting random walk\n",
      "\tFrom worker 4:\tProcess 4 starting random walk\n"
     ]
    }
   ],
   "source": [
    "# Make available your local computation resources\n",
    "\n",
    "@async begin\n",
    "    c = connect(\"anubis.juliacomputing.com\", 8000)\n",
    "    n = deserialize(c)    # <--- Block wait for a request    \n",
    "    serialize(c, (parallel_trials(n), nworkers()))\n",
    "    close(c)\n",
    "end\n"
   ]
  },
  {
   "cell_type": "code",
   "execution_count": null,
   "metadata": {
    "collapsed": true
   },
   "outputs": [],
   "source": []
  }
 ],
 "metadata": {
  "kernelspec": {
   "display_name": "Julia 0.5.0",
   "language": "julia",
   "name": "julia-0.5"
  },
  "language_info": {
   "file_extension": ".jl",
   "mimetype": "application/julia",
   "name": "julia",
   "version": "0.5.0"
  },
  "widgets": {
   "state": {
    "0d9a3dfe-3d61-4d03-a4c2-c4e996948e0e": {
     "views": [
      {
       "cell_index": 14
      }
     ]
    }
   },
   "version": "1.2.0"
  }
 },
 "nbformat": 4,
 "nbformat_minor": 2
}
