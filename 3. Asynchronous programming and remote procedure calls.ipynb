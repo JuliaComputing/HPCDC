{
 "cells": [
  {
   "cell_type": "markdown",
   "metadata": {},
   "source": [
    "# Tasks\n",
    "\n",
    "What is a Julia Task?\n",
    "\n",
    "- very lightweight coroutines\n",
    "- Not threads!\n",
    "- Internal to and scheduled by a Julia Process"
   ]
  },
  {
   "cell_type": "code",
   "execution_count": 1,
   "metadata": {
    "collapsed": false
   },
   "outputs": [
    {
     "name": "stdout",
     "output_type": "stream",
     "text": [
      "search: \u001b[1mT\u001b[22m\u001b[1ma\u001b[22m\u001b[1ms\u001b[22m\u001b[1mk\u001b[22m \u001b[1mt\u001b[22m\u001b[1ma\u001b[22m\u001b[1ms\u001b[22m\u001b[1mk\u001b[22m_local_storage @\u001b[1mt\u001b[22m\u001b[1ma\u001b[22m\u001b[1ms\u001b[22m\u001b[1mk\u001b[22m is\u001b[1mt\u001b[22m\u001b[1ma\u001b[22m\u001b[1ms\u001b[22m\u001b[1mk\u001b[22mdone is\u001b[1mt\u001b[22m\u001b[1ma\u001b[22m\u001b[1ms\u001b[22m\u001b[1mk\u001b[22mstarted curren\u001b[1mt\u001b[22m_t\u001b[1ma\u001b[22m\u001b[1ms\u001b[22m\u001b[1mk\u001b[22m\n",
      "\n"
     ]
    },
    {
     "data": {
      "text/markdown": [
       "```\n",
       "Task(func)\n",
       "```\n",
       "\n",
       "Create a `Task` (i.e. coroutine) to execute the given function (which must be callable with no arguments). The task exits when this function returns.\n",
       "\n",
       "```jldoctest\n",
       "julia> a() = det(rand(1000, 1000));\n",
       "\n",
       "julia> b = Task(a);\n",
       "```\n",
       "\n",
       "In this example, `b` is a runnable `Task` that hasn't started yet.\n"
      ],
      "text/plain": [
       "```\n",
       "Task(func)\n",
       "```\n",
       "\n",
       "Create a `Task` (i.e. coroutine) to execute the given function (which must be callable with no arguments). The task exits when this function returns.\n",
       "\n",
       "```jldoctest\n",
       "julia> a() = det(rand(1000, 1000));\n",
       "\n",
       "julia> b = Task(a);\n",
       "```\n",
       "\n",
       "In this example, `b` is a runnable `Task` that hasn't started yet.\n"
      ]
     },
     "execution_count": 1,
     "metadata": {},
     "output_type": "execute_result"
    }
   ],
   "source": [
    "?Task"
   ]
  },
  {
   "cell_type": "code",
   "execution_count": 6,
   "metadata": {
    "collapsed": false
   },
   "outputs": [
    {
     "data": {
      "text/plain": [
       "Task (runnable) @0x0000000123fc2410"
      ]
     },
     "execution_count": 6,
     "metadata": {},
     "output_type": "execute_result"
    }
   ],
   "source": [
    "function mytask()\n",
    "    println(\"Going to take a nap.\")\n",
    "    sleep(10)\n",
    "    println(\"Woke up.\")\n",
    "    rand()\n",
    "end\n",
    "\n",
    "t=Task(mytask)"
   ]
  },
  {
   "cell_type": "markdown",
   "metadata": {},
   "source": [
    "## Scheduling a task"
   ]
  },
  {
   "cell_type": "markdown",
   "metadata": {},
   "source": [
    "**`schedule`** actually starts the task, but will *return immediately*"
   ]
  },
  {
   "cell_type": "code",
   "execution_count": 7,
   "metadata": {
    "collapsed": false
   },
   "outputs": [
    {
     "name": "stdout",
     "output_type": "stream",
     "text": [
      "Going to take a nap.\n"
     ]
    },
    {
     "data": {
      "text/plain": [
       "Task (runnable) @0x0000000123fc2410"
      ]
     },
     "execution_count": 7,
     "metadata": {},
     "output_type": "execute_result"
    }
   ],
   "source": [
    "schedule(t)"
   ]
  },
  {
   "cell_type": "markdown",
   "metadata": {},
   "source": [
    "## Waiting on a task"
   ]
  },
  {
   "cell_type": "code",
   "execution_count": 8,
   "metadata": {
    "collapsed": false
   },
   "outputs": [
    {
     "name": "stdout",
     "output_type": "stream",
     "text": [
      "Doing something else while t is taking a nap...\n",
      "Woke up.\n",
      "wait(t) = 0.29036133652429497\n",
      "  9.050541 seconds (7.31 k allocations: 408.367 KiB)\n",
      "t.state = :done\n",
      "task finished\n"
     ]
    }
   ],
   "source": [
    "println(\"Doing something else while t is taking a nap...\")\n",
    "inv(rand(100, 100))\n",
    "@time @show wait(t)\n",
    "@show t.state\n",
    "println(\"task finished\")"
   ]
  },
  {
   "cell_type": "markdown",
   "metadata": {},
   "source": [
    "## @async - syntax sugar for creating tasks and scheduling it"
   ]
  },
  {
   "cell_type": "code",
   "execution_count": 9,
   "metadata": {
    "collapsed": false
   },
   "outputs": [
    {
     "name": "stdout",
     "output_type": "stream",
     "text": [
      "Going to take a nap.\n"
     ]
    },
    {
     "data": {
      "text/plain": [
       "Task (runnable) @0x0000000123c27190"
      ]
     },
     "execution_count": 9,
     "metadata": {},
     "output_type": "execute_result"
    }
   ],
   "source": [
    "t=@async begin\n",
    "    println(\"Going to take a nap.\")\n",
    "    sleep(5)\n",
    "    println(\"Woke up.\")\n",
    "end"
   ]
  },
  {
   "cell_type": "code",
   "execution_count": 10,
   "metadata": {
    "collapsed": false
   },
   "outputs": [
    {
     "data": {
      "text/plain": [
       "42"
      ]
     },
     "execution_count": 10,
     "metadata": {},
     "output_type": "execute_result"
    },
    {
     "name": "stdout",
     "output_type": "stream",
     "text": [
      "Woke up.\n"
     ]
    }
   ],
   "source": [
    "21+21"
   ]
  },
  {
   "cell_type": "markdown",
   "metadata": {},
   "source": [
    "## Channels\n",
    "\n",
    "Allows communication between Tasks"
   ]
  },
  {
   "cell_type": "code",
   "execution_count": 26,
   "metadata": {
    "collapsed": false
   },
   "outputs": [
    {
     "data": {
      "text/plain": [
       "Task (runnable) @0x0000000125430d90"
      ]
     },
     "execution_count": 26,
     "metadata": {},
     "output_type": "execute_result"
    }
   ],
   "source": [
    "input = Channel{Int}(1)\n",
    "result = Channel{Int}(1)\n",
    "doubler = @async while true\n",
    "    x = take!(input)\n",
    "    println(\"Got message $x\")\n",
    "    put!(result, 2x)\n",
    "end\n",
    "\n",
    "printer = @async while true\n",
    "    res = take!(result)\n",
    "    @show res\n",
    "end"
   ]
  },
  {
   "cell_type": "code",
   "execution_count": 27,
   "metadata": {
    "collapsed": false
   },
   "outputs": [],
   "source": [
    "using Interact"
   ]
  },
  {
   "cell_type": "code",
   "execution_count": 28,
   "metadata": {
    "collapsed": false
   },
   "outputs": [
    {
     "data": {
      "text/html": [],
      "text/plain": [
       "Interact.Options{:SelectionSlider,Any}(21: \"input-6\" = 50 Any , \"i\", 50, \"50\", 50, Interact.OptionDict(DataStructures.OrderedDict{Any,Any}(\"1\"=>1,\"2\"=>2,\"3\"=>3,\"4\"=>4,\"5\"=>5,\"6\"=>6,\"7\"=>7,\"8\"=>8,\"9\"=>9,\"10\"=>10…), Dict{Any,Any}(Pair{Any,Any}(68, \"68\"),Pair{Any,Any}(2, \"2\"),Pair{Any,Any}(89, \"89\"),Pair{Any,Any}(11, \"11\"),Pair{Any,Any}(39, \"39\"),Pair{Any,Any}(46, \"46\"),Pair{Any,Any}(85, \"85\"),Pair{Any,Any}(25, \"25\"),Pair{Any,Any}(55, \"55\"),Pair{Any,Any}(42, \"42\")…)), Any[], Any[], true, \"horizontal\")"
      ]
     },
     "metadata": {},
     "output_type": "display_data"
    },
    {
     "name": "stdout",
     "output_type": "stream",
     "text": [
      "Got message 50\n"
     ]
    },
    {
     "data": {
      "text/plain": [
       "50"
      ]
     },
     "execution_count": 28,
     "metadata": {
      "comm_id": "87af9f5e-26a6-4dc2-ad49-004d06dafa73",
      "reactive": true
     },
     "output_type": "execute_result"
    },
    {
     "name": "stdout",
     "output_type": "stream",
     "text": [
      "res = 100\n",
      "Got message 46\n",
      "res = 92\n",
      "Got message 45\n",
      "res = 90\n",
      "Got message 44\n",
      "res = 88\n",
      "Got message 42\n",
      "res = 84\n",
      "Got message 40\n",
      "res = 80\n",
      "Got message 30\n",
      "res = 60\n",
      "Got message 31\n",
      "res = 62\n",
      "Got message 32\n",
      "res = 64\n",
      "Got message 33\n",
      "res = 66\n",
      "Got message 58\n",
      "res = 116\n",
      "Got message 61\n",
      "res = 122\n",
      "Got message 62\n",
      "res = 124\n"
     ]
    }
   ],
   "source": [
    "@manipulate for i=1:100\n",
    "    put!(input, i)\n",
    "end"
   ]
  },
  {
   "cell_type": "markdown",
   "metadata": {},
   "source": [
    "## Adding Julia Processes, running \"Remote Tasks\""
   ]
  },
  {
   "cell_type": "code",
   "execution_count": 29,
   "metadata": {
    "collapsed": false
   },
   "outputs": [
    {
     "data": {
      "text/plain": [
       "4-element Array{Int64,1}:\n",
       " 2\n",
       " 3\n",
       " 4\n",
       " 5"
      ]
     },
     "execution_count": 29,
     "metadata": {},
     "output_type": "execute_result"
    }
   ],
   "source": [
    "# Run if using the notebook on your own computer\n",
    "addprocs(4)"
   ]
  },
  {
   "cell_type": "code",
   "execution_count": 30,
   "metadata": {
    "collapsed": false
   },
   "outputs": [
    {
     "data": {
      "text/plain": [
       "5-element Array{Int64,1}:\n",
       " 1\n",
       " 2\n",
       " 3\n",
       " 4\n",
       " 5"
      ]
     },
     "execution_count": 30,
     "metadata": {},
     "output_type": "execute_result"
    }
   ],
   "source": [
    "procs()"
   ]
  },
  {
   "cell_type": "markdown",
   "metadata": {},
   "source": [
    "## Estimate pi in parallel"
   ]
  },
  {
   "cell_type": "code",
   "execution_count": 31,
   "metadata": {
    "collapsed": false
   },
   "outputs": [
    {
     "data": {
      "text/plain": [
       "estimate_pi (generic function with 1 method)"
      ]
     },
     "execution_count": 31,
     "metadata": {},
     "output_type": "execute_result"
    }
   ],
   "source": [
    "@everywhere function trials(numsteps=1000)  # default value of the parameter\n",
    "    pos = 0 \n",
    "    for j in 1:numsteps\n",
    "        pos += Int(rand()^2 + rand()^2 < 1)\n",
    "    end\n",
    "    return pos\n",
    "end\n",
    "\n",
    "function estimate_pi(in_circle, N)\n",
    "    4in_circle / N\n",
    "end"
   ]
  },
  {
   "cell_type": "code",
   "execution_count": 32,
   "metadata": {
    "collapsed": false
   },
   "outputs": [
    {
     "data": {
      "text/plain": [
       "3.14129036"
      ]
     },
     "execution_count": 32,
     "metadata": {},
     "output_type": "execute_result"
    }
   ],
   "source": [
    "estimate_pi(trials(10^8), 10^8)"
   ]
  },
  {
   "cell_type": "code",
   "execution_count": 33,
   "metadata": {
    "collapsed": false
   },
   "outputs": [
    {
     "data": {
      "text/plain": [
       "Future(3, 1, 10, Nullable{Any}())"
      ]
     },
     "execution_count": 33,
     "metadata": {},
     "output_type": "execute_result"
    },
    {
     "name": "stdout",
     "output_type": "stream",
     "text": [
      "\tFrom worker 3:\tProcess 3 starting random trials\n",
      "\tFrom worker 3:\tProcess 3 done\n"
     ]
    }
   ],
   "source": [
    "# @spawnat is like @async but runs on a different process\n",
    "f=@spawnat 3 begin\n",
    "    println(\"Process \", myid(), \" starting random trials\")\n",
    "    res = trials(10^8)\n",
    "    println(\"Process \", myid(), \" done\")\n",
    "    res\n",
    "end"
   ]
  },
  {
   "cell_type": "code",
   "execution_count": 34,
   "metadata": {
    "collapsed": false
   },
   "outputs": [
    {
     "data": {
      "text/plain": [
       "Future"
      ]
     },
     "execution_count": 34,
     "metadata": {},
     "output_type": "execute_result"
    }
   ],
   "source": [
    "typeof(f)"
   ]
  },
  {
   "cell_type": "markdown",
   "metadata": {},
   "source": [
    "What's the curious `Future(3,1,12,Nullable{Any}())` thing?"
   ]
  },
  {
   "cell_type": "code",
   "execution_count": 35,
   "metadata": {
    "collapsed": false
   },
   "outputs": [
    {
     "data": {
      "text/plain": [
       "78532694"
      ]
     },
     "execution_count": 35,
     "metadata": {},
     "output_type": "execute_result"
    }
   ],
   "source": [
    "f[]"
   ]
  },
  {
   "cell_type": "code",
   "execution_count": 36,
   "metadata": {
    "collapsed": false
   },
   "outputs": [
    {
     "data": {
      "text/plain": [
       "remote_trials (generic function with 1 method)"
      ]
     },
     "execution_count": 36,
     "metadata": {},
     "output_type": "execute_result"
    }
   ],
   "source": [
    "# @spawnat is like @async but runs on a different process\n",
    "function remote_trials(pid,n)\n",
    "    @spawnat pid begin\n",
    "        println(\"Process \", myid(), \" starting trials\")\n",
    "        trials(n)\n",
    "    end\n",
    "end"
   ]
  },
  {
   "cell_type": "code",
   "execution_count": 37,
   "metadata": {
    "collapsed": false
   },
   "outputs": [
    {
     "data": {
      "text/plain": [
       "Future(2, 1, 12, Nullable{Any}())"
      ]
     },
     "execution_count": 37,
     "metadata": {},
     "output_type": "execute_result"
    },
    {
     "name": "stdout",
     "output_type": "stream",
     "text": [
      "\tFrom worker 2:\tProcess 2 starting trials\n"
     ]
    }
   ],
   "source": [
    "remote_trials(2, 1000)"
   ]
  },
  {
   "cell_type": "code",
   "execution_count": 38,
   "metadata": {
    "collapsed": false
   },
   "outputs": [
    {
     "data": {
      "text/plain": [
       "parallel_trials (generic function with 2 methods)"
      ]
     },
     "execution_count": 38,
     "metadata": {},
     "output_type": "execute_result"
    }
   ],
   "source": [
    "function parallel_trials(n, pids=workers())\n",
    "    @time futures = [remote_trials(p,n) for p in pids]\n",
    "    sum([f[] for f in futures])\n",
    "end"
   ]
  },
  {
   "cell_type": "code",
   "execution_count": 39,
   "metadata": {
    "collapsed": false
   },
   "outputs": [
    {
     "name": "stdout",
     "output_type": "stream",
     "text": [
      "\tFrom worker 2:\tProcess 2 starting trials\n",
      "  0.025225 seconds (1.32 k allocations: 73.993 KiB)\n",
      "\tFrom worker 3:\tProcess 3 starting trials\n",
      "\tFrom worker 5:\tProcess 5 starting trials\n",
      "\tFrom worker 4:\tProcess 4 starting trials\n",
      "  1.573160 seconds (50.47 k allocations: 2.902 MiB, 0.70% gc time)\n"
     ]
    },
    {
     "data": {
      "text/plain": [
       "3.14163855"
      ]
     },
     "execution_count": 39,
     "metadata": {},
     "output_type": "execute_result"
    }
   ],
   "source": [
    "@time estimate_pi(parallel_trials(10^8), 10^8*nworkers())"
   ]
  },
  {
   "cell_type": "code",
   "execution_count": 40,
   "metadata": {
    "collapsed": false
   },
   "outputs": [
    {
     "name": "stdout",
     "output_type": "stream",
     "text": [
      "  1.884120 seconds (18 allocations: 384 bytes)\n"
     ]
    },
    {
     "data": {
      "text/plain": [
       "3.14155212"
      ]
     },
     "execution_count": 40,
     "metadata": {},
     "output_type": "execute_result"
    }
   ],
   "source": [
    "@time estimate_pi(trials(10^8*nworkers()), 10^8*nworkers())"
   ]
  },
  {
   "cell_type": "code",
   "execution_count": null,
   "metadata": {
    "collapsed": true
   },
   "outputs": [],
   "source": []
  }
 ],
 "metadata": {
  "kernelspec": {
   "display_name": "Julia 0.6.0",
   "language": "julia",
   "name": "julia-0.6"
  },
  "language_info": {
   "file_extension": ".jl",
   "mimetype": "application/julia",
   "name": "julia",
   "version": "0.6.0"
  },
  "widgets": {
   "state": {
    "6383e654-bb19-4bf6-bd43-630202425f79": {
     "views": [
      {
       "cell_index": 14
      }
     ]
    }
   },
   "version": "1.2.0"
  }
 },
 "nbformat": 4,
 "nbformat_minor": 2
}
