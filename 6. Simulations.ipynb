{
 "cells": [
  {
   "cell_type": "markdown",
   "metadata": {},
   "source": [
    "# Simulations: profiling and performance\n",
    "## Random walks\n",
    "\n",
    "In this notebook, we will look at one of the simplest types of Monte Carlo numerical simulation, random walks.\n",
    "\n",
    "In the simplest random walk, a particle starts at $0$ and jumps to the left ($-1$) or the right ($+1$) with equal probability.\n",
    "\n",
    "The following is a simple implementation of a single random walk:"
   ]
  },
  {
   "cell_type": "code",
   "execution_count": null,
   "metadata": {
    "collapsed": false
   },
   "outputs": [],
   "source": [
    "@time begin\n",
    "    \n",
    "    numsteps = 1000\n",
    "    pos = 0 \n",
    "    for j in 1:numsteps\n",
    "\n",
    "        if rand() < 0.5\n",
    "            step = -1\n",
    "        else\n",
    "            step = +1\n",
    "        end\n",
    "\n",
    "        pos += step \n",
    "    end\n",
    "    \n",
    "end"
   ]
  },
  {
   "cell_type": "markdown",
   "metadata": {},
   "source": [
    "Let's wrap it in a function, which is good programming practice, and allows us to have `numsteps` as a paramater.\n",
    "It turns out to have an additional, important effect in Julia."
   ]
  },
  {
   "cell_type": "code",
   "execution_count": null,
   "metadata": {
    "collapsed": false
   },
   "outputs": [],
   "source": [
    "\"\"\"Single 1D random walk from the origin.\n",
    "Returns the final position after `numsteps` steps.\"\"\"\n",
    "function walk(numsteps=1000)  # default value of the parameter\n",
    "    \n",
    "    pos = 0 \n",
    "    \n",
    "    for j in 1:numsteps\n",
    "\n",
    "        if rand() < 0.5   # can replace by rand(Bool)\n",
    "            step = -1\n",
    "        else\n",
    "            step = +1\n",
    "        end\n",
    "\n",
    "        pos += step \n",
    "    end\n",
    "    \n",
    "    return pos\n",
    "    \n",
    "end"
   ]
  },
  {
   "cell_type": "markdown",
   "metadata": {},
   "source": [
    "And then, let us check if it works. "
   ]
  },
  {
   "cell_type": "code",
   "execution_count": null,
   "metadata": {
    "collapsed": false
   },
   "outputs": [],
   "source": [
    "@time walk(1)"
   ]
  },
  {
   "cell_type": "code",
   "execution_count": null,
   "metadata": {
    "collapsed": false
   },
   "outputs": [],
   "source": [
    "@time walk(100)"
   ]
  },
  {
   "cell_type": "code",
   "execution_count": null,
   "metadata": {
    "collapsed": false
   },
   "outputs": [],
   "source": [
    "@time walk(1000)"
   ]
  },
  {
   "cell_type": "markdown",
   "metadata": {
    "collapsed": true
   },
   "source": [
    "## Draw a random walk"
   ]
  },
  {
   "cell_type": "markdown",
   "metadata": {},
   "source": [
    "One way to understand what each walker is doing is by visualizing its path. In Julia, most visualization is done via the `Plots` package, which an umbrella package with a uniform API across different plotting libraries (aka *backends*). Let's load the `plotly` backend."
   ]
  },
  {
   "cell_type": "code",
   "execution_count": null,
   "metadata": {
    "collapsed": false
   },
   "outputs": [],
   "source": [
    "using Plots; plotly()"
   ]
  },
  {
   "cell_type": "markdown",
   "metadata": {},
   "source": [
    "Let us record the position at each step via a new function `trajectory`"
   ]
  },
  {
   "cell_type": "code",
   "execution_count": null,
   "metadata": {
    "collapsed": false
   },
   "outputs": [],
   "source": [
    "function trajectory(numsteps=1000)\n",
    "\n",
    "    pos = 0 \n",
    "    positions = [pos]\n",
    "\n",
    "    for j in 1:numsteps\n",
    "\n",
    "        if rand() < 0.5\n",
    "            step = -1\n",
    "        else\n",
    "            step = +1\n",
    "        end\n",
    "\n",
    "        pos += step \n",
    "        push!(positions, pos)\n",
    "\n",
    "    end\n",
    "    \n",
    "    positions\n",
    "end\n"
   ]
  },
  {
   "cell_type": "markdown",
   "metadata": {},
   "source": [
    "And now, plot:"
   ]
  },
  {
   "cell_type": "code",
   "execution_count": null,
   "metadata": {
    "collapsed": false
   },
   "outputs": [],
   "source": [
    "numsteps = 1000\n",
    "plot(1:numsteps, trajectory(numsteps))"
   ]
  },
  {
   "cell_type": "markdown",
   "metadata": {},
   "source": [
    "Now let us get a sense of how much time this takes. "
   ]
  },
  {
   "cell_type": "code",
   "execution_count": null,
   "metadata": {
    "collapsed": false
   },
   "outputs": [],
   "source": [
    "using Interact"
   ]
  },
  {
   "cell_type": "code",
   "execution_count": null,
   "metadata": {
    "collapsed": false
   },
   "outputs": [],
   "source": [
    "@manipulate for k in 3:9\n",
    "    @elapsed walk(10^k)\n",
    "end"
   ]
  },
  {
   "cell_type": "code",
   "execution_count": null,
   "metadata": {
    "collapsed": false
   },
   "outputs": [],
   "source": [
    "plot(3:9, [@elapsed walk(10^k) for k = 3:9])"
   ]
  },
  {
   "cell_type": "markdown",
   "metadata": {},
   "source": [
    "## Add parallelism"
   ]
  },
  {
   "cell_type": "markdown",
   "metadata": {},
   "source": [
    "Now that we have a sense of how much time it takes, we now offload work to other Julia processes. First, let's retrieve 8 Julia processes. "
   ]
  },
  {
   "cell_type": "code",
   "execution_count": null,
   "metadata": {
    "collapsed": true
   },
   "outputs": [],
   "source": [
    "using JuliaRunClient\n",
    "ctx = Context()\n",
    "nb = self()"
   ]
  },
  {
   "cell_type": "code",
   "execution_count": null,
   "metadata": {
    "collapsed": true
   },
   "outputs": [],
   "source": [
    "initParallel()\n",
    "@result setJobScale(ctx, nb, 3)\n",
    "waitForWorkers(3)"
   ]
  },
  {
   "cell_type": "code",
   "execution_count": null,
   "metadata": {
    "collapsed": false
   },
   "outputs": [],
   "source": [
    "# addprocs(8) if you're on your laptop "
   ]
  },
  {
   "cell_type": "markdown",
   "metadata": {},
   "source": [
    "Let's now use `DArrays` to parallelize this random walk. "
   ]
  },
  {
   "cell_type": "code",
   "execution_count": null,
   "metadata": {
    "collapsed": false
   },
   "outputs": [],
   "source": [
    "@everywhere using DistributedArrays"
   ]
  },
  {
   "cell_type": "markdown",
   "metadata": {},
   "source": [
    "Here's our `walk` function again. "
   ]
  },
  {
   "cell_type": "code",
   "execution_count": null,
   "metadata": {
    "collapsed": false
   },
   "outputs": [],
   "source": [
    "@everywhere function walk(numsteps)\n",
    "    pos = 0\n",
    "\n",
    "    for j in 1:numsteps\n",
    "        \n",
    "        if rand(Bool)  # NB\n",
    "            step = -1\n",
    "        else\n",
    "            step = +1\n",
    "        end\n",
    "        \n",
    "        pos += step # ifelse(rand() < 0.5, -1, +1)\n",
    "    end\n",
    "    \n",
    "    return pos\n",
    "end"
   ]
  },
  {
   "cell_type": "markdown",
   "metadata": {},
   "source": [
    "Let us define how many walkers we want and how many steps we want them to walk. In serial, all our walkers are present on a single process."
   ]
  },
  {
   "cell_type": "code",
   "execution_count": null,
   "metadata": {
    "collapsed": false
   },
   "outputs": [],
   "source": [
    "@everywhere begin\n",
    "    numsteps   = 10000\n",
    "    numwalkers = 100000 \n",
    "end\n",
    "serialwalkers = collect(1:numwalkers)\n"
   ]
  },
  {
   "cell_type": "markdown",
   "metadata": {},
   "source": [
    "But with `distribute`, the walkers are distributed across all worker processes."
   ]
  },
  {
   "cell_type": "code",
   "execution_count": null,
   "metadata": {
    "collapsed": false
   },
   "outputs": [],
   "source": [
    "parallelwalkers = distribute(serialwalkers)"
   ]
  },
  {
   "cell_type": "markdown",
   "metadata": {},
   "source": [
    "And, as earlier, we can examine the distribution by looking at the indices stored on each worker."
   ]
  },
  {
   "cell_type": "code",
   "execution_count": null,
   "metadata": {
    "collapsed": false
   },
   "outputs": [],
   "source": [
    "parallelwalkers.indexes"
   ]
  },
  {
   "cell_type": "code",
   "execution_count": null,
   "metadata": {
    "collapsed": false
   },
   "outputs": [],
   "source": [
    "typeof(parallelwalkers)"
   ]
  },
  {
   "cell_type": "markdown",
   "metadata": {},
   "source": [
    "### Benchmarking"
   ]
  },
  {
   "cell_type": "markdown",
   "metadata": {},
   "source": [
    "Most benchmarking in Julia is done via the package `BenchmarkTools`. "
   ]
  },
  {
   "cell_type": "code",
   "execution_count": null,
   "metadata": {
    "collapsed": false
   },
   "outputs": [],
   "source": [
    "using Compat\n",
    "using BenchmarkTools"
   ]
  },
  {
   "cell_type": "markdown",
   "metadata": {},
   "source": [
    "Let us perform the random walks by calling the `map` function on all the workers. "
   ]
  },
  {
   "cell_type": "markdown",
   "metadata": {},
   "source": [
    "In serial:"
   ]
  },
  {
   "cell_type": "code",
   "execution_count": null,
   "metadata": {
    "collapsed": false,
    "scrolled": true
   },
   "outputs": [],
   "source": [
    "@benchmark map(_ -> walk(numsteps), serialwalkers)"
   ]
  },
  {
   "cell_type": "markdown",
   "metadata": {},
   "source": [
    "In parallel:"
   ]
  },
  {
   "cell_type": "code",
   "execution_count": null,
   "metadata": {
    "collapsed": false
   },
   "outputs": [],
   "source": [
    "@benchmark positions = map( _ -> walk(numsteps), parallelwalkers)"
   ]
  }
 ],
 "metadata": {
  "anaconda-cloud": {},
  "kernelspec": {
   "display_name": "Julia 0.6.0",
   "language": "julia",
   "name": "julia-0.6"
  },
  "language_info": {
   "file_extension": ".jl",
   "mimetype": "application/julia",
   "name": "julia",
   "version": "0.6.0"
  },
  "toc": {
   "nav_menu": {
    "height": "30px",
    "width": "252px"
   },
   "navigate_menu": true,
   "number_sections": true,
   "sideBar": true,
   "threshold": "2",
   "toc_cell": false,
   "toc_section_display": "block",
   "toc_window_display": false
  }
 },
 "nbformat": 4,
 "nbformat_minor": 2
}
