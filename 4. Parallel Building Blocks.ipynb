{
 "cells": [
  {
   "cell_type": "markdown",
   "metadata": {},
   "source": [
    "# Tasks"
   ]
  },
  {
   "cell_type": "markdown",
   "metadata": {},
   "source": [
    "A good first reference for most things in Julia is by referencing the documentation. You can do this by typing `?` followed by the keyword you'd like to refer. \n",
    "\n",
    "Since our first discussion is on Tasks, let us load the documentation for a `Task`:"
   ]
  },
  {
   "cell_type": "code",
   "execution_count": 1,
   "metadata": {
    "collapsed": false
   },
   "outputs": [
    {
     "name": "stdout",
     "output_type": "stream",
     "text": [
      "search: \u001b[1mT\u001b[22m\u001b[1ma\u001b[22m\u001b[1ms\u001b[22m\u001b[1mk\u001b[22m \u001b[1mt\u001b[22m\u001b[1ma\u001b[22m\u001b[1ms\u001b[22m\u001b[1mk\u001b[22m_local_storage @\u001b[1mt\u001b[22m\u001b[1ma\u001b[22m\u001b[1ms\u001b[22m\u001b[1mk\u001b[22m is\u001b[1mt\u001b[22m\u001b[1ma\u001b[22m\u001b[1ms\u001b[22m\u001b[1mk\u001b[22mdone is\u001b[1mt\u001b[22m\u001b[1ma\u001b[22m\u001b[1ms\u001b[22m\u001b[1mk\u001b[22mstarted curren\u001b[1mt\u001b[22m_t\u001b[1ma\u001b[22m\u001b[1ms\u001b[22m\u001b[1mk\u001b[22m\n",
      "\n"
     ]
    },
    {
     "data": {
      "text/markdown": [
       "```\n",
       "Task(func)\n",
       "```\n",
       "\n",
       "Create a `Task` (i.e. coroutine) to execute the given function (which must be callable with no arguments). The task exits when this function returns.\n",
       "\n",
       "```jldoctest\n",
       "julia> a() = det(rand(1000, 1000));\n",
       "\n",
       "julia> b = Task(a);\n",
       "```\n",
       "\n",
       "In this example, `b` is a runnable `Task` that hasn't started yet.\n"
      ],
      "text/plain": [
       "```\n",
       "Task(func)\n",
       "```\n",
       "\n",
       "Create a `Task` (i.e. coroutine) to execute the given function (which must be callable with no arguments). The task exits when this function returns.\n",
       "\n",
       "```jldoctest\n",
       "julia> a() = det(rand(1000, 1000));\n",
       "\n",
       "julia> b = Task(a);\n",
       "```\n",
       "\n",
       "In this example, `b` is a runnable `Task` that hasn't started yet.\n"
      ]
     },
     "execution_count": 1,
     "metadata": {},
     "output_type": "execute_result"
    }
   ],
   "source": [
    "?Task"
   ]
  },
  {
   "cell_type": "markdown",
   "metadata": {},
   "source": [
    "A Julia Task is: \n",
    "\n",
    "- a very lightweight coroutine\n",
    "- Not a thread!\n",
    "- Internal to and scheduled by a Julia Process"
   ]
  },
  {
   "cell_type": "code",
   "execution_count": 1,
   "metadata": {
    "collapsed": false
   },
   "outputs": [
    {
     "data": {
      "text/plain": [
       "Task (runnable) @0x0000000120b5ad10"
      ]
     },
     "execution_count": 1,
     "metadata": {},
     "output_type": "execute_result"
    }
   ],
   "source": [
    "function mytask()\n",
    "    println(\"Going to take a nap.\")\n",
    "    sleep(10)\n",
    "    println(\"Woke up.\")\n",
    "    rand()\n",
    "end\n",
    "\n",
    "t=Task(mytask)"
   ]
  },
  {
   "cell_type": "markdown",
   "metadata": {},
   "source": [
    "What happened here? We've created a task just like how the documentation told us. But is it running? \n",
    "\n",
    "The task is currently a `runnable`, which means that it is _created_ but not _scheduled_ yet. "
   ]
  },
  {
   "cell_type": "markdown",
   "metadata": {},
   "source": [
    "## Scheduling and waiting on a task"
   ]
  },
  {
   "cell_type": "markdown",
   "metadata": {},
   "source": [
    "`schedule` starts the task, but will *return immediately*. This means that it does **not** block the master process.\n",
    "\n",
    "(**NOTE**: Run the next two cells immediately one after the other before looking at the accompanying text)"
   ]
  },
  {
   "cell_type": "code",
   "execution_count": 2,
   "metadata": {
    "collapsed": false
   },
   "outputs": [
    {
     "name": "stdout",
     "output_type": "stream",
     "text": [
      "Going to take a nap.\n"
     ]
    },
    {
     "data": {
      "text/plain": [
       "Task (runnable) @0x0000000120b5ad10"
      ]
     },
     "execution_count": 2,
     "metadata": {},
     "output_type": "execute_result"
    }
   ],
   "source": [
    "schedule(t)"
   ]
  },
  {
   "cell_type": "markdown",
   "metadata": {},
   "source": [
    "## Waiting on a task"
   ]
  },
  {
   "cell_type": "markdown",
   "metadata": {},
   "source": [
    "The task has now been scheduled and is actively running in the background. Since it hasn't blocked the master process, we can perform some computation in the meantime. "
   ]
  },
  {
   "cell_type": "code",
   "execution_count": 3,
   "metadata": {
    "collapsed": false
   },
   "outputs": [
    {
     "name": "stdout",
     "output_type": "stream",
     "text": [
      "Doing something else while t is taking a nap...\n",
      "Woke up.\n",
      "wait(t) = 0.3386435289376857\n",
      "  4.109741 seconds (15.08 k allocations: 857.336 KiB)\n",
      "t.state = :done\n",
      "task finished\n"
     ]
    }
   ],
   "source": [
    "println(\"Doing something else while t is taking a nap...\")\n",
    "inv(rand(100, 100))\n",
    "@time @show wait(t)\n",
    "@show t.state\n",
    "println(\"task finished\")"
   ]
  },
  {
   "cell_type": "markdown",
   "metadata": {},
   "source": [
    "## `@async` - syntax sugar for creating and scheduling tasks"
   ]
  },
  {
   "cell_type": "markdown",
   "metadata": {},
   "source": [
    "Of course, we can **create and schedule tasks in one go** by putting code in an `@async` block"
   ]
  },
  {
   "cell_type": "code",
   "execution_count": 6,
   "metadata": {
    "collapsed": false
   },
   "outputs": [
    {
     "name": "stdout",
     "output_type": "stream",
     "text": [
      "Going to take a nap.\n"
     ]
    },
    {
     "data": {
      "text/plain": [
       "Task (runnable) @0x00000001214cf610"
      ]
     },
     "execution_count": 6,
     "metadata": {},
     "output_type": "execute_result"
    }
   ],
   "source": [
    "t=@async begin\n",
    "    println(\"Going to take a nap.\")\n",
    "    sleep(5)\n",
    "    println(\"Woke up.\")\n",
    "end"
   ]
  },
  {
   "cell_type": "markdown",
   "metadata": {},
   "source": [
    "Sure enough, before the 5 seconds of sleep time are up, we can schedule computation. "
   ]
  },
  {
   "cell_type": "code",
   "execution_count": 7,
   "metadata": {
    "collapsed": false
   },
   "outputs": [
    {
     "data": {
      "text/plain": [
       "42"
      ]
     },
     "execution_count": 7,
     "metadata": {},
     "output_type": "execute_result"
    },
    {
     "name": "stdout",
     "output_type": "stream",
     "text": [
      "Woke up.\n"
     ]
    }
   ],
   "source": [
    "21+21"
   ]
  },
  {
   "cell_type": "markdown",
   "metadata": {},
   "source": [
    "## Channels\n",
    "\n",
    "Channels are used for communication between Tasks. To demonstrate, consider the following simple producer-consumer model, like so:"
   ]
  },
  {
   "cell_type": "code",
   "execution_count": 8,
   "metadata": {
    "collapsed": false
   },
   "outputs": [
    {
     "data": {
      "text/plain": [
       "Task (runnable) @0x000000011efec490"
      ]
     },
     "execution_count": 8,
     "metadata": {},
     "output_type": "execute_result"
    }
   ],
   "source": [
    "input = Channel{Int}(1)\n",
    "result = Channel{Int}(1)\n",
    "doubler = @async while true\n",
    "    x = take!(input)\n",
    "    println(\"Got message $x\")\n",
    "    put!(result, 2x)\n",
    "end\n",
    "\n",
    "printer = @async while true\n",
    "    res = take!(result)\n",
    "    @show res\n",
    "end"
   ]
  },
  {
   "cell_type": "markdown",
   "metadata": {},
   "source": [
    "Now let's add some input to the `Channel` via the `put!` command."
   ]
  },
  {
   "cell_type": "code",
   "execution_count": 10,
   "metadata": {
    "collapsed": false
   },
   "outputs": [
    {
     "data": {
      "text/html": [],
      "text/plain": [
       "Interact.Options{:SelectionSlider,Any}(1: \"input\" = 50 Any , \"i\", 50, \"50\", 50, Interact.OptionDict(DataStructures.OrderedDict{Any,Any}(\"1\"=>1,\"2\"=>2,\"3\"=>3,\"4\"=>4,\"5\"=>5,\"6\"=>6,\"7\"=>7,\"8\"=>8,\"9\"=>9,\"10\"=>10…), Dict{Any,Any}(Pair{Any,Any}(68, \"68\"),Pair{Any,Any}(2, \"2\"),Pair{Any,Any}(89, \"89\"),Pair{Any,Any}(11, \"11\"),Pair{Any,Any}(39, \"39\"),Pair{Any,Any}(46, \"46\"),Pair{Any,Any}(85, \"85\"),Pair{Any,Any}(25, \"25\"),Pair{Any,Any}(55, \"55\"),Pair{Any,Any}(42, \"42\")…)), Any[], Any[], true, \"horizontal\")"
      ]
     },
     "metadata": {},
     "output_type": "display_data"
    },
    {
     "name": "stdout",
     "output_type": "stream",
     "text": [
      "Got message 50\n",
      "res = 100\n"
     ]
    },
    {
     "data": {
      "text/plain": [
       "50"
      ]
     },
     "execution_count": 10,
     "metadata": {
      "comm_id": "c89de5f4-f8ea-4dc3-b03b-dfa4ae9b83fe",
      "reactive": true
     },
     "output_type": "execute_result"
    },
    {
     "name": "stdout",
     "output_type": "stream",
     "text": [
      "Got message 46\n",
      "res = 92\n",
      "Got message 65\n",
      "res = 130\n",
      "Got message 64\n",
      "res = 128\n",
      "Got message 62\n",
      "res = 124\n",
      "Got message 57\n",
      "res = 114\n",
      "Got message 47\n",
      "res = 94\n",
      "Got message 40\n",
      "res = 80\n",
      "Got message 34\n",
      "res = 68\n",
      "Got message 30\n",
      "res = 60\n",
      "Got message 31\n",
      "res = 62\n",
      "Got message 35\n",
      "res = 70\n",
      "Got message 40\n",
      "res = 80\n"
     ]
    }
   ],
   "source": [
    "using Interact\n",
    "@manipulate for i=1:100\n",
    "    put!(input, i)\n",
    "end"
   ]
  },
  {
   "cell_type": "markdown",
   "metadata": {},
   "source": [
    "## Adding Julia Processes, running \"Remote Tasks\""
   ]
  },
  {
   "cell_type": "markdown",
   "metadata": {},
   "source": [
    "Now let's start running tasks remotely, on other Julia processes. First, we need to request our cluster manager (`JuliaRun`) for 4 worker Julia processes. Note that this means that the **master** process can now **shedule work** on the 4 worker processes. "
   ]
  },
  {
   "cell_type": "code",
   "execution_count": null,
   "metadata": {
    "collapsed": true
   },
   "outputs": [],
   "source": [
    "using JuliaRunClient\n",
    "ctx = Context()\n",
    "nb = self()"
   ]
  },
  {
   "cell_type": "code",
   "execution_count": null,
   "metadata": {
    "collapsed": true
   },
   "outputs": [],
   "source": [
    "initParallel()\n",
    "@result setJobScale(ctx, nb, 4)\n",
    "waitForWorkers(4)"
   ]
  },
  {
   "cell_type": "markdown",
   "metadata": {},
   "source": [
    "If you were on your own laptop or on a cluster that isn't set up with `JuliaRun`, you should use the `addprocs` command to initialize Julia worker processes."
   ]
  },
  {
   "cell_type": "code",
   "execution_count": 29,
   "metadata": {
    "collapsed": false
   },
   "outputs": [
    {
     "data": {
      "text/plain": [
       "4-element Array{Int64,1}:\n",
       " 2\n",
       " 3\n",
       " 4\n",
       " 5"
      ]
     },
     "execution_count": 29,
     "metadata": {},
     "output_type": "execute_result"
    }
   ],
   "source": [
    "# Run if using the notebook on your own computer\n",
    "# addprocs(4)"
   ]
  },
  {
   "cell_type": "markdown",
   "metadata": {},
   "source": [
    "Since we have a master process and 4 worker processes, the total number of processes we have initialized is 5. "
   ]
  },
  {
   "cell_type": "code",
   "execution_count": 30,
   "metadata": {
    "collapsed": false
   },
   "outputs": [
    {
     "data": {
      "text/plain": [
       "5-element Array{Int64,1}:\n",
       " 1\n",
       " 2\n",
       " 3\n",
       " 4\n",
       " 5"
      ]
     },
     "execution_count": 30,
     "metadata": {},
     "output_type": "execute_result"
    }
   ],
   "source": [
    "procs()"
   ]
  },
  {
   "cell_type": "markdown",
   "metadata": {},
   "source": [
    "Now let's consider a simple example to demonstrate the use of these new tools. \n",
    "\n"
   ]
  },
  {
   "cell_type": "markdown",
   "metadata": {},
   "source": [
    "## Estimate pi in parallel"
   ]
  },
  {
   "cell_type": "markdown",
   "metadata": {},
   "source": [
    "There's a simple monte carlo method one can use to calculate $\\pi$: \n",
    "1. Remember that the ratio of the area of a unit circle and a unit square is: \n",
    "$$ 4r^2 / \\pi r^2 = \\pi / 4$$ where $r$ is the radius of the circle.\n",
    "2. Next, remember that the square of the coordinates of a point gives you the distance from the origin. \n",
    "3. We can now randomly simulate `N` points, and calculate the fraction of points that fall within the unit circle. \n",
    "4. This is the ratio of the area of a unit circle and unit square. 4 times this ratio gives you the value of $\\pi$."
   ]
  },
  {
   "cell_type": "code",
   "execution_count": 31,
   "metadata": {
    "collapsed": false
   },
   "outputs": [
    {
     "data": {
      "text/plain": [
       "estimate_pi (generic function with 1 method)"
      ]
     },
     "execution_count": 31,
     "metadata": {},
     "output_type": "execute_result"
    }
   ],
   "source": [
    "@everywhere function trials(numsteps=1000)  # default value of the parameter\n",
    "    pos = 0 \n",
    "    for j in 1:numsteps\n",
    "        pos += Int(rand()^2 + rand()^2 < 1)\n",
    "    end\n",
    "    return pos\n",
    "end\n",
    "\n",
    "function estimate_pi(in_circle, N)\n",
    "    4in_circle / N\n",
    "end"
   ]
  },
  {
   "cell_type": "markdown",
   "metadata": {},
   "source": [
    "Let's see if it works with 10^8 trials."
   ]
  },
  {
   "cell_type": "code",
   "execution_count": 32,
   "metadata": {
    "collapsed": false
   },
   "outputs": [
    {
     "data": {
      "text/plain": [
       "3.14129036"
      ]
     },
     "execution_count": 32,
     "metadata": {},
     "output_type": "execute_result"
    }
   ],
   "source": [
    "estimate_pi(trials(10^8), 10^8)"
   ]
  },
  {
   "cell_type": "markdown",
   "metadata": {},
   "source": [
    "## `@spawnat` - schedule tasks on different procceses "
   ]
  },
  {
   "cell_type": "markdown",
   "metadata": {},
   "source": [
    "`@spawnat` is like @async but runs on a different process"
   ]
  },
  {
   "cell_type": "code",
   "execution_count": 33,
   "metadata": {
    "collapsed": false
   },
   "outputs": [
    {
     "data": {
      "text/plain": [
       "Future(3, 1, 10, Nullable{Any}())"
      ]
     },
     "execution_count": 33,
     "metadata": {},
     "output_type": "execute_result"
    },
    {
     "name": "stdout",
     "output_type": "stream",
     "text": [
      "\tFrom worker 3:\tProcess 3 starting random trials\n",
      "\tFrom worker 3:\tProcess 3 done\n"
     ]
    }
   ],
   "source": [
    "\n",
    "f=@spawnat 3 begin\n",
    "    println(\"Process \", myid(), \" starting random trials\")\n",
    "    res = trials(10^8)\n",
    "    println(\"Process \", myid(), \" done\")\n",
    "    res\n",
    "end"
   ]
  },
  {
   "cell_type": "code",
   "execution_count": 34,
   "metadata": {
    "collapsed": false
   },
   "outputs": [
    {
     "data": {
      "text/plain": [
       "Future"
      ]
     },
     "execution_count": 34,
     "metadata": {},
     "output_type": "execute_result"
    }
   ],
   "source": [
    "typeof(f)"
   ]
  },
  {
   "cell_type": "markdown",
   "metadata": {},
   "source": [
    "What's the curious `Future(3,1,12,Nullable{Any}())` thing?"
   ]
  },
  {
   "cell_type": "code",
   "execution_count": 35,
   "metadata": {
    "collapsed": false
   },
   "outputs": [
    {
     "data": {
      "text/plain": [
       "78532694"
      ]
     },
     "execution_count": 35,
     "metadata": {},
     "output_type": "execute_result"
    }
   ],
   "source": [
    "f[]"
   ]
  },
  {
   "cell_type": "markdown",
   "metadata": {},
   "source": [
    "A `Future` is a reference to the computation on a Julia worker (aka remote) process. Doing `f[]` returns its values"
   ]
  },
  {
   "cell_type": "markdown",
   "metadata": {},
   "source": [
    "Now our monte carlo simulation to estimate $\\pi$ is embarrassingly parallel, so we can offload some of the computation to another Julia process. Just like we created a task using `@async`, but this time it's running a task on a remote process."
   ]
  },
  {
   "cell_type": "code",
   "execution_count": 36,
   "metadata": {
    "collapsed": false
   },
   "outputs": [
    {
     "data": {
      "text/plain": [
       "remote_trials (generic function with 1 method)"
      ]
     },
     "execution_count": 36,
     "metadata": {},
     "output_type": "execute_result"
    }
   ],
   "source": [
    "function remote_trials(pid,n)\n",
    "    @spawnat pid begin\n",
    "        println(\"Process \", myid(), \" starting trials\")\n",
    "        trials(n)\n",
    "    end\n",
    "end"
   ]
  },
  {
   "cell_type": "markdown",
   "metadata": {},
   "source": [
    "For example, let us schedule 1000 trials on process 2. Since this task is scheduled on another process, it returns a `Future`. "
   ]
  },
  {
   "cell_type": "code",
   "execution_count": 37,
   "metadata": {
    "collapsed": false
   },
   "outputs": [
    {
     "data": {
      "text/plain": [
       "Future(2, 1, 12, Nullable{Any}())"
      ]
     },
     "execution_count": 37,
     "metadata": {},
     "output_type": "execute_result"
    },
    {
     "name": "stdout",
     "output_type": "stream",
     "text": [
      "\tFrom worker 2:\tProcess 2 starting trials\n"
     ]
    }
   ],
   "source": [
    "remote_trials(2, 1000)"
   ]
  },
  {
   "cell_type": "markdown",
   "metadata": {},
   "source": [
    "Therefore, to estimate $\\pi$ parallel, we need to spawn trials on all our worker processes.  "
   ]
  },
  {
   "cell_type": "code",
   "execution_count": 38,
   "metadata": {
    "collapsed": false
   },
   "outputs": [
    {
     "data": {
      "text/plain": [
       "parallel_trials (generic function with 2 methods)"
      ]
     },
     "execution_count": 38,
     "metadata": {},
     "output_type": "execute_result"
    }
   ],
   "source": [
    "function parallel_trials(n, pids=workers())\n",
    "    @time futures = [remote_trials(p,n) for p in pids]\n",
    "    sum([f[] for f in futures])\n",
    "end"
   ]
  },
  {
   "cell_type": "markdown",
   "metadata": {},
   "source": [
    "Each of them would start a number of trials and return the number of trials that fell within the unit circle. Eventually, we divide by the total number of trials, and estimate the value of $\\pi$. Let us see if our simulation works. "
   ]
  },
  {
   "cell_type": "code",
   "execution_count": 39,
   "metadata": {
    "collapsed": false
   },
   "outputs": [
    {
     "name": "stdout",
     "output_type": "stream",
     "text": [
      "\tFrom worker 2:\tProcess 2 starting trials\n",
      "  0.025225 seconds (1.32 k allocations: 73.993 KiB)\n",
      "\tFrom worker 3:\tProcess 3 starting trials\n",
      "\tFrom worker 5:\tProcess 5 starting trials\n",
      "\tFrom worker 4:\tProcess 4 starting trials\n",
      "  1.573160 seconds (50.47 k allocations: 2.902 MiB, 0.70% gc time)\n"
     ]
    },
    {
     "data": {
      "text/plain": [
       "3.14163855"
      ]
     },
     "execution_count": 39,
     "metadata": {},
     "output_type": "execute_result"
    }
   ],
   "source": [
    "@time estimate_pi(parallel_trials(10^8), 10^8*nworkers())"
   ]
  },
  {
   "cell_type": "markdown",
   "metadata": {},
   "source": [
    "(Remember to run it twice to get the true time!)"
   ]
  },
  {
   "cell_type": "markdown",
   "metadata": {},
   "source": [
    "Let us compare with time in serial:"
   ]
  },
  {
   "cell_type": "code",
   "execution_count": 40,
   "metadata": {
    "collapsed": false
   },
   "outputs": [
    {
     "name": "stdout",
     "output_type": "stream",
     "text": [
      "  1.884120 seconds (18 allocations: 384 bytes)\n"
     ]
    },
    {
     "data": {
      "text/plain": [
       "3.14155212"
      ]
     },
     "execution_count": 40,
     "metadata": {},
     "output_type": "execute_result"
    }
   ],
   "source": [
    "@time estimate_pi(trials(10^8*nworkers()), 10^8*nworkers())"
   ]
  },
  {
   "cell_type": "code",
   "execution_count": null,
   "metadata": {
    "collapsed": true
   },
   "outputs": [],
   "source": []
  }
 ],
 "metadata": {
  "kernelspec": {
   "display_name": "Julia 0.6.0",
   "language": "julia",
   "name": "julia-0.6"
  },
  "language_info": {
   "file_extension": ".jl",
   "mimetype": "application/julia",
   "name": "julia",
   "version": "0.6.0"
  }
 },
 "nbformat": 4,
 "nbformat_minor": 2
}
